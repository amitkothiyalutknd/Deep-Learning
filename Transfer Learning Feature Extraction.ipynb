{
  "nbformat": 4,
  "nbformat_minor": 0,
  "metadata": {
    "colab": {
      "provenance": []
    },
    "kernelspec": {
      "name": "python3",
      "display_name": "Python 3"
    },
    "language_info": {
      "name": "python"
    },
    "accelerator": "GPU",
    "gpuClass": "standard"
  },
  "cells": [
    {
      "cell_type": "code",
      "execution_count": 2,
      "metadata": {
        "colab": {
          "base_uri": "https://localhost:8080/"
        },
        "id": "Aw4kVIvPeGOI",
        "outputId": "c5cd4b1c-0fcf-4868-fa52-32527b5878fb"
      },
      "outputs": [
        {
          "output_type": "stream",
          "name": "stdout",
          "text": [
            "Warning: Your Kaggle API key is readable by other users on this system! To fix this, you can run 'chmod 600 /root/.kaggle/kaggle.json'\n",
            "Downloading dogs-vs-cats.zip to /content\n",
            "100% 1.06G/1.06G [00:49<00:00, 23.1MB/s]\n",
            "100% 1.06G/1.06G [00:49<00:00, 22.9MB/s]\n"
          ]
        }
      ],
      "source": [
        "!mkdir -p ~/.kaggle\n",
        "!cp kaggle.json ~/.kaggle/\n",
        "!kaggle datasets download -d salader/dogs-vs-cats"
      ]
    },
    {
      "cell_type": "code",
      "source": [
        "import zipfile\n",
        "zipRef = zipfile.ZipFile('/content/dogs-vs-cats.zip', 'r')\n",
        "zipRef.extractall('/content')\n",
        "zipRef.close()"
      ],
      "metadata": {
        "id": "4XJWjX7weX4m"
      },
      "execution_count": 3,
      "outputs": []
    },
    {
      "cell_type": "code",
      "source": [
        "import tensorflow\n",
        "from tensorflow import keras\n",
        "from keras import Sequential\n",
        "from keras.layers import Dense, Flatten\n",
        "from keras.applications.vgg16 import VGG16"
      ],
      "metadata": {
        "id": "sm7kvOqIfwGt"
      },
      "execution_count": 11,
      "outputs": []
    },
    {
      "cell_type": "code",
      "source": [
        "#Transfer Learning To Feature Extraction(Without Data Autmentation)\n",
        "convBase = VGG16(weights = 'imagenet', include_top = False, input_shape = (150, 150, 3))"
      ],
      "metadata": {
        "id": "_WzH-s2zgMN4"
      },
      "execution_count": 12,
      "outputs": []
    },
    {
      "cell_type": "code",
      "source": [
        "convBase.summary()"
      ],
      "metadata": {
        "colab": {
          "base_uri": "https://localhost:8080/"
        },
        "id": "z-2ZrswSgdrV",
        "outputId": "f0013142-9eaa-47b5-a871-bb0c882e1c01"
      },
      "execution_count": 13,
      "outputs": [
        {
          "output_type": "stream",
          "name": "stdout",
          "text": [
            "Model: \"vgg16\"\n",
            "_________________________________________________________________\n",
            " Layer (type)                Output Shape              Param #   \n",
            "=================================================================\n",
            " input_4 (InputLayer)        [(None, 150, 150, 3)]     0         \n",
            "                                                                 \n",
            " block1_conv1 (Conv2D)       (None, 150, 150, 64)      1792      \n",
            "                                                                 \n",
            " block1_conv2 (Conv2D)       (None, 150, 150, 64)      36928     \n",
            "                                                                 \n",
            " block1_pool (MaxPooling2D)  (None, 75, 75, 64)        0         \n",
            "                                                                 \n",
            " block2_conv1 (Conv2D)       (None, 75, 75, 128)       73856     \n",
            "                                                                 \n",
            " block2_conv2 (Conv2D)       (None, 75, 75, 128)       147584    \n",
            "                                                                 \n",
            " block2_pool (MaxPooling2D)  (None, 37, 37, 128)       0         \n",
            "                                                                 \n",
            " block3_conv1 (Conv2D)       (None, 37, 37, 256)       295168    \n",
            "                                                                 \n",
            " block3_conv2 (Conv2D)       (None, 37, 37, 256)       590080    \n",
            "                                                                 \n",
            " block3_conv3 (Conv2D)       (None, 37, 37, 256)       590080    \n",
            "                                                                 \n",
            " block3_pool (MaxPooling2D)  (None, 18, 18, 256)       0         \n",
            "                                                                 \n",
            " block4_conv1 (Conv2D)       (None, 18, 18, 512)       1180160   \n",
            "                                                                 \n",
            " block4_conv2 (Conv2D)       (None, 18, 18, 512)       2359808   \n",
            "                                                                 \n",
            " block4_conv3 (Conv2D)       (None, 18, 18, 512)       2359808   \n",
            "                                                                 \n",
            " block4_pool (MaxPooling2D)  (None, 9, 9, 512)         0         \n",
            "                                                                 \n",
            " block5_conv1 (Conv2D)       (None, 9, 9, 512)         2359808   \n",
            "                                                                 \n",
            " block5_conv2 (Conv2D)       (None, 9, 9, 512)         2359808   \n",
            "                                                                 \n",
            " block5_conv3 (Conv2D)       (None, 9, 9, 512)         2359808   \n",
            "                                                                 \n",
            " block5_pool (MaxPooling2D)  (None, 4, 4, 512)         0         \n",
            "                                                                 \n",
            "=================================================================\n",
            "Total params: 14,714,688\n",
            "Trainable params: 14,714,688\n",
            "Non-trainable params: 0\n",
            "_________________________________________________________________\n"
          ]
        }
      ]
    },
    {
      "cell_type": "code",
      "source": [
        "model = Sequential()\n",
        "\n",
        "model.add(convBase)\n",
        "model.add(Flatten())\n",
        "model.add(Dense(256, activation = 'relu'))\n",
        "model.add(Dense(1, activation = 'sigmoid'))\n",
        "\n",
        "model.summary()"
      ],
      "metadata": {
        "colab": {
          "base_uri": "https://localhost:8080/"
        },
        "id": "gqFWJZJug1qy",
        "outputId": "ca1b87f3-7d85-4b1d-e00d-bc4a9c626f08"
      },
      "execution_count": 33,
      "outputs": [
        {
          "output_type": "stream",
          "name": "stdout",
          "text": [
            "Model: \"sequential_2\"\n",
            "_________________________________________________________________\n",
            " Layer (type)                Output Shape              Param #   \n",
            "=================================================================\n",
            " vgg16 (Functional)          (None, 4, 4, 512)         14714688  \n",
            "                                                                 \n",
            " flatten_2 (Flatten)         (None, 8192)              0         \n",
            "                                                                 \n",
            " dense_4 (Dense)             (None, 256)               2097408   \n",
            "                                                                 \n",
            " dense_5 (Dense)             (None, 1)                 257       \n",
            "                                                                 \n",
            "=================================================================\n",
            "Total params: 16,812,353\n",
            "Trainable params: 2,097,665\n",
            "Non-trainable params: 14,714,688\n",
            "_________________________________________________________________\n"
          ]
        }
      ]
    },
    {
      "cell_type": "code",
      "source": [
        "convBase.trainable = False"
      ],
      "metadata": {
        "id": "SUgnue4chM9m"
      },
      "execution_count": 32,
      "outputs": []
    },
    {
      "cell_type": "code",
      "source": [
        "trainDS = keras.utils.image_dataset_from_directory(\n",
        "    directory = '/content/train', labels = 'inferred', label_mode = 'int', batch_size = 32, image_size = (150, 150)\n",
        ")\n",
        "\n",
        "validationDS = keras.utils.image_dataset_from_directory(\n",
        "    directory = '/content/test', labels = 'inferred', label_mode = 'int', batch_size = 32, image_size = (150, 150)\n",
        ")"
      ],
      "metadata": {
        "colab": {
          "base_uri": "https://localhost:8080/"
        },
        "id": "ZrzR5cg6hYb0",
        "outputId": "5fd5aa00-35a1-4c37-d5fc-b245c717466e"
      },
      "execution_count": 34,
      "outputs": [
        {
          "output_type": "stream",
          "name": "stdout",
          "text": [
            "Found 20000 files belonging to 2 classes.\n",
            "Found 5000 files belonging to 2 classes.\n"
          ]
        }
      ]
    },
    {
      "cell_type": "code",
      "source": [
        "def process(image, label):\n",
        "  image = tensorflow.cast(image/255. , tensorflow.float32)\n",
        "  return image, label\n",
        "\n",
        "trainDS = trainDS.map(process)\n",
        "validationDS = validationDS.map(process)"
      ],
      "metadata": {
        "id": "sxS4rHu_iF6w"
      },
      "execution_count": 35,
      "outputs": []
    },
    {
      "cell_type": "code",
      "source": [
        "model.compile(optimizer = 'adam', loss= 'binary_crossentropy', metrics = ['accuracy'])\n",
        "traininglog = model.fit(trainDS, epochs = 10, validation_data = validationDS)"
      ],
      "metadata": {
        "colab": {
          "base_uri": "https://localhost:8080/"
        },
        "id": "JltgS-a7io5b",
        "outputId": "81e8a353-af2a-4726-b14d-b5b3e3e3e921"
      },
      "execution_count": 36,
      "outputs": [
        {
          "output_type": "stream",
          "name": "stdout",
          "text": [
            "Epoch 1/10\n",
            "625/625 [==============================] - 64s 100ms/step - loss: 0.2772 - accuracy: 0.8830 - val_loss: 0.2100 - val_accuracy: 0.9092\n",
            "Epoch 2/10\n",
            "625/625 [==============================] - 64s 102ms/step - loss: 0.1969 - accuracy: 0.9186 - val_loss: 0.2142 - val_accuracy: 0.9090\n",
            "Epoch 3/10\n",
            "625/625 [==============================] - 64s 102ms/step - loss: 0.1681 - accuracy: 0.9302 - val_loss: 0.2057 - val_accuracy: 0.9140\n",
            "Epoch 4/10\n",
            "625/625 [==============================] - 64s 102ms/step - loss: 0.1508 - accuracy: 0.9398 - val_loss: 0.2148 - val_accuracy: 0.9116\n",
            "Epoch 5/10\n",
            "625/625 [==============================] - 64s 103ms/step - loss: 0.1292 - accuracy: 0.9484 - val_loss: 0.2212 - val_accuracy: 0.9120\n",
            "Epoch 6/10\n",
            "625/625 [==============================] - 64s 102ms/step - loss: 0.1088 - accuracy: 0.9558 - val_loss: 0.2409 - val_accuracy: 0.9068\n",
            "Epoch 7/10\n",
            "625/625 [==============================] - 65s 103ms/step - loss: 0.0936 - accuracy: 0.9632 - val_loss: 0.2494 - val_accuracy: 0.9136\n",
            "Epoch 8/10\n",
            "625/625 [==============================] - 65s 103ms/step - loss: 0.0737 - accuracy: 0.9725 - val_loss: 0.2795 - val_accuracy: 0.9142\n",
            "Epoch 9/10\n",
            "625/625 [==============================] - 65s 103ms/step - loss: 0.0618 - accuracy: 0.9761 - val_loss: 0.2990 - val_accuracy: 0.9148\n",
            "Epoch 10/10\n",
            "625/625 [==============================] - 65s 104ms/step - loss: 0.0428 - accuracy: 0.9854 - val_loss: 0.3267 - val_accuracy: 0.9098\n"
          ]
        }
      ]
    },
    {
      "cell_type": "code",
      "source": [
        "import matplotlib.pyplot as plt\n",
        "\n",
        "plt.plot(traininglog.history['accuracy'], color = 'cyan', label = 'TrainAccuracy')\n",
        "plt.plot(traininglog.history['val_accuracy'], color = 'green', label = 'ValidationAccuracy')\n",
        "plt.plot(traininglog.history['loss'], color = 'blue', label = 'TrainLoss')\n",
        "plt.plot(traininglog.history['val_loss'], color = 'red', label = 'ValidationLoss')\n",
        "plt.legend()\n",
        "plt.show()"
      ],
      "metadata": {
        "colab": {
          "base_uri": "https://localhost:8080/",
          "height": 265
        },
        "id": "0nRFXhkmizpV",
        "outputId": "2e5427ad-246f-4885-bac2-c4b598b7dda7"
      },
      "execution_count": 38,
      "outputs": [
        {
          "output_type": "display_data",
          "data": {
            "text/plain": [
              "<Figure size 432x288 with 1 Axes>"
            ],
            "image/png": "[encoded data removed]"
          },
          "metadata": {
            "needs_background": "light"
          }
        }
      ]
    },
    {
      "cell_type": "code",
      "source": [
        "#Transfer Learning To Feature Extraction(With Data Autmentation)\n",
        "convBase = VGG16(weights = 'imagenet', include_top = False, input_shape = (150, 150, 3))"
      ],
      "metadata": {
        "id": "q0fEJG2vqNMr"
      },
      "execution_count": 39,
      "outputs": []
    },
    {
      "cell_type": "code",
      "source": [
        "model = Sequential()\n",
        "\n",
        "model.add(convBase)\n",
        "model.add(Flatten())\n",
        "model.add(Dense(256,activation='relu'))\n",
        "model.add(Dense(1,activation='sigmoid'))\n",
        "\n",
        "model.summary()"
      ],
      "metadata": {
        "colab": {
          "base_uri": "https://localhost:8080/"
        },
        "id": "R9Ceq6AcqRv_",
        "outputId": "d4814b6f-2ac7-4488-a1cb-3b4e84d35d5d"
      },
      "execution_count": 43,
      "outputs": [
        {
          "output_type": "stream",
          "name": "stdout",
          "text": [
            "Model: \"sequential_5\"\n",
            "_________________________________________________________________\n",
            " Layer (type)                Output Shape              Param #   \n",
            "=================================================================\n",
            " vgg16 (Functional)          (None, 4, 4, 512)         14714688  \n",
            "                                                                 \n",
            " flatten_5 (Flatten)         (None, 8192)              0         \n",
            "                                                                 \n",
            " dense_10 (Dense)            (None, 256)               2097408   \n",
            "                                                                 \n",
            " dense_11 (Dense)            (None, 1)                 257       \n",
            "                                                                 \n",
            "=================================================================\n",
            "Total params: 16,812,353\n",
            "Trainable params: 2,097,665\n",
            "Non-trainable params: 14,714,688\n",
            "_________________________________________________________________\n"
          ]
        }
      ]
    },
    {
      "cell_type": "code",
      "source": [
        "convBase.trainable = False"
      ],
      "metadata": {
        "id": "YgUJbE_YWpuD"
      },
      "execution_count": 41,
      "outputs": []
    },
    {
      "cell_type": "code",
      "source": [
        "from keras_preprocessing.image import ImageDataGenerator, array_to_img, img_to_array, load_img\n",
        "\n",
        "batchSize = 32\n",
        "\n",
        "trainDatagen = ImageDataGenerator(\n",
        "    rescale = 1/255, shear_range = 0.2, zoom_range = 0.2, horizontal_flip = True\n",
        ")\n",
        "\n",
        "testDatagen = ImageDataGenerator(rescale = 1/255)\n",
        "\n",
        "trainGenerator = trainDatagen.flow_from_directory(\n",
        "    directory = '/content/train', target_size = (150, 150), batch_size = batchSize, class_mode = 'binary'\n",
        ")\n",
        "\n",
        "validationGenerator = testDatagen.flow_from_directory(\n",
        "    directory = '/content/test', target_size = (150, 150), batch_size = batchSize, class_mode = 'binary'\n",
        ")"
      ],
      "metadata": {
        "colab": {
          "base_uri": "https://localhost:8080/"
        },
        "id": "2RdW21GgkCUI",
        "outputId": "48fdbc1e-d5d1-4140-b07b-92c352479779"
      },
      "execution_count": 50,
      "outputs": [
        {
          "output_type": "stream",
          "name": "stdout",
          "text": [
            "Found 20000 images belonging to 2 classes.\n",
            "Found 5000 images belonging to 2 classes.\n"
          ]
        }
      ]
    },
    {
      "cell_type": "code",
      "source": [
        "model.compile(optimizer = 'adam', loss = 'binary_crossentropy', metrics = ['accuracy'])\n",
        "traininglog = model.fit_generator(trainGenerator, epochs = 10, validation_data = validationGenerator)"
      ],
      "metadata": {
        "colab": {
          "base_uri": "https://localhost:8080/"
        },
        "id": "jAvfTodykCJE",
        "outputId": "1f2de1b3-ee07-4c48-c3e6-a142df3f0705"
      },
      "execution_count": 52,
      "outputs": [
        {
          "output_type": "stream",
          "name": "stderr",
          "text": [
            "<ipython-input-52-23d819ed11ca>:2: UserWarning: `Model.fit_generator` is deprecated and will be removed in a future version. Please use `Model.fit`, which supports generators.\n",
            "  traininglog = model.fit_generator(trainGenerator, epochs = 10, validation_data = validationGenerator)\n"
          ]
        },
        {
          "output_type": "stream",
          "name": "stdout",
          "text": [
            "Epoch 1/10\n",
            "625/625 [==============================] - 171s 272ms/step - loss: 0.3069 - accuracy: 0.8683 - val_loss: 0.2233 - val_accuracy: 0.9034\n",
            "Epoch 2/10\n",
            "625/625 [==============================] - 164s 262ms/step - loss: 0.2380 - accuracy: 0.8996 - val_loss: 0.2977 - val_accuracy: 0.8760\n",
            "Epoch 3/10\n",
            "625/625 [==============================] - 162s 258ms/step - loss: 0.2231 - accuracy: 0.9033 - val_loss: 0.2025 - val_accuracy: 0.9128\n",
            "Epoch 4/10\n",
            "625/625 [==============================] - 163s 260ms/step - loss: 0.2119 - accuracy: 0.9094 - val_loss: 0.2108 - val_accuracy: 0.9114\n",
            "Epoch 5/10\n",
            "625/625 [==============================] - 162s 260ms/step - loss: 0.2021 - accuracy: 0.9140 - val_loss: 0.1974 - val_accuracy: 0.9182\n",
            "Epoch 6/10\n",
            "625/625 [==============================] - 167s 268ms/step - loss: 0.1911 - accuracy: 0.9181 - val_loss: 0.1932 - val_accuracy: 0.9184\n",
            "Epoch 7/10\n",
            "625/625 [==============================] - 164s 262ms/step - loss: 0.1834 - accuracy: 0.9216 - val_loss: 0.2069 - val_accuracy: 0.9158\n",
            "Epoch 8/10\n",
            "625/625 [==============================] - 163s 261ms/step - loss: 0.1749 - accuracy: 0.9253 - val_loss: 0.1971 - val_accuracy: 0.9156\n",
            "Epoch 9/10\n",
            "625/625 [==============================] - 162s 260ms/step - loss: 0.1675 - accuracy: 0.9293 - val_loss: 0.1927 - val_accuracy: 0.9182\n",
            "Epoch 10/10\n",
            "625/625 [==============================] - 163s 260ms/step - loss: 0.1573 - accuracy: 0.9341 - val_loss: 0.1920 - val_accuracy: 0.9180\n"
          ]
        }
      ]
    },
    {
      "cell_type": "code",
      "source": [
        "plt.plot(traininglog.history['accuracy'], color = 'cyan', label = 'TrainAccuracy')\n",
        "plt.plot(traininglog.history['val_accuracy'], color = 'green', label = 'ValidationAccuracy')\n",
        "plt.plot(traininglog.history['loss'], color = 'blue', label = 'TrainLoss')\n",
        "plt.plot(traininglog.history['val_loss'], color = 'red', label = 'ValidationLoss')\n",
        "plt.legend()\n",
        "plt.show()"
      ],
      "metadata": {
        "colab": {
          "base_uri": "https://localhost:8080/",
          "height": 265
        },
        "id": "NdL8hKG6kB9T",
        "outputId": "105faeb5-6586-4ace-bdeb-c97af907f67b"
      },
      "execution_count": 53,
      "outputs": [
        {
          "output_type": "display_data",
          "data": {
            "text/plain": [
              "<Figure size 432x288 with 1 Axes>"
            ],
            "image/png": "[encoded data removed]"
          },
          "metadata": {
            "needs_background": "light"
          }
        }
      ]
    },
    {
      "cell_type": "code",
      "source": [
        "#Transfer Learning To Feature Extraction(With Fine Tuneing)\n",
        "convBase = VGG16(weights = 'imagenet', include_top = False, input_shape = (150, 150, 3))"
      ],
      "metadata": {
        "id": "rX4xHH7dj_P9"
      },
      "execution_count": 54,
      "outputs": []
    },
    {
      "cell_type": "code",
      "source": [
        "convBase.trainable = True\n",
        "\n",
        "set_trainable = False\n",
        "\n",
        "for layer in convBase.layers:\n",
        "  if layer.name == 'block5_conv1':\n",
        "    set_trainable = True\n",
        "  if set_trainable:\n",
        "    layer.trainable = True\n",
        "  else:\n",
        "    layer.trainable = False\n",
        "\n",
        "for layer in convBase.layers:\n",
        "  print(layer.name,layer.trainable)"
      ],
      "metadata": {
        "colab": {
          "base_uri": "https://localhost:8080/"
        },
        "id": "u3kOZFf6uzA6",
        "outputId": "303a0ad4-4bfd-44f4-c72f-c4aad6f3870b"
      },
      "execution_count": 55,
      "outputs": [
        {
          "output_type": "stream",
          "name": "stdout",
          "text": [
            "input_7 False\n",
            "block1_conv1 False\n",
            "block1_conv2 False\n",
            "block1_pool False\n",
            "block2_conv1 False\n",
            "block2_conv2 False\n",
            "block2_pool False\n",
            "block3_conv1 False\n",
            "block3_conv2 False\n",
            "block3_conv3 False\n",
            "block3_pool False\n",
            "block4_conv1 False\n",
            "block4_conv2 False\n",
            "block4_conv3 False\n",
            "block4_pool False\n",
            "block5_conv1 True\n",
            "block5_conv2 True\n",
            "block5_conv3 True\n",
            "block5_pool True\n"
          ]
        }
      ]
    },
    {
      "cell_type": "code",
      "source": [
        "convBase.summary()"
      ],
      "metadata": {
        "colab": {
          "base_uri": "https://localhost:8080/"
        },
        "id": "dQQYHgVquy_F",
        "outputId": "140936ef-ecfe-43c9-9067-0c682ccf0942"
      },
      "execution_count": 56,
      "outputs": [
        {
          "output_type": "stream",
          "name": "stdout",
          "text": [
            "Model: \"vgg16\"\n",
            "_________________________________________________________________\n",
            " Layer (type)                Output Shape              Param #   \n",
            "=================================================================\n",
            " input_7 (InputLayer)        [(None, 150, 150, 3)]     0         \n",
            "                                                                 \n",
            " block1_conv1 (Conv2D)       (None, 150, 150, 64)      1792      \n",
            "                                                                 \n",
            " block1_conv2 (Conv2D)       (None, 150, 150, 64)      36928     \n",
            "                                                                 \n",
            " block1_pool (MaxPooling2D)  (None, 75, 75, 64)        0         \n",
            "                                                                 \n",
            " block2_conv1 (Conv2D)       (None, 75, 75, 128)       73856     \n",
            "                                                                 \n",
            " block2_conv2 (Conv2D)       (None, 75, 75, 128)       147584    \n",
            "                                                                 \n",
            " block2_pool (MaxPooling2D)  (None, 37, 37, 128)       0         \n",
            "                                                                 \n",
            " block3_conv1 (Conv2D)       (None, 37, 37, 256)       295168    \n",
            "                                                                 \n",
            " block3_conv2 (Conv2D)       (None, 37, 37, 256)       590080    \n",
            "                                                                 \n",
            " block3_conv3 (Conv2D)       (None, 37, 37, 256)       590080    \n",
            "                                                                 \n",
            " block3_pool (MaxPooling2D)  (None, 18, 18, 256)       0         \n",
            "                                                                 \n",
            " block4_conv1 (Conv2D)       (None, 18, 18, 512)       1180160   \n",
            "                                                                 \n",
            " block4_conv2 (Conv2D)       (None, 18, 18, 512)       2359808   \n",
            "                                                                 \n",
            " block4_conv3 (Conv2D)       (None, 18, 18, 512)       2359808   \n",
            "                                                                 \n",
            " block4_pool (MaxPooling2D)  (None, 9, 9, 512)         0         \n",
            "                                                                 \n",
            " block5_conv1 (Conv2D)       (None, 9, 9, 512)         2359808   \n",
            "                                                                 \n",
            " block5_conv2 (Conv2D)       (None, 9, 9, 512)         2359808   \n",
            "                                                                 \n",
            " block5_conv3 (Conv2D)       (None, 9, 9, 512)         2359808   \n",
            "                                                                 \n",
            " block5_pool (MaxPooling2D)  (None, 4, 4, 512)         0         \n",
            "                                                                 \n",
            "=================================================================\n",
            "Total params: 14,714,688\n",
            "Trainable params: 7,079,424\n",
            "Non-trainable params: 7,635,264\n",
            "_________________________________________________________________\n"
          ]
        }
      ]
    },
    {
      "cell_type": "code",
      "source": [
        "model = Sequential()\n",
        "\n",
        "model.add(convBase)\n",
        "model.add(Flatten())\n",
        "model.add(Dense(256,activation='relu'))\n",
        "model.add(Dense(1,activation='sigmoid'))\n",
        "\n",
        "model.summary()"
      ],
      "metadata": {
        "colab": {
          "base_uri": "https://localhost:8080/"
        },
        "id": "yYta3mDtuy8Z",
        "outputId": "1b8c4655-100d-41d8-b3bc-2c372cf69e19"
      },
      "execution_count": 57,
      "outputs": [
        {
          "output_type": "stream",
          "name": "stdout",
          "text": [
            "Model: \"sequential_6\"\n",
            "_________________________________________________________________\n",
            " Layer (type)                Output Shape              Param #   \n",
            "=================================================================\n",
            " vgg16 (Functional)          (None, 4, 4, 512)         14714688  \n",
            "                                                                 \n",
            " flatten_6 (Flatten)         (None, 8192)              0         \n",
            "                                                                 \n",
            " dense_12 (Dense)            (None, 256)               2097408   \n",
            "                                                                 \n",
            " dense_13 (Dense)            (None, 1)                 257       \n",
            "                                                                 \n",
            "=================================================================\n",
            "Total params: 16,812,353\n",
            "Trainable params: 9,177,089\n",
            "Non-trainable params: 7,635,264\n",
            "_________________________________________________________________\n"
          ]
        }
      ]
    },
    {
      "cell_type": "code",
      "source": [
        "# generators\n",
        "trainDS = keras.utils.image_dataset_from_directory(\n",
        "    directory = '/content/train', labels = 'inferred', label_mode = 'int', batch_size = 32, image_size=(150,150)\n",
        ")\n",
        "\n",
        "validationDS = keras.utils.image_dataset_from_directory(\n",
        "    directory = '/content/test', labels = 'inferred', label_mode = 'int', batch_size = 32, image_size=(150,150)\n",
        ")"
      ],
      "metadata": {
        "colab": {
          "base_uri": "https://localhost:8080/"
        },
        "id": "fdj1GbWEuy56",
        "outputId": "fd722271-1512-44f3-dcb6-7cba0e80598f"
      },
      "execution_count": 58,
      "outputs": [
        {
          "output_type": "stream",
          "name": "stdout",
          "text": [
            "Found 20000 files belonging to 2 classes.\n",
            "Found 5000 files belonging to 2 classes.\n"
          ]
        }
      ]
    },
    {
      "cell_type": "code",
      "source": [
        "# Normalize\n",
        "def process(image, label):\n",
        "    image = tensorflow.cast(image/255. ,tensorflow.float32)\n",
        "    return image, label\n",
        "\n",
        "trainDS = trainDS.map(process)\n",
        "validationDS = validationDS.map(process)"
      ],
      "metadata": {
        "id": "qH7Pe7yjuy2B"
      },
      "execution_count": 59,
      "outputs": []
    },
    {
      "cell_type": "code",
      "source": [
        "model.compile(optimizer=keras.optimizers.RMSprop(lr=1e-5), loss='binary_crossentropy', metrics=['accuracy'])\n",
        "traininglog = model.fit(trainDS, epochs=10, validation_data = validationDS)"
      ],
      "metadata": {
        "colab": {
          "base_uri": "https://localhost:8080/"
        },
        "id": "fWNotu_iuy0o",
        "outputId": "4be19414-1f1e-41eb-c2f4-d8f7190714aa"
      },
      "execution_count": 60,
      "outputs": [
        {
          "output_type": "stream",
          "name": "stdout",
          "text": [
            "Epoch 1/10\n"
          ]
        },
        {
          "output_type": "stream",
          "name": "stderr",
          "text": [
            "/usr/local/lib/python3.8/dist-packages/keras/optimizers/optimizer_v2/rmsprop.py:135: UserWarning: The `lr` argument is deprecated, use `learning_rate` instead.\n",
            "  super(RMSprop, self).__init__(name, **kwargs)\n"
          ]
        },
        {
          "output_type": "stream",
          "name": "stdout",
          "text": [
            "625/625 [==============================] - 77s 120ms/step - loss: 0.2377 - accuracy: 0.8989 - val_loss: 0.1676 - val_accuracy: 0.9308\n",
            "Epoch 2/10\n",
            "625/625 [==============================] - 75s 119ms/step - loss: 0.1337 - accuracy: 0.9481 - val_loss: 0.1435 - val_accuracy: 0.9428\n",
            "Epoch 3/10\n",
            "625/625 [==============================] - 83s 133ms/step - loss: 0.0938 - accuracy: 0.9653 - val_loss: 0.1323 - val_accuracy: 0.9470\n",
            "Epoch 4/10\n",
            "625/625 [==============================] - 75s 120ms/step - loss: 0.0645 - accuracy: 0.9779 - val_loss: 0.1210 - val_accuracy: 0.9496\n",
            "Epoch 5/10\n",
            "625/625 [==============================] - 75s 119ms/step - loss: 0.0438 - accuracy: 0.9859 - val_loss: 0.1365 - val_accuracy: 0.9490\n",
            "Epoch 6/10\n",
            "625/625 [==============================] - 75s 119ms/step - loss: 0.0272 - accuracy: 0.9933 - val_loss: 0.1300 - val_accuracy: 0.9560\n",
            "Epoch 7/10\n",
            "625/625 [==============================] - 83s 132ms/step - loss: 0.0173 - accuracy: 0.9955 - val_loss: 0.1450 - val_accuracy: 0.9540\n",
            "Epoch 8/10\n",
            "625/625 [==============================] - 75s 120ms/step - loss: 0.0113 - accuracy: 0.9973 - val_loss: 0.1516 - val_accuracy: 0.9572\n",
            "Epoch 9/10\n",
            "625/625 [==============================] - 75s 119ms/step - loss: 0.0067 - accuracy: 0.9984 - val_loss: 0.3164 - val_accuracy: 0.9280\n",
            "Epoch 10/10\n",
            "625/625 [==============================] - 75s 120ms/step - loss: 0.0052 - accuracy: 0.9987 - val_loss: 0.1822 - val_accuracy: 0.9558\n"
          ]
        }
      ]
    },
    {
      "cell_type": "code",
      "source": [
        "plt.plot(traininglog.history['accuracy'], color = 'cyan', label = 'TrainAccuracy')\n",
        "plt.plot(traininglog.history['val_accuracy'], color = 'green', label = 'ValidationAccuracy')\n",
        "plt.plot(traininglog.history['loss'], color = 'blue', label = 'TrainLoss')\n",
        "plt.plot(traininglog.history['val_loss'], color = 'red', label = 'ValidationLoss')\n",
        "plt.legend()\n",
        "plt.show()"
      ],
      "metadata": {
        "colab": {
          "base_uri": "https://localhost:8080/",
          "height": 265
        },
        "id": "CzD43lQnuyto",
        "outputId": "390d3842-8225-4c6c-dcdf-1090f0521c83"
      },
      "execution_count": 61,
      "outputs": [
        {
          "output_type": "display_data",
          "data": {
            "text/plain": [
              "<Figure size 432x288 with 1 Axes>"
            ],
            "image/png": "[encoded data removed]"
          },
          "metadata": {
            "needs_background": "light"
          }
        }
      ]
    },
    {
      "cell_type": "code",
      "source": [],
      "metadata": {
        "id": "nbgP4OxSuybj"
      },
      "execution_count": 61,
      "outputs": []
    }
  ]
}