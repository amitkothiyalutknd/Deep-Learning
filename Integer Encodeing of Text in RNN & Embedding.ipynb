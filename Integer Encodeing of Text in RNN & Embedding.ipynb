{
  "nbformat": 4,
  "nbformat_minor": 0,
  "metadata": {
    "colab": {
      "provenance": []
    },
    "kernelspec": {
      "name": "python3",
      "display_name": "Python 3"
    },
    "language_info": {
      "name": "python"
    },
    "accelerator": "GPU",
    "gpuClass": "standard"
  },
  "cells": [
    {
      "cell_type": "code",
      "execution_count": 1,
      "metadata": {
        "id": "FkA-zlBXfJLb"
      },
      "outputs": [],
      "source": [
        "import  numpy as ny\n",
        "\n",
        "texts = [\"War Against Corruption\", \"Be Healthy Be Fit\", \"Achieve & uprise your career\", \"Holiday vacation in Los Angeles\", \"Good reputed job in international company\",\n",
        "        \"Travelling in yacht\", \"Fifa wc final\", \"Earn in high scale\", \"Visit to 7 wonderland\", \"sea diving\"]"
      ]
    },
    {
      "cell_type": "code",
      "source": [
        "from keras.preprocessing.text import Tokenizer\n",
        "tokenizer = Tokenizer(oov_token = \"winner\")"
      ],
      "metadata": {
        "id": "9FNnXw41jKSN"
      },
      "execution_count": 2,
      "outputs": []
    },
    {
      "cell_type": "code",
      "source": [
        "tokenizer.fit_on_texts(texts)"
      ],
      "metadata": {
        "id": "Wsj7ot5kjpSB"
      },
      "execution_count": 3,
      "outputs": []
    },
    {
      "cell_type": "code",
      "source": [
        "tokenizer.word_index"
      ],
      "metadata": {
        "colab": {
          "base_uri": "https://localhost:8080/"
        },
        "id": "4enUp8WwjtJn",
        "outputId": "5a8ac06d-aab3-4ca2-f758-8d129ad69b69"
      },
      "execution_count": 4,
      "outputs": [
        {
          "output_type": "execute_result",
          "data": {
            "text/plain": [
              "{'winner': 1,\n",
              " 'in': 2,\n",
              " 'be': 3,\n",
              " 'war': 4,\n",
              " 'against': 5,\n",
              " 'corruption': 6,\n",
              " 'healthy': 7,\n",
              " 'fit': 8,\n",
              " 'achieve': 9,\n",
              " 'uprise': 10,\n",
              " 'your': 11,\n",
              " 'career': 12,\n",
              " 'holiday': 13,\n",
              " 'vacation': 14,\n",
              " 'los': 15,\n",
              " 'angeles': 16,\n",
              " 'good': 17,\n",
              " 'reputed': 18,\n",
              " 'job': 19,\n",
              " 'international': 20,\n",
              " 'company': 21,\n",
              " 'travelling': 22,\n",
              " 'yacht': 23,\n",
              " 'fifa': 24,\n",
              " 'wc': 25,\n",
              " 'final': 26,\n",
              " 'earn': 27,\n",
              " 'high': 28,\n",
              " 'scale': 29,\n",
              " 'visit': 30,\n",
              " 'to': 31,\n",
              " '7': 32,\n",
              " 'wonderland': 33,\n",
              " 'sea': 34,\n",
              " 'diving': 35}"
            ]
          },
          "metadata": {},
          "execution_count": 4
        }
      ]
    },
    {
      "cell_type": "code",
      "source": [
        "tokenizer.word_counts"
      ],
      "metadata": {
        "colab": {
          "base_uri": "https://localhost:8080/"
        },
        "id": "0IGYawtCkAwQ",
        "outputId": "deddbc55-3c10-4d37-f2ae-966a71dedaec"
      },
      "execution_count": 5,
      "outputs": [
        {
          "output_type": "execute_result",
          "data": {
            "text/plain": [
              "OrderedDict([('war', 1),\n",
              "             ('against', 1),\n",
              "             ('corruption', 1),\n",
              "             ('be', 2),\n",
              "             ('healthy', 1),\n",
              "             ('fit', 1),\n",
              "             ('achieve', 1),\n",
              "             ('uprise', 1),\n",
              "             ('your', 1),\n",
              "             ('career', 1),\n",
              "             ('holiday', 1),\n",
              "             ('vacation', 1),\n",
              "             ('in', 4),\n",
              "             ('los', 1),\n",
              "             ('angeles', 1),\n",
              "             ('good', 1),\n",
              "             ('reputed', 1),\n",
              "             ('job', 1),\n",
              "             ('international', 1),\n",
              "             ('company', 1),\n",
              "             ('travelling', 1),\n",
              "             ('yacht', 1),\n",
              "             ('fifa', 1),\n",
              "             ('wc', 1),\n",
              "             ('final', 1),\n",
              "             ('earn', 1),\n",
              "             ('high', 1),\n",
              "             ('scale', 1),\n",
              "             ('visit', 1),\n",
              "             ('to', 1),\n",
              "             ('7', 1),\n",
              "             ('wonderland', 1),\n",
              "             ('sea', 1),\n",
              "             ('diving', 1)])"
            ]
          },
          "metadata": {},
          "execution_count": 5
        }
      ]
    },
    {
      "cell_type": "code",
      "source": [
        "tokenizer.document_count"
      ],
      "metadata": {
        "colab": {
          "base_uri": "https://localhost:8080/"
        },
        "id": "Ghh9mqpGkPe1",
        "outputId": "5e47f2e4-2b6b-4b34-daea-0da4aa6425a8"
      },
      "execution_count": 6,
      "outputs": [
        {
          "output_type": "execute_result",
          "data": {
            "text/plain": [
              "10"
            ]
          },
          "metadata": {},
          "execution_count": 6
        }
      ]
    },
    {
      "cell_type": "code",
      "source": [
        "from tensorflow.keras.preprocessing.text import one_hot\n",
        "vocabSize = 50\n",
        "encodedReviews = [one_hot(d, vocabSize) for d in texts]\n",
        "print(f'encoded reviews: {encodedReviews}')"
      ],
      "metadata": {
        "colab": {
          "base_uri": "https://localhost:8080/"
        },
        "id": "273jbg7K94IV",
        "outputId": "dd4b996b-109b-453b-bd23-d379f4ca8629"
      },
      "execution_count": 7,
      "outputs": [
        {
          "output_type": "stream",
          "name": "stdout",
          "text": [
            "encoded reviews: [[46, 46, 29], [38, 46, 38, 19], [26, 31, 7, 30], [39, 36, 19, 34, 46], [35, 48, 43, 19, 23, 21], [40, 19, 39], [27, 15, 4], [3, 19, 11, 25], [1, 16, 7, 48], [43, 24]]\n"
          ]
        }
      ]
    },
    {
      "cell_type": "code",
      "source": [
        "sequences =  tokenizer.texts_to_sequences(texts)\n",
        "sequences"
      ],
      "metadata": {
        "colab": {
          "base_uri": "https://localhost:8080/"
        },
        "id": "8-BoGQj8kUMz",
        "outputId": "0ebe99fa-8278-4f7f-c476-475586836fd5"
      },
      "execution_count": 8,
      "outputs": [
        {
          "output_type": "execute_result",
          "data": {
            "text/plain": [
              "[[4, 5, 6],\n",
              " [3, 7, 3, 8],\n",
              " [9, 10, 11, 12],\n",
              " [13, 14, 2, 15, 16],\n",
              " [17, 18, 19, 2, 20, 21],\n",
              " [22, 2, 23],\n",
              " [24, 25, 26],\n",
              " [27, 2, 28, 29],\n",
              " [30, 31, 32, 33],\n",
              " [34, 35]]"
            ]
          },
          "metadata": {},
          "execution_count": 8
        }
      ]
    },
    {
      "cell_type": "code",
      "source": [
        "from keras.utils import pad_sequences"
      ],
      "metadata": {
        "id": "Wjp_naN5kavC"
      },
      "execution_count": 9,
      "outputs": []
    },
    {
      "cell_type": "code",
      "source": [
        "sequences = pad_sequences(sequences, padding = 'post')\n",
        "sequences"
      ],
      "metadata": {
        "colab": {
          "base_uri": "https://localhost:8080/"
        },
        "id": "ljpjSc0-k0Dl",
        "outputId": "60a65db0-4281-4178-cae9-4015b9aceea9"
      },
      "execution_count": 10,
      "outputs": [
        {
          "output_type": "execute_result",
          "data": {
            "text/plain": [
              "array([[ 4,  5,  6,  0,  0,  0],\n",
              "       [ 3,  7,  3,  8,  0,  0],\n",
              "       [ 9, 10, 11, 12,  0,  0],\n",
              "       [13, 14,  2, 15, 16,  0],\n",
              "       [17, 18, 19,  2, 20, 21],\n",
              "       [22,  2, 23,  0,  0,  0],\n",
              "       [24, 25, 26,  0,  0,  0],\n",
              "       [27,  2, 28, 29,  0,  0],\n",
              "       [30, 31, 32, 33,  0,  0],\n",
              "       [34, 35,  0,  0,  0,  0]], dtype=int32)"
            ]
          },
          "metadata": {},
          "execution_count": 10
        }
      ]
    },
    {
      "cell_type": "code",
      "source": [
        "from keras import Sequential\n",
        "from keras.layers import Dense, SimpleRNN, Embedding, Flatten\n",
        "\n",
        "model = Sequential()\n",
        "\n",
        "model.add(Embedding (input_dim = vocabSize, output_dim = 2, input_length = 6))\n",
        "\n",
        "model.summary()"
      ],
      "metadata": {
        "colab": {
          "base_uri": "https://localhost:8080/"
        },
        "id": "x8i2DdOYk49Q",
        "outputId": "e46d2c44-b419-4a1b-eb83-77827b0c2df8"
      },
      "execution_count": 11,
      "outputs": [
        {
          "output_type": "stream",
          "name": "stdout",
          "text": [
            "Model: \"sequential\"\n",
            "_________________________________________________________________\n",
            " Layer (type)                Output Shape              Param #   \n",
            "=================================================================\n",
            " embedding (Embedding)       (None, 6, 2)              100       \n",
            "                                                                 \n",
            "=================================================================\n",
            "Total params: 100\n",
            "Trainable params: 100\n",
            "Non-trainable params: 0\n",
            "_________________________________________________________________\n"
          ]
        }
      ]
    },
    {
      "cell_type": "code",
      "source": [
        "model.compile('adam', 'accuracy')"
      ],
      "metadata": {
        "id": "LdH1CBrmrxRo"
      },
      "execution_count": 12,
      "outputs": []
    },
    {
      "cell_type": "code",
      "source": [
        "prediction = model.predict(sequences)\n",
        "print(prediction)"
      ],
      "metadata": {
        "colab": {
          "base_uri": "https://localhost:8080/"
        },
        "id": "BA9oqJDQszYr",
        "outputId": "ef218f53-fe07-4443-b816-bdac97a2538c"
      },
      "execution_count": 13,
      "outputs": [
        {
          "output_type": "stream",
          "name": "stdout",
          "text": [
            "1/1 [==============================] - 0s 161ms/step\n",
            "[[[ 0.00753665  0.03444559]\n",
            "  [-0.02369142 -0.02231668]\n",
            "  [ 0.04047069 -0.03010173]\n",
            "  [ 0.0481825   0.04400075]\n",
            "  [ 0.0481825   0.04400075]\n",
            "  [ 0.0481825   0.04400075]]\n",
            "\n",
            " [[ 0.02053881  0.00779808]\n",
            "  [ 0.02665906  0.02197025]\n",
            "  [ 0.02053881  0.00779808]\n",
            "  [ 0.0010466   0.00193071]\n",
            "  [ 0.0481825   0.04400075]\n",
            "  [ 0.0481825   0.04400075]]\n",
            "\n",
            " [[ 0.01554118  0.04550883]\n",
            "  [-0.02990947 -0.02333772]\n",
            "  [ 0.03469923 -0.02401106]\n",
            "  [-0.03658714  0.03451279]\n",
            "  [ 0.0481825   0.04400075]\n",
            "  [ 0.0481825   0.04400075]]\n",
            "\n",
            " [[ 0.04578986  0.03931122]\n",
            "  [-0.0218902   0.0401674 ]\n",
            "  [-0.04526423 -0.02985914]\n",
            "  [ 0.0362086  -0.01050887]\n",
            "  [-0.01877437  0.01363296]\n",
            "  [ 0.0481825   0.04400075]]\n",
            "\n",
            " [[ 0.02797139 -0.04495469]\n",
            "  [ 0.01076145 -0.03567027]\n",
            "  [-0.04237112 -0.00759109]\n",
            "  [-0.04526423 -0.02985914]\n",
            "  [-0.01295905 -0.03851029]\n",
            "  [-0.02664861 -0.00353043]]\n",
            "\n",
            " [[ 0.01345855  0.0260121 ]\n",
            "  [-0.04526423 -0.02985914]\n",
            "  [-0.03394248  0.03409955]\n",
            "  [ 0.0481825   0.04400075]\n",
            "  [ 0.0481825   0.04400075]\n",
            "  [ 0.0481825   0.04400075]]\n",
            "\n",
            " [[ 0.00884237  0.04664563]\n",
            "  [ 0.04767646 -0.04087976]\n",
            "  [ 0.00946764 -0.03591769]\n",
            "  [ 0.0481825   0.04400075]\n",
            "  [ 0.0481825   0.04400075]\n",
            "  [ 0.0481825   0.04400075]]\n",
            "\n",
            " [[ 0.0321144   0.01034479]\n",
            "  [-0.04526423 -0.02985914]\n",
            "  [ 0.04135645  0.01935035]\n",
            "  [-0.02225437  0.03729257]\n",
            "  [ 0.0481825   0.04400075]\n",
            "  [ 0.0481825   0.04400075]]\n",
            "\n",
            " [[-0.04530795 -0.03120911]\n",
            "  [ 0.0281154  -0.03227663]\n",
            "  [-0.00235882  0.02302283]\n",
            "  [-0.0128206   0.00368335]\n",
            "  [ 0.0481825   0.04400075]\n",
            "  [ 0.0481825   0.04400075]]\n",
            "\n",
            " [[ 0.029903    0.03807439]\n",
            "  [ 0.0336494  -0.03011005]\n",
            "  [ 0.0481825   0.04400075]\n",
            "  [ 0.0481825   0.04400075]\n",
            "  [ 0.0481825   0.04400075]\n",
            "  [ 0.0481825   0.04400075]]]\n"
          ]
        }
      ]
    },
    {
      "cell_type": "code",
      "source": [],
      "metadata": {
        "id": "DvNMaavSs4-w"
      },
      "execution_count": 13,
      "outputs": []
    }
  ]
}