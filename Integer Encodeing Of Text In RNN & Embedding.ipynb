{
  "nbformat": 4,
  "nbformat_minor": 0,
  "metadata": {
    "colab": {
      "provenance": []
    },
    "kernelspec": {
      "name": "python3",
      "display_name": "Python 3"
    },
    "language_info": {
      "name": "python"
    }
  },
  "cells": [
    {
      "cell_type": "code",
      "execution_count": null,
      "metadata": {
        "id": "FkA-zlBXfJLb"
      },
      "outputs": [],
      "source": [
        "import  numpy as ny\n",
        "\n",
        "texts = [\"War Against Corruption\", \"Be Healthy Be Fit\", \"Achieve & uprise your career\", \"Holiday vacation in Los Angeles\", \"Good reputed job in international company\",\n",
        "        \"Travelling in yacht\", \"Fifa wc final\", \"Earn in high scale\", \"Visit to 7 wonderland\", \"sea diving\"]"
      ]
    },
    {
      "cell_type": "code",
      "source": [
        "from keras.preprocessing.text import Tokenizer\n",
        "tokenizer = Tokenizer(oov_token = \"winner\")"
      ],
      "metadata": {
        "id": "9FNnXw41jKSN"
      },
      "execution_count": null,
      "outputs": []
    },
    {
      "cell_type": "code",
      "source": [
        "tokenizer.fit_on_texts(texts)"
      ],
      "metadata": {
        "id": "Wsj7ot5kjpSB"
      },
      "execution_count": null,
      "outputs": []
    },
    {
      "cell_type": "code",
      "source": [
        "tokenizer.word_index"
      ],
      "metadata": {
        "colab": {
          "base_uri": "https://localhost:8080/"
        },
        "id": "4enUp8WwjtJn",
        "outputId": "d825efa6-e35f-4dcb-ea4c-979567a033f7"
      },
      "execution_count": null,
      "outputs": [
        {
          "output_type": "execute_result",
          "data": {
            "text/plain": [
              "{'winner': 1,\n",
              " 'in': 2,\n",
              " 'be': 3,\n",
              " 'war': 4,\n",
              " 'against': 5,\n",
              " 'corruption': 6,\n",
              " 'healthy': 7,\n",
              " 'fit': 8,\n",
              " 'achieve': 9,\n",
              " 'uprise': 10,\n",
              " 'your': 11,\n",
              " 'career': 12,\n",
              " 'holiday': 13,\n",
              " 'vacation': 14,\n",
              " 'los': 15,\n",
              " 'angeles': 16,\n",
              " 'good': 17,\n",
              " 'reputed': 18,\n",
              " 'job': 19,\n",
              " 'international': 20,\n",
              " 'company': 21,\n",
              " 'travelling': 22,\n",
              " 'yacht': 23,\n",
              " 'fifa': 24,\n",
              " 'wc': 25,\n",
              " 'final': 26,\n",
              " 'earn': 27,\n",
              " 'high': 28,\n",
              " 'scale': 29,\n",
              " 'visit': 30,\n",
              " 'to': 31,\n",
              " '7': 32,\n",
              " 'wonderland': 33,\n",
              " 'sea': 34,\n",
              " 'diving': 35}"
            ]
          },
          "metadata": {},
          "execution_count": 9
        }
      ]
    },
    {
      "cell_type": "code",
      "source": [
        "tokenizer.word_counts"
      ],
      "metadata": {
        "colab": {
          "base_uri": "https://localhost:8080/"
        },
        "id": "0IGYawtCkAwQ",
        "outputId": "8a7c1905-b7eb-4fac-8341-80ff7b02644c"
      },
      "execution_count": null,
      "outputs": [
        {
          "output_type": "execute_result",
          "data": {
            "text/plain": [
              "OrderedDict([('war', 1),\n",
              "             ('against', 1),\n",
              "             ('corruption', 1),\n",
              "             ('be', 2),\n",
              "             ('healthy', 1),\n",
              "             ('fit', 1),\n",
              "             ('achieve', 1),\n",
              "             ('uprise', 1),\n",
              "             ('your', 1),\n",
              "             ('career', 1),\n",
              "             ('holiday', 1),\n",
              "             ('vacation', 1),\n",
              "             ('in', 4),\n",
              "             ('los', 1),\n",
              "             ('angeles', 1),\n",
              "             ('good', 1),\n",
              "             ('reputed', 1),\n",
              "             ('job', 1),\n",
              "             ('international', 1),\n",
              "             ('company', 1),\n",
              "             ('travelling', 1),\n",
              "             ('yacht', 1),\n",
              "             ('fifa', 1),\n",
              "             ('wc', 1),\n",
              "             ('final', 1),\n",
              "             ('earn', 1),\n",
              "             ('high', 1),\n",
              "             ('scale', 1),\n",
              "             ('visit', 1),\n",
              "             ('to', 1),\n",
              "             ('7', 1),\n",
              "             ('wonderland', 1),\n",
              "             ('sea', 1),\n",
              "             ('diving', 1)])"
            ]
          },
          "metadata": {},
          "execution_count": 10
        }
      ]
    },
    {
      "cell_type": "code",
      "source": [
        "tokenizer.document_count"
      ],
      "metadata": {
        "colab": {
          "base_uri": "https://localhost:8080/"
        },
        "id": "Ghh9mqpGkPe1",
        "outputId": "353c1d6b-2fa0-4634-da8a-c59991d36a1b"
      },
      "execution_count": null,
      "outputs": [
        {
          "output_type": "execute_result",
          "data": {
            "text/plain": [
              "10"
            ]
          },
          "metadata": {},
          "execution_count": 11
        }
      ]
    },
    {
      "cell_type": "code",
      "source": [
        "from tensorflow.keras.preprocessing.text import one_hot\n",
        "vocabSize = 50\n",
        "encodedReviews = [one_hot(d, vocabSize) for d in texts]\n",
        "print(f'encoded reviews: {encodedReviews}')"
      ],
      "metadata": {
        "colab": {
          "base_uri": "https://localhost:8080/"
        },
        "id": "273jbg7K94IV",
        "outputId": "ef1543ef-919a-4e13-e85c-563572d4ee29"
      },
      "execution_count": null,
      "outputs": [
        {
          "output_type": "stream",
          "name": "stdout",
          "text": [
            "encoded reviews: [[11, 19, 8], [4, 16, 4, 19], [36, 43, 28, 27], [43, 16, 10, 5, 45], [30, 3, 24, 10, 2, 29], [1, 10, 33], [41, 6, 12], [40, 10, 38, 12], [17, 15, 37, 20], [34, 27]]\n"
          ]
        }
      ]
    },
    {
      "cell_type": "code",
      "source": [
        "sequences =  tokenizer.texts_to_sequences(texts)\n",
        "sequences"
      ],
      "metadata": {
        "colab": {
          "base_uri": "https://localhost:8080/"
        },
        "id": "8-BoGQj8kUMz",
        "outputId": "edd328ad-82ba-4b8a-fa85-312792784e22"
      },
      "execution_count": null,
      "outputs": [
        {
          "output_type": "execute_result",
          "data": {
            "text/plain": [
              "[[4, 5, 6],\n",
              " [3, 7, 3, 8],\n",
              " [9, 10, 11, 12],\n",
              " [13, 14, 2, 15, 16],\n",
              " [17, 18, 19, 2, 20, 21],\n",
              " [22, 2, 23],\n",
              " [24, 25, 26],\n",
              " [27, 2, 28, 29],\n",
              " [30, 31, 32, 33],\n",
              " [34, 35]]"
            ]
          },
          "metadata": {},
          "execution_count": 13
        }
      ]
    },
    {
      "cell_type": "code",
      "source": [
        "from keras.utils import pad_sequences"
      ],
      "metadata": {
        "id": "Wjp_naN5kavC"
      },
      "execution_count": null,
      "outputs": []
    },
    {
      "cell_type": "code",
      "source": [
        "sequences = pad_sequences(sequences, padding = 'post')\n",
        "sequences"
      ],
      "metadata": {
        "colab": {
          "base_uri": "https://localhost:8080/"
        },
        "id": "ljpjSc0-k0Dl",
        "outputId": "dd3a4b08-c3eb-4667-efe6-b593a7448fd3"
      },
      "execution_count": null,
      "outputs": [
        {
          "output_type": "execute_result",
          "data": {
            "text/plain": [
              "array([[ 4,  5,  6,  0,  0,  0],\n",
              "       [ 3,  7,  3,  8,  0,  0],\n",
              "       [ 9, 10, 11, 12,  0,  0],\n",
              "       [13, 14,  2, 15, 16,  0],\n",
              "       [17, 18, 19,  2, 20, 21],\n",
              "       [22,  2, 23,  0,  0,  0],\n",
              "       [24, 25, 26,  0,  0,  0],\n",
              "       [27,  2, 28, 29,  0,  0],\n",
              "       [30, 31, 32, 33,  0,  0],\n",
              "       [34, 35,  0,  0,  0,  0]], dtype=int32)"
            ]
          },
          "metadata": {},
          "execution_count": 16
        }
      ]
    },
    {
      "cell_type": "code",
      "source": [
        "from keras import Sequential\n",
        "from keras.layers import Dense, SimpleRNN, Embedding, Flatten\n",
        "\n",
        "model = Sequential()\n",
        "\n",
        "model.add(Embedding (input_dim = vocabSize, output_dim = 2, input_length = 6))\n",
        "\n",
        "model.summary()"
      ],
      "metadata": {
        "colab": {
          "base_uri": "https://localhost:8080/"
        },
        "id": "x8i2DdOYk49Q",
        "outputId": "dd594135-3f72-426c-9e72-e3c1fa5a1ef6"
      },
      "execution_count": null,
      "outputs": [
        {
          "output_type": "stream",
          "name": "stdout",
          "text": [
            "Model: \"sequential_8\"\n",
            "_________________________________________________________________\n",
            " Layer (type)                Output Shape              Param #   \n",
            "=================================================================\n",
            " embedding_8 (Embedding)     (None, 6, 2)              100       \n",
            "                                                                 \n",
            "=================================================================\n",
            "Total params: 100\n",
            "Trainable params: 100\n",
            "Non-trainable params: 0\n",
            "_________________________________________________________________\n"
          ]
        }
      ]
    },
    {
      "cell_type": "code",
      "source": [
        "model.compile('adam', 'accuracy')"
      ],
      "metadata": {
        "id": "LdH1CBrmrxRo"
      },
      "execution_count": null,
      "outputs": []
    },
    {
      "cell_type": "code",
      "source": [
        "prediction = model.predict(sequences)\n",
        "print(prediction)"
      ],
      "metadata": {
        "colab": {
          "base_uri": "https://localhost:8080/"
        },
        "id": "BA9oqJDQszYr",
        "outputId": "d03d666d-c8f3-4f3f-8683-91a40e41fedd"
      },
      "execution_count": null,
      "outputs": [
        {
          "output_type": "stream",
          "name": "stdout",
          "text": [
            "1/1 [==============================] - 0s 42ms/step\n",
            "[[[ 0.01188649  0.01904551]\n",
            "  [ 0.02911432 -0.01401155]\n",
            "  [ 0.00294492  0.03204092]\n",
            "  [-0.00677357 -0.03399152]\n",
            "  [-0.00677357 -0.03399152]\n",
            "  [-0.00677357 -0.03399152]]\n",
            "\n",
            " [[-0.04837101  0.02399793]\n",
            "  [ 0.02249921  0.03880804]\n",
            "  [-0.04837101  0.02399793]\n",
            "  [-0.04334613  0.01298679]\n",
            "  [-0.00677357 -0.03399152]\n",
            "  [-0.00677357 -0.03399152]]\n",
            "\n",
            " [[ 0.04631985  0.04665205]\n",
            "  [ 0.00483931  0.00424946]\n",
            "  [-0.03116106  0.01657105]\n",
            "  [-0.03226541 -0.01538063]\n",
            "  [-0.00677357 -0.03399152]\n",
            "  [-0.00677357 -0.03399152]]\n",
            "\n",
            " [[ 0.0094568   0.02055055]\n",
            "  [-0.03007001  0.00519091]\n",
            "  [ 0.0476657  -0.0080393 ]\n",
            "  [ 0.03533688  0.04231687]\n",
            "  [ 0.00242958  0.01242157]\n",
            "  [-0.00677357 -0.03399152]]\n",
            "\n",
            " [[ 0.0193341   0.02217455]\n",
            "  [ 0.047385    0.04400566]\n",
            "  [ 0.02654386  0.04658904]\n",
            "  [ 0.0476657  -0.0080393 ]\n",
            "  [-0.03975934  0.00339677]\n",
            "  [ 0.03846495 -0.00319342]]\n",
            "\n",
            " [[-0.01515602 -0.0277765 ]\n",
            "  [ 0.0476657  -0.0080393 ]\n",
            "  [-0.00040513  0.00801969]\n",
            "  [-0.00677357 -0.03399152]\n",
            "  [-0.00677357 -0.03399152]\n",
            "  [-0.00677357 -0.03399152]]\n",
            "\n",
            " [[ 0.01333189  0.02043381]\n",
            "  [-0.04398818 -0.00075417]\n",
            "  [ 0.02663373  0.02919287]\n",
            "  [-0.00677357 -0.03399152]\n",
            "  [-0.00677357 -0.03399152]\n",
            "  [-0.00677357 -0.03399152]]\n",
            "\n",
            " [[-0.04751945  0.02573532]\n",
            "  [ 0.0476657  -0.0080393 ]\n",
            "  [-0.03731234  0.01013261]\n",
            "  [ 0.00782531 -0.03817332]\n",
            "  [-0.00677357 -0.03399152]\n",
            "  [-0.00677357 -0.03399152]]\n",
            "\n",
            " [[-0.02178633  0.03738127]\n",
            "  [ 0.02416792 -0.02161737]\n",
            "  [-0.00934831  0.04457239]\n",
            "  [ 0.0354331   0.04797479]\n",
            "  [-0.00677357 -0.03399152]\n",
            "  [-0.00677357 -0.03399152]]\n",
            "\n",
            " [[-0.03174007  0.03561962]\n",
            "  [-0.03953456  0.02509967]\n",
            "  [-0.00677357 -0.03399152]\n",
            "  [-0.00677357 -0.03399152]\n",
            "  [-0.00677357 -0.03399152]\n",
            "  [-0.00677357 -0.03399152]]]\n"
          ]
        }
      ]
    },
    {
      "cell_type": "code",
      "source": [],
      "metadata": {
        "id": "DvNMaavSs4-w"
      },
      "execution_count": null,
      "outputs": []
    }
  ]
}