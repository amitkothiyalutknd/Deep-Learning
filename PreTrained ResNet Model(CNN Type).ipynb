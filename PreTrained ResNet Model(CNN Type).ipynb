{
  "nbformat": 4,
  "nbformat_minor": 0,
  "metadata": {
    "colab": {
      "provenance": []
    },
    "kernelspec": {
      "name": "python3",
      "display_name": "Python 3"
    },
    "language_info": {
      "name": "python"
    },
    "accelerator": "GPU",
    "gpuClass": "standard"
  },
  "cells": [
    {
      "cell_type": "code",
      "execution_count": 1,
      "metadata": {
        "id": "uA3yR8SjszIk"
      },
      "outputs": [],
      "source": [
        "import tensorflow as tw\n",
        "from tensorflow.keras.applications.resnet50 import ResNet50\n",
        "from tensorflow.keras.preprocessing import image\n",
        "from tensorflow.keras.applications.resnet50 import preprocess_input, decode_predictions\n",
        "import numpy as ny"
      ]
    },
    {
      "cell_type": "code",
      "source": [
        "modelResNet = ResNet50(weights = 'imagenet')"
      ],
      "metadata": {
        "id": "_x9UrDbotFbk"
      },
      "execution_count": 2,
      "outputs": []
    },
    {
      "cell_type": "code",
      "source": [
        "imgPath1 = '/content/tiger.jpg'\n",
        "img1 = image.load_img(imgPath1, target_size = (224, 224))\n",
        "x = image.img_to_array(img1)\n",
        "x = ny.expand_dims(x, axis = 0)\n",
        "x = preprocess_input(x)"
      ],
      "metadata": {
        "id": "7c1qA_QZtK3T"
      },
      "execution_count": 3,
      "outputs": []
    },
    {
      "cell_type": "code",
      "source": [
        "prediction = modelResNet.predict(x)\n",
        "print(\"Prediction:\", decode_predictions(prediction, top = 5)[0])"
      ],
      "metadata": {
        "colab": {
          "base_uri": "https://localhost:8080/"
        },
        "id": "HmDzaJ8rt9Eu",
        "outputId": "7aee0005-64a8-4bd1-bb0d-490486d69085"
      },
      "execution_count": 4,
      "outputs": [
        {
          "output_type": "stream",
          "name": "stdout",
          "text": [
            "1/1 [==============================] - 4s 4s/step\n",
            "Prediction: [('n02129604', 'tiger', 0.8040133), ('n02123159', 'tiger_cat', 0.19565381), ('n02127052', 'lynx', 0.0001591632), ('n02128925', 'jaguar', 7.570363e-05), ('n02391049', 'zebra', 2.5359112e-05)]\n"
          ]
        }
      ]
    },
    {
      "cell_type": "code",
      "source": [
        "imgPath2 = '/content/lion.jpg'\n",
        "img2 = image.load_img(imgPath2, target_size = (224, 224))\n",
        "x = image.img_to_array(img2)\n",
        "x = ny.expand_dims(x, axis = 0)\n",
        "x = preprocess_input(x)\n",
        "prediction = modelResNet.predict(x)\n",
        "print(\"Prediction:\", decode_predictions(prediction, top = 5)[0])"
      ],
      "metadata": {
        "colab": {
          "base_uri": "https://localhost:8080/"
        },
        "id": "TmAH1pqHzeDl",
        "outputId": "5cd0a291-0433-4d76-f720-42863519a814"
      },
      "execution_count": 5,
      "outputs": [
        {
          "output_type": "stream",
          "name": "stdout",
          "text": [
            "1/1 [==============================] - 0s 23ms/step\n",
            "Prediction: [('n02129165', 'lion', 0.99918073), ('n02422699', 'impala', 0.00027178734), ('n02115913', 'dhole', 0.00010307968), ('n02422106', 'hartebeest', 4.4537595e-05), ('n02132136', 'brown_bear', 3.944123e-05)]\n"
          ]
        }
      ]
    },
    {
      "cell_type": "code",
      "source": [
        "imgPath3 = '/content/strawberry.jpg'\n",
        "img3 = image.load_img(imgPath3, target_size = (224, 224))\n",
        "x = image.img_to_array(img3)\n",
        "x = ny.expand_dims(x, axis = 0)\n",
        "x = preprocess_input(x)\n",
        "prediction = modelResNet.predict(x)\n",
        "print(\"Prediction:\", decode_predictions(prediction, top = 5)[0])"
      ],
      "metadata": {
        "colab": {
          "base_uri": "https://localhost:8080/"
        },
        "id": "LSQotO4wz5vQ",
        "outputId": "5f6a6423-a412-44c3-c51c-cd722bb0a5a7"
      },
      "execution_count": 6,
      "outputs": [
        {
          "output_type": "stream",
          "name": "stdout",
          "text": [
            "1/1 [==============================] - 0s 25ms/step\n",
            "Prediction: [('n07745940', 'strawberry', 0.99977154), ('n04423845', 'thimble', 3.9737188e-05), ('n07836838', 'chocolate_sauce', 2.4474788e-05), ('n04522168', 'vase', 1.7352095e-05), ('n07753275', 'pineapple', 1.193847e-05)]\n"
          ]
        }
      ]
    },
    {
      "cell_type": "code",
      "source": [],
      "metadata": {
        "id": "3iZk0joF4b8d"
      },
      "execution_count": 6,
      "outputs": []
    }
  ]
}