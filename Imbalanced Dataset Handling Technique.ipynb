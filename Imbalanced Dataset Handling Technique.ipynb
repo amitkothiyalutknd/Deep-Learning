{
  "nbformat": 4,
  "nbformat_minor": 0,
  "metadata": {
    "colab": {
      "provenance": []
    },
    "kernelspec": {
      "name": "python3",
      "display_name": "Python 3"
    },
    "language_info": {
      "name": "python"
    },
    "accelerator": "GPU",
    "gpuClass": "standard"
  },
  "cells": [
    {
      "cell_type": "code",
      "source": [
        "#Make Kaggle Direcotry\n",
        "!mkdir -p ~/.kaggle\n",
        "!cp kaggle.json ~/.kaggle/"
      ],
      "metadata": {
        "id": "c4r5KpkljIQ8"
      },
      "execution_count": 1,
      "outputs": []
    },
    {
      "cell_type": "code",
      "execution_count": 2,
      "metadata": {
        "colab": {
          "base_uri": "https://localhost:8080/"
        },
        "id": "3ZaKwaZfJmWk",
        "outputId": "a8e80151-4468-4cf4-bd67-e2491b2a8a50"
      },
      "outputs": [
        {
          "output_type": "stream",
          "name": "stdout",
          "text": [
            "Warning: Your Kaggle API key is readable by other users on this system! To fix this, you can run 'chmod 600 /root/.kaggle/kaggle.json'\n",
            "cusersmarildownloadsgermancsv.zip: Skipping, found more recently modified local copy (use --force to force download)\n"
          ]
        }
      ],
      "source": [
        "#Upload dataset from kaggle server to colab notebook\n",
        "!kaggle datasets download -d mpwolke/cusersmarildownloadsgermancsv"
      ]
    },
    {
      "cell_type": "code",
      "source": [
        "#Extract zip dataset into csv file\n",
        "import zipfile\n",
        "zip = zipfile.ZipFile(\"/content/cusersmarildownloadsgermancsv.zip\", \"r\")\n",
        "zip.extractall(\"/content\")\n",
        "zip.close()"
      ],
      "metadata": {
        "id": "rbQFUoV1jXj7"
      },
      "execution_count": 3,
      "outputs": []
    },
    {
      "cell_type": "code",
      "source": [
        "import pandas as ps\n",
        "dataset = ps.read_csv(\"/content/german.csv\")\n",
        "dataset"
      ],
      "metadata": {
        "colab": {
          "base_uri": "https://localhost:8080/",
          "height": 488
        },
        "id": "DtLqYIV_jsPY",
        "outputId": "6650c574-300e-4eb8-ebb5-091427c424ed"
      },
      "execution_count": 4,
      "outputs": [
        {
          "output_type": "execute_result",
          "data": {
            "text/plain": [
              "    Creditability;Account_Balance;Duration_of_Credit_monthly;Payment_Status_of_Previous_Credit;Purpose;Credit_Amount;Value_Savings_Stocks;Length_of_current_employment;Instalment_per_cent;Sex_Marital_Status;Guarantors;Duration_in_Current_address;Most_valuable_available_asset;Age_years;Concurrent_Credits;Type_of_apartment;No_of_Credits_at_this_Bank;Occupation;No_of_dependents;Telephone;Foreign_Worker\n",
              "0       1;1;18;4;2;1049;1;2;4;2;1;4;2;21;3;1;1;3;1;1;1                                                                                                                                                                                                                                                                                                                                                           \n",
              "1        1;1;9;4;0;2799;1;3;2;3;1;2;1;36;3;1;2;3;2;1;1                                                                                                                                                                                                                                                                                                                                                           \n",
              "2        1;2;12;2;9;841;2;4;2;2;1;4;1;23;3;1;1;2;1;1;1                                                                                                                                                                                                                                                                                                                                                           \n",
              "3       1;1;12;4;0;2122;1;3;3;3;1;2;1;39;3;1;2;2;2;1;2                                                                                                                                                                                                                                                                                                                                                           \n",
              "4       1;1;12;4;0;2171;1;3;4;3;1;4;2;38;1;2;2;2;1;1;2                                                                                                                                                                                                                                                                                                                                                           \n",
              "..                                                 ...                                                                                                                                                                                                                                                                                                                                                           \n",
              "995     0;1;24;2;3;1987;1;3;2;3;1;4;1;21;3;1;1;2;2;1;1                                                                                                                                                                                                                                                                                                                                                           \n",
              "996     0;1;24;2;0;2303;1;5;4;3;2;1;1;45;3;2;1;3;1;1;1                                                                                                                                                                                                                                                                                                                                                           \n",
              "997    0;4;21;4;0;12680;5;5;4;3;1;4;4;30;3;3;1;4;1;2;1                                                                                                                                                                                                                                                                                                                                                           \n",
              "998     0;2;12;2;3;6468;5;1;2;3;1;1;4;52;3;2;1;4;1;2;1                                                                                                                                                                                                                                                                                                                                                           \n",
              "999     0;1;30;2;2;6350;5;5;4;3;1;4;2;31;3;2;1;3;1;1;1                                                                                                                                                                                                                                                                                                                                                           \n",
              "\n",
              "[1000 rows x 1 columns]"
            ],
            "text/html": [
              "\n",
              "  <div id=\"df-b2719508-454d-463a-8a96-aa2259b834ff\">\n",
              "    <div class=\"colab-df-container\">\n",
              "      <div>\n",
              "<style scoped>\n",
              "    .dataframe tbody tr th:only-of-type {\n",
              "        vertical-align: middle;\n",
              "    }\n",
              "\n",
              "    .dataframe tbody tr th {\n",
              "        vertical-align: top;\n",
              "    }\n",
              "\n",
              "    .dataframe thead th {\n",
              "        text-align: right;\n",
              "    }\n",
              "</style>\n",
              "<table border=\"1\" class=\"dataframe\">\n",
              "  <thead>\n",
              "    <tr style=\"text-align: right;\">\n",
              "      <th></th>\n",
              "      <th>Creditability;Account_Balance;Duration_of_Credit_monthly;Payment_Status_of_Previous_Credit;Purpose;Credit_Amount;Value_Savings_Stocks;Length_of_current_employment;Instalment_per_cent;Sex_Marital_Status;Guarantors;Duration_in_Current_address;Most_valuable_available_asset;Age_years;Concurrent_Credits;Type_of_apartment;No_of_Credits_at_this_Bank;Occupation;No_of_dependents;Telephone;Foreign_Worker</th>\n",
              "    </tr>\n",
              "  </thead>\n",
              "  <tbody>\n",
              "    <tr>\n",
              "      <th>0</th>\n",
              "      <td>1;1;18;4;2;1049;1;2;4;2;1;4;2;21;3;1;1;3;1;1;1</td>\n",
              "    </tr>\n",
              "    <tr>\n",
              "      <th>1</th>\n",
              "      <td>1;1;9;4;0;2799;1;3;2;3;1;2;1;36;3;1;2;3;2;1;1</td>\n",
              "    </tr>\n",
              "    <tr>\n",
              "      <th>2</th>\n",
              "      <td>1;2;12;2;9;841;2;4;2;2;1;4;1;23;3;1;1;2;1;1;1</td>\n",
              "    </tr>\n",
              "    <tr>\n",
              "      <th>3</th>\n",
              "      <td>1;1;12;4;0;2122;1;3;3;3;1;2;1;39;3;1;2;2;2;1;2</td>\n",
              "    </tr>\n",
              "    <tr>\n",
              "      <th>4</th>\n",
              "      <td>1;1;12;4;0;2171;1;3;4;3;1;4;2;38;1;2;2;2;1;1;2</td>\n",
              "    </tr>\n",
              "    <tr>\n",
              "      <th>...</th>\n",
              "      <td>...</td>\n",
              "    </tr>\n",
              "    <tr>\n",
              "      <th>995</th>\n",
              "      <td>0;1;24;2;3;1987;1;3;2;3;1;4;1;21;3;1;1;2;2;1;1</td>\n",
              "    </tr>\n",
              "    <tr>\n",
              "      <th>996</th>\n",
              "      <td>0;1;24;2;0;2303;1;5;4;3;2;1;1;45;3;2;1;3;1;1;1</td>\n",
              "    </tr>\n",
              "    <tr>\n",
              "      <th>997</th>\n",
              "      <td>0;4;21;4;0;12680;5;5;4;3;1;4;4;30;3;3;1;4;1;2;1</td>\n",
              "    </tr>\n",
              "    <tr>\n",
              "      <th>998</th>\n",
              "      <td>0;2;12;2;3;6468;5;1;2;3;1;1;4;52;3;2;1;4;1;2;1</td>\n",
              "    </tr>\n",
              "    <tr>\n",
              "      <th>999</th>\n",
              "      <td>0;1;30;2;2;6350;5;5;4;3;1;4;2;31;3;2;1;3;1;1;1</td>\n",
              "    </tr>\n",
              "  </tbody>\n",
              "</table>\n",
              "<p>1000 rows × 1 columns</p>\n",
              "</div>\n",
              "      <button class=\"colab-df-convert\" onclick=\"convertToInteractive('df-b2719508-454d-463a-8a96-aa2259b834ff')\"\n",
              "              title=\"Convert this dataframe to an interactive table.\"\n",
              "              style=\"display:none;\">\n",
              "        \n",
              "  <svg xmlns=\"http://www.w3.org/2000/svg\" height=\"24px\"viewBox=\"0 0 24 24\"\n",
              "       width=\"24px\">\n",
              "    <path d=\"M0 0h24v24H0V0z\" fill=\"none\"/>\n",
              "    <path d=\"M18.56 5.44l.94 2.06.94-2.06 2.06-.94-2.06-.94-.94-2.06-.94 2.06-2.06.94zm-11 1L8.5 8.5l.94-2.06 2.06-.94-2.06-.94L8.5 2.5l-.94 2.06-2.06.94zm10 10l.94 2.06.94-2.06 2.06-.94-2.06-.94-.94-2.06-.94 2.06-2.06.94z\"/><path d=\"M17.41 7.96l-1.37-1.37c-.4-.4-.92-.59-1.43-.59-.52 0-1.04.2-1.43.59L10.3 9.45l-7.72 7.72c-.78.78-.78 2.05 0 2.83L4 21.41c.39.39.9.59 1.41.59.51 0 1.02-.2 1.41-.59l7.78-7.78 2.81-2.81c.8-.78.8-2.07 0-2.86zM5.41 20L4 18.59l7.72-7.72 1.47 1.35L5.41 20z\"/>\n",
              "  </svg>\n",
              "      </button>\n",
              "      \n",
              "  <style>\n",
              "    .colab-df-container {\n",
              "      display:flex;\n",
              "      flex-wrap:wrap;\n",
              "      gap: 12px;\n",
              "    }\n",
              "\n",
              "    .colab-df-convert {\n",
              "      background-color: #E8F0FE;\n",
              "      border: none;\n",
              "      border-radius: 50%;\n",
              "      cursor: pointer;\n",
              "      display: none;\n",
              "      fill: #1967D2;\n",
              "      height: 32px;\n",
              "      padding: 0 0 0 0;\n",
              "      width: 32px;\n",
              "    }\n",
              "\n",
              "    .colab-df-convert:hover {\n",
              "      background-color: #E2EBFA;\n",
              "      box-shadow: 0px 1px 2px rgba(60, 64, 67, 0.3), 0px 1px 3px 1px rgba(60, 64, 67, 0.15);\n",
              "      fill: #174EA6;\n",
              "    }\n",
              "\n",
              "    [theme=dark] .colab-df-convert {\n",
              "      background-color: #3B4455;\n",
              "      fill: #D2E3FC;\n",
              "    }\n",
              "\n",
              "    [theme=dark] .colab-df-convert:hover {\n",
              "      background-color: #434B5C;\n",
              "      box-shadow: 0px 1px 3px 1px rgba(0, 0, 0, 0.15);\n",
              "      filter: drop-shadow(0px 1px 2px rgba(0, 0, 0, 0.3));\n",
              "      fill: #FFFFFF;\n",
              "    }\n",
              "  </style>\n",
              "\n",
              "      <script>\n",
              "        const buttonEl =\n",
              "          document.querySelector('#df-b2719508-454d-463a-8a96-aa2259b834ff button.colab-df-convert');\n",
              "        buttonEl.style.display =\n",
              "          google.colab.kernel.accessAllowed ? 'block' : 'none';\n",
              "\n",
              "        async function convertToInteractive(key) {\n",
              "          const element = document.querySelector('#df-b2719508-454d-463a-8a96-aa2259b834ff');\n",
              "          const dataTable =\n",
              "            await google.colab.kernel.invokeFunction('convertToInteractive',\n",
              "                                                     [key], {});\n",
              "          if (!dataTable) return;\n",
              "\n",
              "          const docLinkHtml = 'Like what you see? Visit the ' +\n",
              "            '<a target=\"_blank\" href=https://colab.research.google.com/notebooks/data_table.ipynb>data table notebook</a>'\n",
              "            + ' to learn more about interactive tables.';\n",
              "          element.innerHTML = '';\n",
              "          dataTable['output_type'] = 'display_data';\n",
              "          await google.colab.output.renderOutput(dataTable, element);\n",
              "          const docLink = document.createElement('div');\n",
              "          docLink.innerHTML = docLinkHtml;\n",
              "          element.appendChild(docLink);\n",
              "        }\n",
              "      </script>\n",
              "    </div>\n",
              "  </div>\n",
              "  "
            ]
          },
          "metadata": {},
          "execution_count": 4
        }
      ]
    },
    {
      "cell_type": "code",
      "source": [
        "dataset = ps.read_csv(\"/content/german.csv\", sep = ';')\n",
        "dataset"
      ],
      "metadata": {
        "colab": {
          "base_uri": "https://localhost:8080/",
          "height": 488
        },
        "id": "fmqKv04ukMuK",
        "outputId": "cf11828e-4d04-411d-fc2a-79b3ffde3246"
      },
      "execution_count": 5,
      "outputs": [
        {
          "output_type": "execute_result",
          "data": {
            "text/plain": [
              "     Creditability  Account_Balance  Duration_of_Credit_monthly  \\\n",
              "0                1                1                          18   \n",
              "1                1                1                           9   \n",
              "2                1                2                          12   \n",
              "3                1                1                          12   \n",
              "4                1                1                          12   \n",
              "..             ...              ...                         ...   \n",
              "995              0                1                          24   \n",
              "996              0                1                          24   \n",
              "997              0                4                          21   \n",
              "998              0                2                          12   \n",
              "999              0                1                          30   \n",
              "\n",
              "     Payment_Status_of_Previous_Credit  Purpose  Credit_Amount  \\\n",
              "0                                    4        2           1049   \n",
              "1                                    4        0           2799   \n",
              "2                                    2        9            841   \n",
              "3                                    4        0           2122   \n",
              "4                                    4        0           2171   \n",
              "..                                 ...      ...            ...   \n",
              "995                                  2        3           1987   \n",
              "996                                  2        0           2303   \n",
              "997                                  4        0          12680   \n",
              "998                                  2        3           6468   \n",
              "999                                  2        2           6350   \n",
              "\n",
              "     Value_Savings_Stocks  Length_of_current_employment  Instalment_per_cent  \\\n",
              "0                       1                             2                    4   \n",
              "1                       1                             3                    2   \n",
              "2                       2                             4                    2   \n",
              "3                       1                             3                    3   \n",
              "4                       1                             3                    4   \n",
              "..                    ...                           ...                  ...   \n",
              "995                     1                             3                    2   \n",
              "996                     1                             5                    4   \n",
              "997                     5                             5                    4   \n",
              "998                     5                             1                    2   \n",
              "999                     5                             5                    4   \n",
              "\n",
              "     Sex_Marital_Status  ...  Duration_in_Current_address  \\\n",
              "0                     2  ...                            4   \n",
              "1                     3  ...                            2   \n",
              "2                     2  ...                            4   \n",
              "3                     3  ...                            2   \n",
              "4                     3  ...                            4   \n",
              "..                  ...  ...                          ...   \n",
              "995                   3  ...                            4   \n",
              "996                   3  ...                            1   \n",
              "997                   3  ...                            4   \n",
              "998                   3  ...                            1   \n",
              "999                   3  ...                            4   \n",
              "\n",
              "     Most_valuable_available_asset  Age_years  Concurrent_Credits  \\\n",
              "0                                2         21                   3   \n",
              "1                                1         36                   3   \n",
              "2                                1         23                   3   \n",
              "3                                1         39                   3   \n",
              "4                                2         38                   1   \n",
              "..                             ...        ...                 ...   \n",
              "995                              1         21                   3   \n",
              "996                              1         45                   3   \n",
              "997                              4         30                   3   \n",
              "998                              4         52                   3   \n",
              "999                              2         31                   3   \n",
              "\n",
              "     Type_of_apartment  No_of_Credits_at_this_Bank  Occupation  \\\n",
              "0                    1                           1           3   \n",
              "1                    1                           2           3   \n",
              "2                    1                           1           2   \n",
              "3                    1                           2           2   \n",
              "4                    2                           2           2   \n",
              "..                 ...                         ...         ...   \n",
              "995                  1                           1           2   \n",
              "996                  2                           1           3   \n",
              "997                  3                           1           4   \n",
              "998                  2                           1           4   \n",
              "999                  2                           1           3   \n",
              "\n",
              "     No_of_dependents  Telephone  Foreign_Worker  \n",
              "0                   1          1               1  \n",
              "1                   2          1               1  \n",
              "2                   1          1               1  \n",
              "3                   2          1               2  \n",
              "4                   1          1               2  \n",
              "..                ...        ...             ...  \n",
              "995                 2          1               1  \n",
              "996                 1          1               1  \n",
              "997                 1          2               1  \n",
              "998                 1          2               1  \n",
              "999                 1          1               1  \n",
              "\n",
              "[1000 rows x 21 columns]"
            ],
            "text/html": [
              "\n",
              "  <div id=\"df-8ca9d77e-48f1-4d7e-9fd8-da6d24093ee9\">\n",
              "    <div class=\"colab-df-container\">\n",
              "      <div>\n",
              "<style scoped>\n",
              "    .dataframe tbody tr th:only-of-type {\n",
              "        vertical-align: middle;\n",
              "    }\n",
              "\n",
              "    .dataframe tbody tr th {\n",
              "        vertical-align: top;\n",
              "    }\n",
              "\n",
              "    .dataframe thead th {\n",
              "        text-align: right;\n",
              "    }\n",
              "</style>\n",
              "<table border=\"1\" class=\"dataframe\">\n",
              "  <thead>\n",
              "    <tr style=\"text-align: right;\">\n",
              "      <th></th>\n",
              "      <th>Creditability</th>\n",
              "      <th>Account_Balance</th>\n",
              "      <th>Duration_of_Credit_monthly</th>\n",
              "      <th>Payment_Status_of_Previous_Credit</th>\n",
              "      <th>Purpose</th>\n",
              "      <th>Credit_Amount</th>\n",
              "      <th>Value_Savings_Stocks</th>\n",
              "      <th>Length_of_current_employment</th>\n",
              "      <th>Instalment_per_cent</th>\n",
              "      <th>Sex_Marital_Status</th>\n",
              "      <th>...</th>\n",
              "      <th>Duration_in_Current_address</th>\n",
              "      <th>Most_valuable_available_asset</th>\n",
              "      <th>Age_years</th>\n",
              "      <th>Concurrent_Credits</th>\n",
              "      <th>Type_of_apartment</th>\n",
              "      <th>No_of_Credits_at_this_Bank</th>\n",
              "      <th>Occupation</th>\n",
              "      <th>No_of_dependents</th>\n",
              "      <th>Telephone</th>\n",
              "      <th>Foreign_Worker</th>\n",
              "    </tr>\n",
              "  </thead>\n",
              "  <tbody>\n",
              "    <tr>\n",
              "      <th>0</th>\n",
              "      <td>1</td>\n",
              "      <td>1</td>\n",
              "      <td>18</td>\n",
              "      <td>4</td>\n",
              "      <td>2</td>\n",
              "      <td>1049</td>\n",
              "      <td>1</td>\n",
              "      <td>2</td>\n",
              "      <td>4</td>\n",
              "      <td>2</td>\n",
              "      <td>...</td>\n",
              "      <td>4</td>\n",
              "      <td>2</td>\n",
              "      <td>21</td>\n",
              "      <td>3</td>\n",
              "      <td>1</td>\n",
              "      <td>1</td>\n",
              "      <td>3</td>\n",
              "      <td>1</td>\n",
              "      <td>1</td>\n",
              "      <td>1</td>\n",
              "    </tr>\n",
              "    <tr>\n",
              "      <th>1</th>\n",
              "      <td>1</td>\n",
              "      <td>1</td>\n",
              "      <td>9</td>\n",
              "      <td>4</td>\n",
              "      <td>0</td>\n",
              "      <td>2799</td>\n",
              "      <td>1</td>\n",
              "      <td>3</td>\n",
              "      <td>2</td>\n",
              "      <td>3</td>\n",
              "      <td>...</td>\n",
              "      <td>2</td>\n",
              "      <td>1</td>\n",
              "      <td>36</td>\n",
              "      <td>3</td>\n",
              "      <td>1</td>\n",
              "      <td>2</td>\n",
              "      <td>3</td>\n",
              "      <td>2</td>\n",
              "      <td>1</td>\n",
              "      <td>1</td>\n",
              "    </tr>\n",
              "    <tr>\n",
              "      <th>2</th>\n",
              "      <td>1</td>\n",
              "      <td>2</td>\n",
              "      <td>12</td>\n",
              "      <td>2</td>\n",
              "      <td>9</td>\n",
              "      <td>841</td>\n",
              "      <td>2</td>\n",
              "      <td>4</td>\n",
              "      <td>2</td>\n",
              "      <td>2</td>\n",
              "      <td>...</td>\n",
              "      <td>4</td>\n",
              "      <td>1</td>\n",
              "      <td>23</td>\n",
              "      <td>3</td>\n",
              "      <td>1</td>\n",
              "      <td>1</td>\n",
              "      <td>2</td>\n",
              "      <td>1</td>\n",
              "      <td>1</td>\n",
              "      <td>1</td>\n",
              "    </tr>\n",
              "    <tr>\n",
              "      <th>3</th>\n",
              "      <td>1</td>\n",
              "      <td>1</td>\n",
              "      <td>12</td>\n",
              "      <td>4</td>\n",
              "      <td>0</td>\n",
              "      <td>2122</td>\n",
              "      <td>1</td>\n",
              "      <td>3</td>\n",
              "      <td>3</td>\n",
              "      <td>3</td>\n",
              "      <td>...</td>\n",
              "      <td>2</td>\n",
              "      <td>1</td>\n",
              "      <td>39</td>\n",
              "      <td>3</td>\n",
              "      <td>1</td>\n",
              "      <td>2</td>\n",
              "      <td>2</td>\n",
              "      <td>2</td>\n",
              "      <td>1</td>\n",
              "      <td>2</td>\n",
              "    </tr>\n",
              "    <tr>\n",
              "      <th>4</th>\n",
              "      <td>1</td>\n",
              "      <td>1</td>\n",
              "      <td>12</td>\n",
              "      <td>4</td>\n",
              "      <td>0</td>\n",
              "      <td>2171</td>\n",
              "      <td>1</td>\n",
              "      <td>3</td>\n",
              "      <td>4</td>\n",
              "      <td>3</td>\n",
              "      <td>...</td>\n",
              "      <td>4</td>\n",
              "      <td>2</td>\n",
              "      <td>38</td>\n",
              "      <td>1</td>\n",
              "      <td>2</td>\n",
              "      <td>2</td>\n",
              "      <td>2</td>\n",
              "      <td>1</td>\n",
              "      <td>1</td>\n",
              "      <td>2</td>\n",
              "    </tr>\n",
              "    <tr>\n",
              "      <th>...</th>\n",
              "      <td>...</td>\n",
              "      <td>...</td>\n",
              "      <td>...</td>\n",
              "      <td>...</td>\n",
              "      <td>...</td>\n",
              "      <td>...</td>\n",
              "      <td>...</td>\n",
              "      <td>...</td>\n",
              "      <td>...</td>\n",
              "      <td>...</td>\n",
              "      <td>...</td>\n",
              "      <td>...</td>\n",
              "      <td>...</td>\n",
              "      <td>...</td>\n",
              "      <td>...</td>\n",
              "      <td>...</td>\n",
              "      <td>...</td>\n",
              "      <td>...</td>\n",
              "      <td>...</td>\n",
              "      <td>...</td>\n",
              "      <td>...</td>\n",
              "    </tr>\n",
              "    <tr>\n",
              "      <th>995</th>\n",
              "      <td>0</td>\n",
              "      <td>1</td>\n",
              "      <td>24</td>\n",
              "      <td>2</td>\n",
              "      <td>3</td>\n",
              "      <td>1987</td>\n",
              "      <td>1</td>\n",
              "      <td>3</td>\n",
              "      <td>2</td>\n",
              "      <td>3</td>\n",
              "      <td>...</td>\n",
              "      <td>4</td>\n",
              "      <td>1</td>\n",
              "      <td>21</td>\n",
              "      <td>3</td>\n",
              "      <td>1</td>\n",
              "      <td>1</td>\n",
              "      <td>2</td>\n",
              "      <td>2</td>\n",
              "      <td>1</td>\n",
              "      <td>1</td>\n",
              "    </tr>\n",
              "    <tr>\n",
              "      <th>996</th>\n",
              "      <td>0</td>\n",
              "      <td>1</td>\n",
              "      <td>24</td>\n",
              "      <td>2</td>\n",
              "      <td>0</td>\n",
              "      <td>2303</td>\n",
              "      <td>1</td>\n",
              "      <td>5</td>\n",
              "      <td>4</td>\n",
              "      <td>3</td>\n",
              "      <td>...</td>\n",
              "      <td>1</td>\n",
              "      <td>1</td>\n",
              "      <td>45</td>\n",
              "      <td>3</td>\n",
              "      <td>2</td>\n",
              "      <td>1</td>\n",
              "      <td>3</td>\n",
              "      <td>1</td>\n",
              "      <td>1</td>\n",
              "      <td>1</td>\n",
              "    </tr>\n",
              "    <tr>\n",
              "      <th>997</th>\n",
              "      <td>0</td>\n",
              "      <td>4</td>\n",
              "      <td>21</td>\n",
              "      <td>4</td>\n",
              "      <td>0</td>\n",
              "      <td>12680</td>\n",
              "      <td>5</td>\n",
              "      <td>5</td>\n",
              "      <td>4</td>\n",
              "      <td>3</td>\n",
              "      <td>...</td>\n",
              "      <td>4</td>\n",
              "      <td>4</td>\n",
              "      <td>30</td>\n",
              "      <td>3</td>\n",
              "      <td>3</td>\n",
              "      <td>1</td>\n",
              "      <td>4</td>\n",
              "      <td>1</td>\n",
              "      <td>2</td>\n",
              "      <td>1</td>\n",
              "    </tr>\n",
              "    <tr>\n",
              "      <th>998</th>\n",
              "      <td>0</td>\n",
              "      <td>2</td>\n",
              "      <td>12</td>\n",
              "      <td>2</td>\n",
              "      <td>3</td>\n",
              "      <td>6468</td>\n",
              "      <td>5</td>\n",
              "      <td>1</td>\n",
              "      <td>2</td>\n",
              "      <td>3</td>\n",
              "      <td>...</td>\n",
              "      <td>1</td>\n",
              "      <td>4</td>\n",
              "      <td>52</td>\n",
              "      <td>3</td>\n",
              "      <td>2</td>\n",
              "      <td>1</td>\n",
              "      <td>4</td>\n",
              "      <td>1</td>\n",
              "      <td>2</td>\n",
              "      <td>1</td>\n",
              "    </tr>\n",
              "    <tr>\n",
              "      <th>999</th>\n",
              "      <td>0</td>\n",
              "      <td>1</td>\n",
              "      <td>30</td>\n",
              "      <td>2</td>\n",
              "      <td>2</td>\n",
              "      <td>6350</td>\n",
              "      <td>5</td>\n",
              "      <td>5</td>\n",
              "      <td>4</td>\n",
              "      <td>3</td>\n",
              "      <td>...</td>\n",
              "      <td>4</td>\n",
              "      <td>2</td>\n",
              "      <td>31</td>\n",
              "      <td>3</td>\n",
              "      <td>2</td>\n",
              "      <td>1</td>\n",
              "      <td>3</td>\n",
              "      <td>1</td>\n",
              "      <td>1</td>\n",
              "      <td>1</td>\n",
              "    </tr>\n",
              "  </tbody>\n",
              "</table>\n",
              "<p>1000 rows × 21 columns</p>\n",
              "</div>\n",
              "      <button class=\"colab-df-convert\" onclick=\"convertToInteractive('df-8ca9d77e-48f1-4d7e-9fd8-da6d24093ee9')\"\n",
              "              title=\"Convert this dataframe to an interactive table.\"\n",
              "              style=\"display:none;\">\n",
              "        \n",
              "  <svg xmlns=\"http://www.w3.org/2000/svg\" height=\"24px\"viewBox=\"0 0 24 24\"\n",
              "       width=\"24px\">\n",
              "    <path d=\"M0 0h24v24H0V0z\" fill=\"none\"/>\n",
              "    <path d=\"M18.56 5.44l.94 2.06.94-2.06 2.06-.94-2.06-.94-.94-2.06-.94 2.06-2.06.94zm-11 1L8.5 8.5l.94-2.06 2.06-.94-2.06-.94L8.5 2.5l-.94 2.06-2.06.94zm10 10l.94 2.06.94-2.06 2.06-.94-2.06-.94-.94-2.06-.94 2.06-2.06.94z\"/><path d=\"M17.41 7.96l-1.37-1.37c-.4-.4-.92-.59-1.43-.59-.52 0-1.04.2-1.43.59L10.3 9.45l-7.72 7.72c-.78.78-.78 2.05 0 2.83L4 21.41c.39.39.9.59 1.41.59.51 0 1.02-.2 1.41-.59l7.78-7.78 2.81-2.81c.8-.78.8-2.07 0-2.86zM5.41 20L4 18.59l7.72-7.72 1.47 1.35L5.41 20z\"/>\n",
              "  </svg>\n",
              "      </button>\n",
              "      \n",
              "  <style>\n",
              "    .colab-df-container {\n",
              "      display:flex;\n",
              "      flex-wrap:wrap;\n",
              "      gap: 12px;\n",
              "    }\n",
              "\n",
              "    .colab-df-convert {\n",
              "      background-color: #E8F0FE;\n",
              "      border: none;\n",
              "      border-radius: 50%;\n",
              "      cursor: pointer;\n",
              "      display: none;\n",
              "      fill: #1967D2;\n",
              "      height: 32px;\n",
              "      padding: 0 0 0 0;\n",
              "      width: 32px;\n",
              "    }\n",
              "\n",
              "    .colab-df-convert:hover {\n",
              "      background-color: #E2EBFA;\n",
              "      box-shadow: 0px 1px 2px rgba(60, 64, 67, 0.3), 0px 1px 3px 1px rgba(60, 64, 67, 0.15);\n",
              "      fill: #174EA6;\n",
              "    }\n",
              "\n",
              "    [theme=dark] .colab-df-convert {\n",
              "      background-color: #3B4455;\n",
              "      fill: #D2E3FC;\n",
              "    }\n",
              "\n",
              "    [theme=dark] .colab-df-convert:hover {\n",
              "      background-color: #434B5C;\n",
              "      box-shadow: 0px 1px 3px 1px rgba(0, 0, 0, 0.15);\n",
              "      filter: drop-shadow(0px 1px 2px rgba(0, 0, 0, 0.3));\n",
              "      fill: #FFFFFF;\n",
              "    }\n",
              "  </style>\n",
              "\n",
              "      <script>\n",
              "        const buttonEl =\n",
              "          document.querySelector('#df-8ca9d77e-48f1-4d7e-9fd8-da6d24093ee9 button.colab-df-convert');\n",
              "        buttonEl.style.display =\n",
              "          google.colab.kernel.accessAllowed ? 'block' : 'none';\n",
              "\n",
              "        async function convertToInteractive(key) {\n",
              "          const element = document.querySelector('#df-8ca9d77e-48f1-4d7e-9fd8-da6d24093ee9');\n",
              "          const dataTable =\n",
              "            await google.colab.kernel.invokeFunction('convertToInteractive',\n",
              "                                                     [key], {});\n",
              "          if (!dataTable) return;\n",
              "\n",
              "          const docLinkHtml = 'Like what you see? Visit the ' +\n",
              "            '<a target=\"_blank\" href=https://colab.research.google.com/notebooks/data_table.ipynb>data table notebook</a>'\n",
              "            + ' to learn more about interactive tables.';\n",
              "          element.innerHTML = '';\n",
              "          dataTable['output_type'] = 'display_data';\n",
              "          await google.colab.output.renderOutput(dataTable, element);\n",
              "          const docLink = document.createElement('div');\n",
              "          docLink.innerHTML = docLinkHtml;\n",
              "          element.appendChild(docLink);\n",
              "        }\n",
              "      </script>\n",
              "    </div>\n",
              "  </div>\n",
              "  "
            ]
          },
          "metadata": {},
          "execution_count": 5
        }
      ]
    },
    {
      "cell_type": "code",
      "source": [
        "dataset['Creditability'].value_counts()"
      ],
      "metadata": {
        "colab": {
          "base_uri": "https://localhost:8080/"
        },
        "id": "pfSr6dYVmAc7",
        "outputId": "cea20617-b397-4d9f-91d9-23ced2a17fbb"
      },
      "execution_count": 6,
      "outputs": [
        {
          "output_type": "execute_result",
          "data": {
            "text/plain": [
              "1    700\n",
              "0    300\n",
              "Name: Creditability, dtype: int64"
            ]
          },
          "metadata": {},
          "execution_count": 6
        }
      ]
    },
    {
      "cell_type": "code",
      "source": [
        "import seaborn as sn\n",
        "sn.countplot(dataset['Creditability'])"
      ],
      "metadata": {
        "colab": {
          "base_uri": "https://localhost:8080/",
          "height": 351
        },
        "id": "VFrF9_O1mVvp",
        "outputId": "ccb49dfc-12fd-4a0e-cfda-b72c48b329ff"
      },
      "execution_count": 7,
      "outputs": [
        {
          "output_type": "stream",
          "name": "stderr",
          "text": [
            "/usr/local/lib/python3.8/dist-packages/seaborn/_decorators.py:36: FutureWarning: Pass the following variable as a keyword arg: x. From version 0.12, the only valid positional argument will be `data`, and passing other arguments without an explicit keyword will result in an error or misinterpretation.\n",
            "  warnings.warn(\n"
          ]
        },
        {
          "output_type": "execute_result",
          "data": {
            "text/plain": [
              "<matplotlib.axes._subplots.AxesSubplot at 0x7fe465e86460>"
            ]
          },
          "metadata": {},
          "execution_count": 7
        },
        {
          "output_type": "display_data",
          "data": {
            "text/plain": [
              "<Figure size 432x288 with 1 Axes>"
            ],
            "image/png": "[encoded data removed]"
          },
          "metadata": {
            "needs_background": "light"
          }
        }
      ]
    },
    {
      "cell_type": "code",
      "source": [
        "70000/dataset.shape[0]"
      ],
      "metadata": {
        "colab": {
          "base_uri": "https://localhost:8080/"
        },
        "id": "f-_7pGKimgE5",
        "outputId": "1ba1f391-0101-49ce-e21f-9ebd920ac594"
      },
      "execution_count": 8,
      "outputs": [
        {
          "output_type": "execute_result",
          "data": {
            "text/plain": [
              "70.0"
            ]
          },
          "metadata": {},
          "execution_count": 8
        }
      ]
    },
    {
      "cell_type": "code",
      "source": [
        "dataset.dtypes"
      ],
      "metadata": {
        "colab": {
          "base_uri": "https://localhost:8080/"
        },
        "id": "ln_7cVtbn5mc",
        "outputId": "e2c2636c-8f8b-4acc-ecda-d7ca91dd18a7"
      },
      "execution_count": 9,
      "outputs": [
        {
          "output_type": "execute_result",
          "data": {
            "text/plain": [
              "Creditability                        int64\n",
              "Account_Balance                      int64\n",
              "Duration_of_Credit_monthly           int64\n",
              "Payment_Status_of_Previous_Credit    int64\n",
              "Purpose                              int64\n",
              "Credit_Amount                        int64\n",
              "Value_Savings_Stocks                 int64\n",
              "Length_of_current_employment         int64\n",
              "Instalment_per_cent                  int64\n",
              "Sex_Marital_Status                   int64\n",
              "Guarantors                           int64\n",
              "Duration_in_Current_address          int64\n",
              "Most_valuable_available_asset        int64\n",
              "Age_years                            int64\n",
              "Concurrent_Credits                   int64\n",
              "Type_of_apartment                    int64\n",
              "No_of_Credits_at_this_Bank           int64\n",
              "Occupation                           int64\n",
              "No_of_dependents                     int64\n",
              "Telephone                            int64\n",
              "Foreign_Worker                       int64\n",
              "dtype: object"
            ]
          },
          "metadata": {},
          "execution_count": 9
        }
      ]
    },
    {
      "cell_type": "code",
      "source": [
        "import imblearn\n",
        "from  collections import Counter"
      ],
      "metadata": {
        "id": "pWTwcbt8oA-F"
      },
      "execution_count": 10,
      "outputs": []
    },
    {
      "cell_type": "code",
      "source": [
        "x = dataset.drop(['Creditability'], axis = 1)\n",
        "y = dataset['Creditability']"
      ],
      "metadata": {
        "id": "sO4CX0WgoT_O"
      },
      "execution_count": 11,
      "outputs": []
    },
    {
      "cell_type": "code",
      "source": [
        "dataset['Creditability'].value_counts()"
      ],
      "metadata": {
        "colab": {
          "base_uri": "https://localhost:8080/"
        },
        "id": "GoB6i_bp-KYm",
        "outputId": "e8922553-a4c3-41fe-dac7-26c509f271de"
      },
      "execution_count": 12,
      "outputs": [
        {
          "output_type": "execute_result",
          "data": {
            "text/plain": [
              "1    700\n",
              "0    300\n",
              "Name: Creditability, dtype: int64"
            ]
          },
          "metadata": {},
          "execution_count": 12
        }
      ]
    },
    {
      "cell_type": "code",
      "source": [
        "import matplotlib.pyplot as plt\n",
        "plt.figure(figsize=(18,10))\n",
        "import numpy as np\n",
        "counter = Counter(y)\n",
        "for label, _ in counter.items():\n",
        "    row_ix = np.where(y == label)[0]\n",
        "    plt.scatter(x.loc[row_ix, \"Duration_of_Credit_monthly\"], x.loc[row_ix,\"Credit_Amount\"], label=str(label))\n",
        "plt.legend()\n",
        "# plt.savefig('Original.png')\n",
        "plt.show()"
      ],
      "metadata": {
        "colab": {
          "base_uri": "https://localhost:8080/",
          "height": 592
        },
        "id": "IcWGixhNogod",
        "outputId": "3b09fba7-f823-46be-92b0-16285476e7e1"
      },
      "execution_count": 13,
      "outputs": [
        {
          "output_type": "display_data",
          "data": {
            "text/plain": [
              "<Figure size 1296x720 with 1 Axes>"
            ],
            "image/png": "[encoded data removed]"
          },
          "metadata": {
            "needs_background": "light"
          }
        }
      ]
    },
    {
      "cell_type": "code",
      "source": [
        "for column  in dataset:\n",
        "  print(f\"{column} : {dataset[column].unique()}\")"
      ],
      "metadata": {
        "colab": {
          "base_uri": "https://localhost:8080/"
        },
        "id": "q8XyjDz-qn-H",
        "outputId": "97ab46bc-a15f-40e2-9bc9-474593f4a49b"
      },
      "execution_count": 14,
      "outputs": [
        {
          "output_type": "stream",
          "name": "stdout",
          "text": [
            "Creditability : [1 0]\n",
            "Account_Balance : [1 2 4 3]\n",
            "Duration_of_Credit_monthly : [18  9 12 10  8  6 24 11 30 48 36 15 42 21 27 33 28  4 47 14 39 60  5 22\n",
            " 54 13 16  7 20 26 45 72 40]\n",
            "Payment_Status_of_Previous_Credit : [4 2 3 0 1]\n",
            "Purpose : [ 2  0  9  3  1 10  5  4  6  8]\n",
            "Credit_Amount : [ 1049  2799   841  2122  2171  2241  3398  1361  1098  3758  3905  6187\n",
            "  1957  7582  1936  2647  3939  3213  2337  7228  3676  3124  2384  1424\n",
            "  4716  4771   652  1154  3556  4796  3017  3535  6614  1376  1721   860\n",
            "  1495  1934  3378  3868   996  1755  1028  2825  1239  1216  1258  1864\n",
            "  1474  1382   640  3919  1224  2331  6313   385  1655  1053  3160  3079\n",
            "  1163  2679  3578 10875  1344  1237  3077  2284  1567  2032  2745  1867\n",
            "  2299   929  3399  2030  3275  1940  1602  1979  2022  3342  5866  2360\n",
            "  1520  3651  2346  4454   666  1965  1995  2991  4221  1364  6361  4526\n",
            "  3573  4455  2136  5954  3777   806  4712  7432  1851  1393  1412  1473\n",
            "  1533  2012  3959   428  2366   763  3976  6260  1919  2603   936  3062\n",
            "  4795  5842  2063  1459  1213  5103   874  2978  1820  2872  1925  2515\n",
            "  2116  1453  1543  1318  2325   932  3148  3835  3832  5084  2406  2394\n",
            "  2476  2964  1262  1542  1743   409  8858  3512  1158  2684  1498  6416\n",
            "  3617  1291  1275  3972  3343   392  2134  5771  2788  5848  1228  1297\n",
            "  1552  1963  3235  4139  1804  1950 12749  1236  1055  8072  2831  1449\n",
            "  5742  2390  3430  2273  2923  1901  3711  8487  2255  7253  6761  1817\n",
            "  2141  3609  2333  7824  1445  7721  3763  4439  1107  1444 12169  2753\n",
            "  1494  2828  2483  1299  1549  3949  2901   709 10722  1287  3656  4679\n",
            "  8613  2659  1516  4380   802  1572  3566  1278   426  8588  3857   685\n",
            "  1603   601  2569  1316 10366  1568   629  1750  3488  1800  4151  2631\n",
            "  5248  2899  6204   804  3595  5711  2687  3643  2146  2315  3448  2708\n",
            "  1313  1493  2675  2118   909  1569  7678   660  2835  2670  3447  3568\n",
            "  3652  3660  1126   683  2251  4675  2353  3357   672   338  2697  2507\n",
            "  1478  3565  2221  1898   960  8133  2301   983  2320   339  5152  3749\n",
            "  3074   745  1469  1374   783  2606  9436   930  2751   250  1201   662\n",
            "  1300  1559  3016  1360  1204  1597  2073  2142  2132  1546  1418  1343\n",
            "  2662  6070  1927  2404  1554  1283   717  1747  1288  1038  2848  1413\n",
            "  3632  3229  3577   682  1924   727   781  2121   701  2069  1525  7629\n",
            "  3499  1346 10477  2924  1231  1961  5045  1255  1858  1221  1388  2279\n",
            "  2759  1410  1403  3021  6568  2578  7758   343  1591  3416  1108  5965\n",
            "  1514  6742  3650  3599 13756   276  4041   458   918  7393  1225  2812\n",
            "  3029  1480  1047  1471  5511  1206  6403   707  1503  6078  2528  1037\n",
            "  1352  3181  4594  5381  4657  1391  1913  7166  1409   976  2375   522\n",
            "  2743  5804  1169   776  1322  1175  2133  1829 11760  1501  1200  3195\n",
            "  4530  1555  2326  1887  1264   846  1532   935  2442  3590  2288  5117\n",
            " 14179  1386   618  1574   700   886  4686   790   766  2212  7308  5743\n",
            "  3973  7418  2629  1941  2445  6468  7374  3812  4006  7472  2028  5324\n",
            "  2323  1984   999  7409  2186  4473   937  3422  3105  2748  3872  5190\n",
            "  3001  3863  5801  1592  1185  3780  3612  1076  3527  2051  3331  3104\n",
            "  2611  1311  2108  4042   926  1680  1249  2463  1595  2058  7814  1740\n",
            "  1240  6842  5150  1203  2080  1538  3878  3186  2896  6967  1819  5943\n",
            "  7127  3349 10974   518  1860  9566  2930  1505  2238  2197  1881  1880\n",
            "  2389  1967  3380  1455   730  3244  1670  3979  1922  1295  1544   907\n",
            "  1715  1347  1007  1402  2002  2096  1101   894  1577  2764  8358  5433\n",
            "  3485  3850  7408  1377  4272  1553  9857   362  1935 10222  1330  9055\n",
            "  7966  3496  6948 12204  3446   684  4281  7174  2359  3621   741  7865\n",
            "  2910  5302  3620  3509  1657  1164  6229  1193  4583  5371   708   571\n",
            "  2522  5179  8229  1289  2712   975  1050   609  4788  3069   836  2577\n",
            "  1620  1845  6579  1893 10623  2249  3108   958  9277  6314  1526  6615\n",
            "  1872  2859  1582  1238  1433  7882  4169  3249  3149  2246  1797  2957\n",
            "  2348  6289  6419  6143 15857  2223  7238  2503  2622  4351   368   754\n",
            "  2424  6681  2427   753  2576   590  1414  1103   585  1068   713  1092\n",
            "  2329   882   866  2415  2101  1301  1113   760   625  1323  1138  1795\n",
            "  2728   484  1048  1155  7057  1537  2214  1585  1521  3990  3049  1282\n",
            " 10144  1168   454  3594  1768 15653  2247  4576  8335  5800  8471  3622\n",
            "  2181  7685  6110  3757  3394  6304  1244  3518  2613  7476  4591  5595\n",
            "  6224  1905  2993  8947  4020  2779  2782  1884 11054  9157  9283  6527\n",
            "  3368  2511  5493  1338  1082  1149  1308  6148  1736  3059  2996  7596\n",
            "  4811  1766  2760  5507  1199  2892  2862   654  1136  4113 14555   950\n",
            "  2150  2820  3060  2600  5003  6288  2538  4933  1530  1437  1823  1422\n",
            "  1217  9271  2145  1842  4297  3384  1245  4623  8386  1024 14318   433\n",
            "  2149  2397   931  1512  4241  4736  1778  2327  6872   795  1908  1953\n",
            "  2864  2319   915   947  1381  1285  1371  1042   900  1207  2278  6836\n",
            "  3345  1198 15672  7297  1943  3190  5129  1808   759  1980 10961  6887\n",
            "  1938  1835  1659  1209  3844  4843   639  5951  3804  4463  7980  4210\n",
            "  4611 11560  4165  4057  6458  1977  1928  1123 11328 11938  2520 14782\n",
            "  2671 12612  3031   626  3931  2302  3965  3914  4308  1534  2775  5998\n",
            "  1271  9398   951  1355  3051  7855  9572  1837  4249  5234  6758  1366\n",
            "  1358  2473  1337  7763  6560  3123  8065  2439  9034 14027  9629  1484\n",
            "  1131  2064 12976  2580  2570  3915  1309  4817  2579  2225  4153  3114\n",
            "  2124  1333  7119  4870   691  4370  2746  4110  2462  2969  4605  6331\n",
            "  3552   697  1442  5293  3414  2039  3161   902 10297 14421  1056  1274\n",
            "  1223  1372  2625  2235   959   884  1246  8086 10127   888   719 12389\n",
            "  6850  2210  7485   797  4746   939  1188 11590  1190  2767  3441  4280\n",
            "  3092  1331 15945  3234  9960  8648  1345  1647  4844  8318  2100 11816\n",
            "   448 11998 18424 14896  2762  3386  2169  5096  1882  6999  2292  8978\n",
            "   674  2718   750 12579  7511  3966  6199  1987  2303 12680  6350]\n",
            "Value_Savings_Stocks : [1 2 3 5 4]\n",
            "Length_of_current_employment : [2 3 4 1 5]\n",
            "Instalment_per_cent : [4 2 3 1]\n",
            "Sex_Marital_Status : [2 3 4 1]\n",
            "Guarantors : [1 3 2]\n",
            "Duration_in_Current_address : [4 2 3 1]\n",
            "Most_valuable_available_asset : [2 1 3 4]\n",
            "Age_years : [21 36 23 39 38 48 40 65 24 31 44 25 37 49 33 26 51 29 56 47 34 28 41 58\n",
            " 61 30 63 27 45 43 52 22 60 32 35 42 59 54 64 46 74 50 20 55 53 19 57 66\n",
            " 68 70 67 75 62]\n",
            "Concurrent_Credits : [3 1 2]\n",
            "Type_of_apartment : [1 2 3]\n",
            "No_of_Credits_at_this_Bank : [1 2 3 4]\n",
            "Occupation : [3 2 1 4]\n",
            "No_of_dependents : [1 2]\n",
            "Telephone : [1 2]\n",
            "Foreign_Worker : [1 2]\n"
          ]
        }
      ]
    },
    {
      "cell_type": "code",
      "source": [
        "x.shape, y.shape"
      ],
      "metadata": {
        "colab": {
          "base_uri": "https://localhost:8080/"
        },
        "id": "AcexvQwvwL2E",
        "outputId": "f91cf6b2-b13f-45cd-ca5d-b8dea7767b10"
      },
      "execution_count": 15,
      "outputs": [
        {
          "output_type": "execute_result",
          "data": {
            "text/plain": [
              "((1000, 20), (1000,))"
            ]
          },
          "metadata": {},
          "execution_count": 15
        }
      ]
    },
    {
      "cell_type": "code",
      "source": [
        "from sklearn.model_selection  import train_test_split\n",
        "xtrain,  xtest, ytrain, ytest = train_test_split(x, y,  test_size = 0.2, random_state = 5)\n",
        "xtrain.shape, ytrain.shape, xtest.shape, ytest.shape"
      ],
      "metadata": {
        "colab": {
          "base_uri": "https://localhost:8080/"
        },
        "id": "IqjYMbc_wu46",
        "outputId": "069d11cd-eb70-4cc4-ef9b-7784d6b7a689"
      },
      "execution_count": 16,
      "outputs": [
        {
          "output_type": "execute_result",
          "data": {
            "text/plain": [
              "((800, 20), (800,), (200, 20), (200,))"
            ]
          },
          "metadata": {},
          "execution_count": 16
        }
      ]
    },
    {
      "cell_type": "code",
      "source": [
        "len(xtrain.columns)"
      ],
      "metadata": {
        "colab": {
          "base_uri": "https://localhost:8080/"
        },
        "id": "1u8-HAClyeDU",
        "outputId": "b60a2f6b-ad8d-4934-d298-c52fc26cdb23"
      },
      "execution_count": 17,
      "outputs": [
        {
          "output_type": "execute_result",
          "data": {
            "text/plain": [
              "20"
            ]
          },
          "metadata": {},
          "execution_count": 17
        }
      ]
    },
    {
      "cell_type": "code",
      "source": [
        "import tensorflow as tf\n",
        "from tensorflow import  keras\n",
        "\n",
        "model = keras.Sequential([\n",
        "    keras.layers.Dense(20, input_shape = (20,), activation = 'relu'),\n",
        "    keras.layers.Dense(16,  activation = 'relu'),\n",
        "    keras.layers.Dense(1,  activation = 'sigmoid')\n",
        "])\n",
        "\n",
        "model.summary()"
      ],
      "metadata": {
        "colab": {
          "base_uri": "https://localhost:8080/"
        },
        "id": "5_F203D5xGbK",
        "outputId": "78d38769-34c3-4414-f849-66816120a741"
      },
      "execution_count": 18,
      "outputs": [
        {
          "output_type": "stream",
          "name": "stdout",
          "text": [
            "Model: \"sequential\"\n",
            "_________________________________________________________________\n",
            " Layer (type)                Output Shape              Param #   \n",
            "=================================================================\n",
            " dense (Dense)               (None, 20)                420       \n",
            "                                                                 \n",
            " dense_1 (Dense)             (None, 16)                336       \n",
            "                                                                 \n",
            " dense_2 (Dense)             (None, 1)                 17        \n",
            "                                                                 \n",
            "=================================================================\n",
            "Total params: 773\n",
            "Trainable params: 773\n",
            "Non-trainable params: 0\n",
            "_________________________________________________________________\n"
          ]
        }
      ]
    },
    {
      "cell_type": "code",
      "source": [
        "model.compile(optimizer = 'adam',  loss = 'binary_crossentropy', metrics = ['accuracy'])\n",
        "model.fit(xtrain, ytrain, epochs = 100)"
      ],
      "metadata": {
        "colab": {
          "base_uri": "https://localhost:8080/"
        },
        "id": "odL_NzLtxfOS",
        "outputId": "0a659d87-2184-4297-ed25-b76bd371065c"
      },
      "execution_count": 19,
      "outputs": [
        {
          "output_type": "stream",
          "name": "stdout",
          "text": [
            "Epoch 1/100\n",
            "25/25 [==============================] - 2s 5ms/step - loss: 61.3976 - accuracy: 0.5000\n",
            "Epoch 2/100\n",
            "25/25 [==============================] - 0s 4ms/step - loss: 11.3860 - accuracy: 0.5400\n",
            "Epoch 3/100\n",
            "25/25 [==============================] - 0s 4ms/step - loss: 3.1313 - accuracy: 0.5088\n",
            "Epoch 4/100\n",
            "25/25 [==============================] - 0s 4ms/step - loss: 1.9556 - accuracy: 0.4487\n",
            "Epoch 5/100\n",
            "25/25 [==============================] - 0s 5ms/step - loss: 1.4779 - accuracy: 0.4575\n",
            "Epoch 6/100\n",
            "25/25 [==============================] - 0s 3ms/step - loss: 1.2179 - accuracy: 0.5425\n",
            "Epoch 7/100\n",
            "25/25 [==============================] - 0s 4ms/step - loss: 1.4941 - accuracy: 0.5650\n",
            "Epoch 8/100\n",
            "25/25 [==============================] - 0s 4ms/step - loss: 1.4231 - accuracy: 0.5938\n",
            "Epoch 9/100\n",
            "25/25 [==============================] - 0s 6ms/step - loss: 1.5266 - accuracy: 0.5763\n",
            "Epoch 10/100\n",
            "25/25 [==============================] - 0s 3ms/step - loss: 1.1043 - accuracy: 0.6325\n",
            "Epoch 11/100\n",
            "25/25 [==============================] - 0s 4ms/step - loss: 1.0599 - accuracy: 0.6275\n",
            "Epoch 12/100\n",
            "25/25 [==============================] - 0s 5ms/step - loss: 0.8687 - accuracy: 0.6388\n",
            "Epoch 13/100\n",
            "25/25 [==============================] - 0s 4ms/step - loss: 0.8570 - accuracy: 0.6488\n",
            "Epoch 14/100\n",
            "25/25 [==============================] - 0s 4ms/step - loss: 0.9708 - accuracy: 0.6550\n",
            "Epoch 15/100\n",
            "25/25 [==============================] - 0s 4ms/step - loss: 1.4854 - accuracy: 0.5975\n",
            "Epoch 16/100\n",
            "25/25 [==============================] - 0s 4ms/step - loss: 2.0173 - accuracy: 0.6112\n",
            "Epoch 17/100\n",
            "25/25 [==============================] - 0s 3ms/step - loss: 1.0028 - accuracy: 0.6425\n",
            "Epoch 18/100\n",
            "25/25 [==============================] - 0s 6ms/step - loss: 0.7149 - accuracy: 0.6762\n",
            "Epoch 19/100\n",
            "25/25 [==============================] - 0s 5ms/step - loss: 0.9216 - accuracy: 0.6538\n",
            "Epoch 20/100\n",
            "25/25 [==============================] - 0s 4ms/step - loss: 0.7424 - accuracy: 0.6875\n",
            "Epoch 21/100\n",
            "25/25 [==============================] - 0s 3ms/step - loss: 1.3411 - accuracy: 0.6000\n",
            "Epoch 22/100\n",
            "25/25 [==============================] - 0s 4ms/step - loss: 0.7742 - accuracy: 0.6750\n",
            "Epoch 23/100\n",
            "25/25 [==============================] - 0s 3ms/step - loss: 0.8321 - accuracy: 0.6587\n",
            "Epoch 24/100\n",
            "25/25 [==============================] - 0s 3ms/step - loss: 0.7274 - accuracy: 0.6687\n",
            "Epoch 25/100\n",
            "25/25 [==============================] - 0s 6ms/step - loss: 0.9689 - accuracy: 0.6762\n",
            "Epoch 26/100\n",
            "25/25 [==============================] - 0s 6ms/step - loss: 2.3679 - accuracy: 0.6100\n",
            "Epoch 27/100\n",
            "25/25 [==============================] - 0s 5ms/step - loss: 1.2651 - accuracy: 0.6625\n",
            "Epoch 28/100\n",
            "25/25 [==============================] - 0s 4ms/step - loss: 1.0593 - accuracy: 0.6400\n",
            "Epoch 29/100\n",
            "25/25 [==============================] - 0s 4ms/step - loss: 1.8845 - accuracy: 0.6112\n",
            "Epoch 30/100\n",
            "25/25 [==============================] - 0s 5ms/step - loss: 0.8923 - accuracy: 0.6675\n",
            "Epoch 31/100\n",
            "25/25 [==============================] - 0s 5ms/step - loss: 1.0660 - accuracy: 0.6612\n",
            "Epoch 32/100\n",
            "25/25 [==============================] - 0s 6ms/step - loss: 2.0437 - accuracy: 0.6125\n",
            "Epoch 33/100\n",
            "25/25 [==============================] - 0s 4ms/step - loss: 2.6095 - accuracy: 0.5925\n",
            "Epoch 34/100\n",
            "25/25 [==============================] - 0s 4ms/step - loss: 1.4199 - accuracy: 0.6212\n",
            "Epoch 35/100\n",
            "25/25 [==============================] - 0s 3ms/step - loss: 1.5668 - accuracy: 0.6187\n",
            "Epoch 36/100\n",
            "25/25 [==============================] - 0s 7ms/step - loss: 2.0745 - accuracy: 0.5888\n",
            "Epoch 37/100\n",
            "25/25 [==============================] - 0s 4ms/step - loss: 4.0064 - accuracy: 0.5938\n",
            "Epoch 38/100\n",
            "25/25 [==============================] - 0s 6ms/step - loss: 1.6680 - accuracy: 0.6712\n",
            "Epoch 39/100\n",
            "25/25 [==============================] - 0s 5ms/step - loss: 0.8645 - accuracy: 0.6963\n",
            "Epoch 40/100\n",
            "25/25 [==============================] - 0s 3ms/step - loss: 0.6614 - accuracy: 0.7212\n",
            "Epoch 41/100\n",
            "25/25 [==============================] - 0s 4ms/step - loss: 0.8616 - accuracy: 0.6975\n",
            "Epoch 42/100\n",
            "25/25 [==============================] - 0s 6ms/step - loss: 1.5673 - accuracy: 0.6425\n",
            "Epoch 43/100\n",
            "25/25 [==============================] - 0s 4ms/step - loss: 1.1450 - accuracy: 0.6325\n",
            "Epoch 44/100\n",
            "25/25 [==============================] - 0s 6ms/step - loss: 0.7125 - accuracy: 0.7000\n",
            "Epoch 45/100\n",
            "25/25 [==============================] - 0s 4ms/step - loss: 0.6676 - accuracy: 0.7088\n",
            "Epoch 46/100\n",
            "25/25 [==============================] - 0s 5ms/step - loss: 0.6293 - accuracy: 0.7113\n",
            "Epoch 47/100\n",
            "25/25 [==============================] - 0s 4ms/step - loss: 1.6961 - accuracy: 0.6313\n",
            "Epoch 48/100\n",
            "25/25 [==============================] - 0s 3ms/step - loss: 1.1716 - accuracy: 0.6650\n",
            "Epoch 49/100\n",
            "25/25 [==============================] - 0s 4ms/step - loss: 0.7685 - accuracy: 0.6913\n",
            "Epoch 50/100\n",
            "25/25 [==============================] - 0s 4ms/step - loss: 0.8151 - accuracy: 0.6837\n",
            "Epoch 51/100\n",
            "25/25 [==============================] - 0s 5ms/step - loss: 1.3038 - accuracy: 0.6438\n",
            "Epoch 52/100\n",
            "25/25 [==============================] - 0s 4ms/step - loss: 1.1558 - accuracy: 0.6538\n",
            "Epoch 53/100\n",
            "25/25 [==============================] - 0s 5ms/step - loss: 0.7960 - accuracy: 0.6950\n",
            "Epoch 54/100\n",
            "25/25 [==============================] - 0s 4ms/step - loss: 0.7092 - accuracy: 0.7025\n",
            "Epoch 55/100\n",
            "25/25 [==============================] - 0s 5ms/step - loss: 0.5798 - accuracy: 0.7125\n",
            "Epoch 56/100\n",
            "25/25 [==============================] - 0s 6ms/step - loss: 0.6320 - accuracy: 0.7262\n",
            "Epoch 57/100\n",
            "25/25 [==============================] - 0s 4ms/step - loss: 0.9080 - accuracy: 0.6600\n",
            "Epoch 58/100\n",
            "25/25 [==============================] - 0s 3ms/step - loss: 1.3488 - accuracy: 0.6338\n",
            "Epoch 59/100\n",
            "25/25 [==============================] - 0s 3ms/step - loss: 0.8702 - accuracy: 0.6812\n",
            "Epoch 60/100\n",
            "25/25 [==============================] - 0s 4ms/step - loss: 0.9320 - accuracy: 0.6675\n",
            "Epoch 61/100\n",
            "25/25 [==============================] - 0s 4ms/step - loss: 0.8044 - accuracy: 0.7050\n",
            "Epoch 62/100\n",
            "25/25 [==============================] - 0s 5ms/step - loss: 0.6351 - accuracy: 0.7175\n",
            "Epoch 63/100\n",
            "25/25 [==============================] - 0s 3ms/step - loss: 0.6168 - accuracy: 0.7038\n",
            "Epoch 64/100\n",
            "25/25 [==============================] - 0s 4ms/step - loss: 0.7528 - accuracy: 0.6925\n",
            "Epoch 65/100\n",
            "25/25 [==============================] - 0s 5ms/step - loss: 0.7088 - accuracy: 0.7125\n",
            "Epoch 66/100\n",
            "25/25 [==============================] - 0s 5ms/step - loss: 0.6337 - accuracy: 0.7275\n",
            "Epoch 67/100\n",
            "25/25 [==============================] - 0s 5ms/step - loss: 0.8984 - accuracy: 0.6913\n",
            "Epoch 68/100\n",
            "25/25 [==============================] - 0s 4ms/step - loss: 1.4404 - accuracy: 0.6438\n",
            "Epoch 69/100\n",
            "25/25 [==============================] - 0s 6ms/step - loss: 1.4113 - accuracy: 0.6750\n",
            "Epoch 70/100\n",
            "25/25 [==============================] - 0s 4ms/step - loss: 1.2542 - accuracy: 0.6662\n",
            "Epoch 71/100\n",
            "25/25 [==============================] - 0s 5ms/step - loss: 1.0111 - accuracy: 0.6762\n",
            "Epoch 72/100\n",
            "25/25 [==============================] - 0s 4ms/step - loss: 1.5220 - accuracy: 0.6200\n",
            "Epoch 73/100\n",
            "25/25 [==============================] - 0s 3ms/step - loss: 0.6757 - accuracy: 0.7100\n",
            "Epoch 74/100\n",
            "25/25 [==============================] - 0s 4ms/step - loss: 0.8775 - accuracy: 0.6700\n",
            "Epoch 75/100\n",
            "25/25 [==============================] - 0s 5ms/step - loss: 0.7409 - accuracy: 0.6963\n",
            "Epoch 76/100\n",
            "25/25 [==============================] - 0s 4ms/step - loss: 0.9276 - accuracy: 0.6687\n",
            "Epoch 77/100\n",
            "25/25 [==============================] - 0s 4ms/step - loss: 0.8615 - accuracy: 0.7075\n",
            "Epoch 78/100\n",
            "25/25 [==============================] - 0s 5ms/step - loss: 0.9047 - accuracy: 0.6750\n",
            "Epoch 79/100\n",
            "25/25 [==============================] - 0s 4ms/step - loss: 0.9533 - accuracy: 0.6725\n",
            "Epoch 80/100\n",
            "25/25 [==============================] - 0s 5ms/step - loss: 0.8935 - accuracy: 0.6888\n",
            "Epoch 81/100\n",
            "25/25 [==============================] - 0s 5ms/step - loss: 0.8185 - accuracy: 0.7150\n",
            "Epoch 82/100\n",
            "25/25 [==============================] - 0s 4ms/step - loss: 1.2675 - accuracy: 0.6637\n",
            "Epoch 83/100\n",
            "25/25 [==============================] - 0s 4ms/step - loss: 0.5880 - accuracy: 0.7563\n",
            "Epoch 84/100\n",
            "25/25 [==============================] - 0s 4ms/step - loss: 0.8697 - accuracy: 0.6850\n",
            "Epoch 85/100\n",
            "25/25 [==============================] - 0s 4ms/step - loss: 0.8404 - accuracy: 0.6925\n",
            "Epoch 86/100\n",
            "25/25 [==============================] - 0s 5ms/step - loss: 0.6757 - accuracy: 0.7075\n",
            "Epoch 87/100\n",
            "25/25 [==============================] - 0s 4ms/step - loss: 0.7289 - accuracy: 0.7088\n",
            "Epoch 88/100\n",
            "25/25 [==============================] - 0s 5ms/step - loss: 0.9678 - accuracy: 0.6762\n",
            "Epoch 89/100\n",
            "25/25 [==============================] - 0s 5ms/step - loss: 0.8188 - accuracy: 0.6925\n",
            "Epoch 90/100\n",
            "25/25 [==============================] - 0s 5ms/step - loss: 0.9476 - accuracy: 0.6787\n",
            "Epoch 91/100\n",
            "25/25 [==============================] - 0s 6ms/step - loss: 0.9191 - accuracy: 0.6787\n",
            "Epoch 92/100\n",
            "25/25 [==============================] - 0s 5ms/step - loss: 0.7780 - accuracy: 0.7125\n",
            "Epoch 93/100\n",
            "25/25 [==============================] - 0s 4ms/step - loss: 0.9311 - accuracy: 0.7000\n",
            "Epoch 94/100\n",
            "25/25 [==============================] - 0s 4ms/step - loss: 1.8664 - accuracy: 0.6363\n",
            "Epoch 95/100\n",
            "25/25 [==============================] - 0s 3ms/step - loss: 0.7512 - accuracy: 0.6775\n",
            "Epoch 96/100\n",
            "25/25 [==============================] - 0s 4ms/step - loss: 0.5604 - accuracy: 0.7350\n",
            "Epoch 97/100\n",
            "25/25 [==============================] - 0s 4ms/step - loss: 0.6623 - accuracy: 0.7188\n",
            "Epoch 98/100\n",
            "25/25 [==============================] - 0s 4ms/step - loss: 0.8940 - accuracy: 0.6837\n",
            "Epoch 99/100\n",
            "25/25 [==============================] - 0s 7ms/step - loss: 0.7006 - accuracy: 0.7138\n",
            "Epoch 100/100\n",
            "25/25 [==============================] - 0s 5ms/step - loss: 0.6032 - accuracy: 0.7362\n"
          ]
        },
        {
          "output_type": "execute_result",
          "data": {
            "text/plain": [
              "<keras.callbacks.History at 0x7fe40db98f40>"
            ]
          },
          "metadata": {},
          "execution_count": 19
        }
      ]
    },
    {
      "cell_type": "code",
      "source": [
        "model.evaluate(xtest, ytest)"
      ],
      "metadata": {
        "colab": {
          "base_uri": "https://localhost:8080/"
        },
        "id": "KY-qN7UdzYgQ",
        "outputId": "79ccd1aa-2153-4cec-9d4f-1099c46cecde"
      },
      "execution_count": 20,
      "outputs": [
        {
          "output_type": "stream",
          "name": "stdout",
          "text": [
            "7/7 [==============================] - 0s 3ms/step - loss: 0.8364 - accuracy: 0.6900\n"
          ]
        },
        {
          "output_type": "execute_result",
          "data": {
            "text/plain": [
              "[0.8363874554634094, 0.6899999976158142]"
            ]
          },
          "metadata": {},
          "execution_count": 20
        }
      ]
    },
    {
      "cell_type": "code",
      "source": [
        "yprediction =  model.predict(xtest)\n",
        "yprediction[:6]"
      ],
      "metadata": {
        "colab": {
          "base_uri": "https://localhost:8080/"
        },
        "id": "OiVXgbMBz-rw",
        "outputId": "23e31011-24e8-4faa-a344-4beeb3e0cc00"
      },
      "execution_count": 21,
      "outputs": [
        {
          "output_type": "stream",
          "name": "stdout",
          "text": [
            "7/7 [==============================] - 0s 2ms/step\n"
          ]
        },
        {
          "output_type": "execute_result",
          "data": {
            "text/plain": [
              "array([[0.9841629 ],\n",
              "       [0.9039725 ],\n",
              "       [0.9727629 ],\n",
              "       [0.9771379 ],\n",
              "       [0.960888  ],\n",
              "       [0.98716134]], dtype=float32)"
            ]
          },
          "metadata": {},
          "execution_count": 21
        }
      ]
    },
    {
      "cell_type": "code",
      "source": [
        "ypred = []\n",
        "for element in yprediction:\n",
        "  if element > 0.5:\n",
        "    ypred.append(1)\n",
        "  else:\n",
        "    ypred.append(0)\n",
        "ypred[:6]"
      ],
      "metadata": {
        "colab": {
          "base_uri": "https://localhost:8080/"
        },
        "id": "FrTmt_PC0vSZ",
        "outputId": "8ec86d42-fa21-4239-df94-eae6bffc05af"
      },
      "execution_count": 22,
      "outputs": [
        {
          "output_type": "execute_result",
          "data": {
            "text/plain": [
              "[1, 1, 1, 1, 1, 1]"
            ]
          },
          "metadata": {},
          "execution_count": 22
        }
      ]
    },
    {
      "cell_type": "code",
      "source": [
        "ytest[:6]"
      ],
      "metadata": {
        "colab": {
          "base_uri": "https://localhost:8080/"
        },
        "id": "-7Hr5KG_0H-8",
        "outputId": "8b743050-7526-413b-8dca-a706df86502a"
      },
      "execution_count": 23,
      "outputs": [
        {
          "output_type": "execute_result",
          "data": {
            "text/plain": [
              "544    1\n",
              "515    1\n",
              "193    1\n",
              "11     1\n",
              "279    1\n",
              "653    1\n",
              "Name: Creditability, dtype: int64"
            ]
          },
          "metadata": {},
          "execution_count": 23
        }
      ]
    },
    {
      "cell_type": "code",
      "source": [
        "from sklearn.metrics import confusion_matrix, classification_report\n",
        "print(classification_report(ytest, ypred))"
      ],
      "metadata": {
        "colab": {
          "base_uri": "https://localhost:8080/"
        },
        "id": "uJhaLEyg0QaK",
        "outputId": "50773af0-e470-403f-b133-4f87e25a8f6e"
      },
      "execution_count": 24,
      "outputs": [
        {
          "output_type": "stream",
          "name": "stdout",
          "text": [
            "              precision    recall  f1-score   support\n",
            "\n",
            "           0       0.83      0.08      0.14        66\n",
            "           1       0.69      0.99      0.81       134\n",
            "\n",
            "    accuracy                           0.69       200\n",
            "   macro avg       0.76      0.53      0.47       200\n",
            "weighted avg       0.73      0.69      0.59       200\n",
            "\n"
          ]
        }
      ]
    },
    {
      "cell_type": "code",
      "source": [
        "import tensorflow as tw\n",
        "import seaborn as sn\n",
        "conmat = tw.math.confusion_matrix(labels = ytest,  predictions = ypred)\n",
        "plt.figure(figsize = (10, 7))\n",
        "sn.heatmap(conmat, annot = True, fmt = 'd')\n",
        "plt.xlabel(\"Prediction\")\n",
        "plt.ylabel(\"Truth\")"
      ],
      "metadata": {
        "colab": {
          "base_uri": "https://localhost:8080/",
          "height": 459
        },
        "id": "AfTfzDrY2OTq",
        "outputId": "2013a7b5-b960-4801-b0c1-a20ff902b01e"
      },
      "execution_count": 25,
      "outputs": [
        {
          "output_type": "execute_result",
          "data": {
            "text/plain": [
              "Text(69.0, 0.5, 'Truth')"
            ]
          },
          "metadata": {},
          "execution_count": 25
        },
        {
          "output_type": "display_data",
          "data": {
            "text/plain": [
              "<Figure size 720x504 with 2 Axes>"
            ],
            "image/png": "[encoded data removed]"
          },
          "metadata": {
            "needs_background": "light"
          }
        }
      ]
    },
    {
      "cell_type": "code",
      "source": [
        "#Imbalanced Handling Techniue on dataset\n",
        "#1.  Undersampling -> Random\n",
        "\n",
        "from imblearn.under_sampling import RandomUnderSampler\n",
        "rus = RandomUnderSampler(random_state = 41)\n",
        "\n",
        "xrus, yrus = rus.fit_resample(x, y)\n",
        "\n",
        "plt.figure(figsize=(18,10))\n",
        "print(\"After Random Undersample Dataset Shape %s\" %Counter(yrus))\n",
        "\n",
        "counter = Counter(yrus)\n",
        "for label, _ in counter.items():\n",
        "    row_ix = np.where(yrus == label)[0]\n",
        "    plt.scatter(xrus.loc[row_ix, \"Duration_of_Credit_monthly\"], xrus.loc[row_ix,\"Credit_Amount\"], label=str(label))\n",
        "plt.legend()\n",
        "\n",
        "# plt.savefig('Original.png')\n",
        "plt.show()"
      ],
      "metadata": {
        "colab": {
          "base_uri": "https://localhost:8080/",
          "height": 609
        },
        "id": "l7FtLyeu243X",
        "outputId": "d968499f-0474-46eb-dfea-7ae79d02b7ac"
      },
      "execution_count": 26,
      "outputs": [
        {
          "output_type": "stream",
          "name": "stdout",
          "text": [
            "After Random Undersample Dataset Shape Counter({0: 300, 1: 300})\n"
          ]
        },
        {
          "output_type": "display_data",
          "data": {
            "text/plain": [
              "<Figure size 1296x720 with 1 Axes>"
            ],
            "image/png": "[encoded data removed]"
          },
          "metadata": {
            "needs_background": "light"
          }
        }
      ]
    },
    {
      "cell_type": "code",
      "source": [
        "from sklearn.model_selection  import train_test_split\n",
        "xtrain,  xtest, ytrain, ytest = train_test_split(xrus, yrus,  test_size = 0.2, random_state = 5)\n",
        "xtrain.shape, ytrain.shape, xtest.shape, ytest.shape"
      ],
      "metadata": {
        "colab": {
          "base_uri": "https://localhost:8080/"
        },
        "id": "fN0UXv-27_GJ",
        "outputId": "1d371beb-6309-4527-d24c-be0063ed311d"
      },
      "execution_count": 27,
      "outputs": [
        {
          "output_type": "execute_result",
          "data": {
            "text/plain": [
              "((480, 20), (480,), (120, 20), (120,))"
            ]
          },
          "metadata": {},
          "execution_count": 27
        }
      ]
    },
    {
      "cell_type": "code",
      "source": [
        "modelrus = keras.Sequential([\n",
        "    keras.layers.Dense(20, input_shape = (20,), activation = 'relu'),\n",
        "    keras.layers.Dense(16,  activation = 'relu'),\n",
        "    keras.layers.Dense(1,  activation = 'sigmoid')\n",
        "])\n",
        "\n",
        "modelrus.summary()"
      ],
      "metadata": {
        "colab": {
          "base_uri": "https://localhost:8080/"
        },
        "id": "oSgFVeet56w-",
        "outputId": "f55762a2-4592-456c-c48a-969f485e86e4"
      },
      "execution_count": 28,
      "outputs": [
        {
          "output_type": "stream",
          "name": "stdout",
          "text": [
            "Model: \"sequential_1\"\n",
            "_________________________________________________________________\n",
            " Layer (type)                Output Shape              Param #   \n",
            "=================================================================\n",
            " dense_3 (Dense)             (None, 20)                420       \n",
            "                                                                 \n",
            " dense_4 (Dense)             (None, 16)                336       \n",
            "                                                                 \n",
            " dense_5 (Dense)             (None, 1)                 17        \n",
            "                                                                 \n",
            "=================================================================\n",
            "Total params: 773\n",
            "Trainable params: 773\n",
            "Non-trainable params: 0\n",
            "_________________________________________________________________\n"
          ]
        }
      ]
    },
    {
      "cell_type": "code",
      "source": [
        "modelrus.compile(optimizer = 'adam',  loss = 'binary_crossentropy', metrics = ['accuracy'])\n",
        "modelrus.fit(xtrain, ytrain, epochs = 100)"
      ],
      "metadata": {
        "colab": {
          "base_uri": "https://localhost:8080/"
        },
        "id": "1oRABdLX6ouX",
        "outputId": "5901e138-34e7-4a6b-e705-409f1dd45624"
      },
      "execution_count": 29,
      "outputs": [
        {
          "output_type": "stream",
          "name": "stdout",
          "text": [
            "Epoch 1/100\n",
            "15/15 [==============================] - 0s 3ms/step - loss: 64.0031 - accuracy: 0.5250\n",
            "Epoch 2/100\n",
            "15/15 [==============================] - 0s 2ms/step - loss: 18.9740 - accuracy: 0.4958\n",
            "Epoch 3/100\n",
            "15/15 [==============================] - 0s 2ms/step - loss: 7.0299 - accuracy: 0.4667\n",
            "Epoch 4/100\n",
            "15/15 [==============================] - 0s 3ms/step - loss: 4.1511 - accuracy: 0.4688\n",
            "Epoch 5/100\n",
            "15/15 [==============================] - 0s 3ms/step - loss: 3.6061 - accuracy: 0.4458\n",
            "Epoch 6/100\n",
            "15/15 [==============================] - 0s 3ms/step - loss: 2.8712 - accuracy: 0.4500\n",
            "Epoch 7/100\n",
            "15/15 [==============================] - 0s 3ms/step - loss: 2.7789 - accuracy: 0.4458\n",
            "Epoch 8/100\n",
            "15/15 [==============================] - 0s 3ms/step - loss: 2.9690 - accuracy: 0.4396\n",
            "Epoch 9/100\n",
            "15/15 [==============================] - 0s 3ms/step - loss: 1.9570 - accuracy: 0.4229\n",
            "Epoch 10/100\n",
            "15/15 [==============================] - 0s 2ms/step - loss: 1.6139 - accuracy: 0.4354\n",
            "Epoch 11/100\n",
            "15/15 [==============================] - 0s 2ms/step - loss: 1.8592 - accuracy: 0.4750\n",
            "Epoch 12/100\n",
            "15/15 [==============================] - 0s 3ms/step - loss: 1.9965 - accuracy: 0.4750\n",
            "Epoch 13/100\n",
            "15/15 [==============================] - 0s 3ms/step - loss: 2.0295 - accuracy: 0.4563\n",
            "Epoch 14/100\n",
            "15/15 [==============================] - 0s 2ms/step - loss: 1.5310 - accuracy: 0.4583\n",
            "Epoch 15/100\n",
            "15/15 [==============================] - 0s 2ms/step - loss: 1.7685 - accuracy: 0.4729\n",
            "Epoch 16/100\n",
            "15/15 [==============================] - 0s 2ms/step - loss: 2.9514 - accuracy: 0.4688\n",
            "Epoch 17/100\n",
            "15/15 [==============================] - 0s 2ms/step - loss: 2.8389 - accuracy: 0.4979\n",
            "Epoch 18/100\n",
            "15/15 [==============================] - 0s 3ms/step - loss: 1.3135 - accuracy: 0.4500\n",
            "Epoch 19/100\n",
            "15/15 [==============================] - 0s 3ms/step - loss: 1.1007 - accuracy: 0.4812\n",
            "Epoch 20/100\n",
            "15/15 [==============================] - 0s 2ms/step - loss: 1.1842 - accuracy: 0.4479\n",
            "Epoch 21/100\n",
            "15/15 [==============================] - 0s 2ms/step - loss: 1.2594 - accuracy: 0.4854\n",
            "Epoch 22/100\n",
            "15/15 [==============================] - 0s 2ms/step - loss: 1.0440 - accuracy: 0.4750\n",
            "Epoch 23/100\n",
            "15/15 [==============================] - 0s 2ms/step - loss: 1.3530 - accuracy: 0.4979\n",
            "Epoch 24/100\n",
            "15/15 [==============================] - 0s 2ms/step - loss: 1.1834 - accuracy: 0.5146\n",
            "Epoch 25/100\n",
            "15/15 [==============================] - 0s 3ms/step - loss: 0.9897 - accuracy: 0.4875\n",
            "Epoch 26/100\n",
            "15/15 [==============================] - 0s 2ms/step - loss: 1.1690 - accuracy: 0.5229\n",
            "Epoch 27/100\n",
            "15/15 [==============================] - 0s 3ms/step - loss: 1.7727 - accuracy: 0.5208\n",
            "Epoch 28/100\n",
            "15/15 [==============================] - 0s 2ms/step - loss: 1.1746 - accuracy: 0.4833\n",
            "Epoch 29/100\n",
            "15/15 [==============================] - 0s 3ms/step - loss: 1.1535 - accuracy: 0.4938\n",
            "Epoch 30/100\n",
            "15/15 [==============================] - 0s 3ms/step - loss: 1.3757 - accuracy: 0.4875\n",
            "Epoch 31/100\n",
            "15/15 [==============================] - 0s 3ms/step - loss: 1.0548 - accuracy: 0.4854\n",
            "Epoch 32/100\n",
            "15/15 [==============================] - 0s 2ms/step - loss: 0.9572 - accuracy: 0.5229\n",
            "Epoch 33/100\n",
            "15/15 [==============================] - 0s 2ms/step - loss: 0.9979 - accuracy: 0.5000\n",
            "Epoch 34/100\n",
            "15/15 [==============================] - 0s 2ms/step - loss: 1.6896 - accuracy: 0.4938\n",
            "Epoch 35/100\n",
            "15/15 [==============================] - 0s 3ms/step - loss: 2.9896 - accuracy: 0.4833\n",
            "Epoch 36/100\n",
            "15/15 [==============================] - 0s 2ms/step - loss: 1.9487 - accuracy: 0.4833\n",
            "Epoch 37/100\n",
            "15/15 [==============================] - 0s 2ms/step - loss: 2.3601 - accuracy: 0.5021\n",
            "Epoch 38/100\n",
            "15/15 [==============================] - 0s 2ms/step - loss: 1.9156 - accuracy: 0.5021\n",
            "Epoch 39/100\n",
            "15/15 [==============================] - 0s 2ms/step - loss: 1.0018 - accuracy: 0.5542\n",
            "Epoch 40/100\n",
            "15/15 [==============================] - 0s 3ms/step - loss: 0.9103 - accuracy: 0.5292\n",
            "Epoch 41/100\n",
            "15/15 [==============================] - 0s 2ms/step - loss: 1.3576 - accuracy: 0.5104\n",
            "Epoch 42/100\n",
            "15/15 [==============================] - 0s 2ms/step - loss: 1.8298 - accuracy: 0.5021\n",
            "Epoch 43/100\n",
            "15/15 [==============================] - 0s 2ms/step - loss: 1.7522 - accuracy: 0.5521\n",
            "Epoch 44/100\n",
            "15/15 [==============================] - 0s 2ms/step - loss: 2.5712 - accuracy: 0.5271\n",
            "Epoch 45/100\n",
            "15/15 [==============================] - 0s 3ms/step - loss: 2.1416 - accuracy: 0.5333\n",
            "Epoch 46/100\n",
            "15/15 [==============================] - 0s 2ms/step - loss: 1.1620 - accuracy: 0.5396\n",
            "Epoch 47/100\n",
            "15/15 [==============================] - 0s 2ms/step - loss: 1.0434 - accuracy: 0.5312\n",
            "Epoch 48/100\n",
            "15/15 [==============================] - 0s 2ms/step - loss: 1.2196 - accuracy: 0.5250\n",
            "Epoch 49/100\n",
            "15/15 [==============================] - 0s 3ms/step - loss: 1.2946 - accuracy: 0.5875\n",
            "Epoch 50/100\n",
            "15/15 [==============================] - 0s 2ms/step - loss: 1.7194 - accuracy: 0.5437\n",
            "Epoch 51/100\n",
            "15/15 [==============================] - 0s 3ms/step - loss: 1.4297 - accuracy: 0.5229\n",
            "Epoch 52/100\n",
            "15/15 [==============================] - 0s 3ms/step - loss: 1.4378 - accuracy: 0.5292\n",
            "Epoch 53/100\n",
            "15/15 [==============================] - 0s 2ms/step - loss: 0.8917 - accuracy: 0.5938\n",
            "Epoch 54/100\n",
            "15/15 [==============================] - 0s 3ms/step - loss: 1.3057 - accuracy: 0.5562\n",
            "Epoch 55/100\n",
            "15/15 [==============================] - 0s 2ms/step - loss: 1.8423 - accuracy: 0.5292\n",
            "Epoch 56/100\n",
            "15/15 [==============================] - 0s 3ms/step - loss: 1.3105 - accuracy: 0.5771\n",
            "Epoch 57/100\n",
            "15/15 [==============================] - 0s 2ms/step - loss: 0.8421 - accuracy: 0.5938\n",
            "Epoch 58/100\n",
            "15/15 [==============================] - 0s 2ms/step - loss: 0.8641 - accuracy: 0.5938\n",
            "Epoch 59/100\n",
            "15/15 [==============================] - 0s 2ms/step - loss: 0.9489 - accuracy: 0.5938\n",
            "Epoch 60/100\n",
            "15/15 [==============================] - 0s 2ms/step - loss: 0.8250 - accuracy: 0.5875\n",
            "Epoch 61/100\n",
            "15/15 [==============================] - 0s 3ms/step - loss: 1.2826 - accuracy: 0.5667\n",
            "Epoch 62/100\n",
            "15/15 [==============================] - 0s 2ms/step - loss: 0.9390 - accuracy: 0.5833\n",
            "Epoch 63/100\n",
            "15/15 [==============================] - 0s 2ms/step - loss: 1.3597 - accuracy: 0.5938\n",
            "Epoch 64/100\n",
            "15/15 [==============================] - 0s 2ms/step - loss: 1.3113 - accuracy: 0.5458\n",
            "Epoch 65/100\n",
            "15/15 [==============================] - 0s 3ms/step - loss: 1.7615 - accuracy: 0.4938\n",
            "Epoch 66/100\n",
            "15/15 [==============================] - 0s 2ms/step - loss: 1.0609 - accuracy: 0.5979\n",
            "Epoch 67/100\n",
            "15/15 [==============================] - 0s 2ms/step - loss: 0.8107 - accuracy: 0.5729\n",
            "Epoch 68/100\n",
            "15/15 [==============================] - 0s 3ms/step - loss: 1.0015 - accuracy: 0.5875\n",
            "Epoch 69/100\n",
            "15/15 [==============================] - 0s 3ms/step - loss: 0.7513 - accuracy: 0.6292\n",
            "Epoch 70/100\n",
            "15/15 [==============================] - 0s 2ms/step - loss: 1.0088 - accuracy: 0.5625\n",
            "Epoch 71/100\n",
            "15/15 [==============================] - 0s 2ms/step - loss: 1.5657 - accuracy: 0.5479\n",
            "Epoch 72/100\n",
            "15/15 [==============================] - 0s 2ms/step - loss: 1.0855 - accuracy: 0.5646\n",
            "Epoch 73/100\n",
            "15/15 [==============================] - 0s 2ms/step - loss: 1.5270 - accuracy: 0.5771\n",
            "Epoch 74/100\n",
            "15/15 [==============================] - 0s 3ms/step - loss: 0.8528 - accuracy: 0.6271\n",
            "Epoch 75/100\n",
            "15/15 [==============================] - 0s 2ms/step - loss: 2.1153 - accuracy: 0.4750\n",
            "Epoch 76/100\n",
            "15/15 [==============================] - 0s 2ms/step - loss: 2.4269 - accuracy: 0.5396\n",
            "Epoch 77/100\n",
            "15/15 [==============================] - 0s 3ms/step - loss: 2.2133 - accuracy: 0.5396\n",
            "Epoch 78/100\n",
            "15/15 [==============================] - 0s 3ms/step - loss: 1.3230 - accuracy: 0.5625\n",
            "Epoch 79/100\n",
            "15/15 [==============================] - 0s 2ms/step - loss: 0.8494 - accuracy: 0.6000\n",
            "Epoch 80/100\n",
            "15/15 [==============================] - 0s 3ms/step - loss: 0.7149 - accuracy: 0.6271\n",
            "Epoch 81/100\n",
            "15/15 [==============================] - 0s 2ms/step - loss: 1.3677 - accuracy: 0.5625\n",
            "Epoch 82/100\n",
            "15/15 [==============================] - 0s 2ms/step - loss: 1.3029 - accuracy: 0.6167\n",
            "Epoch 83/100\n",
            "15/15 [==============================] - 0s 2ms/step - loss: 1.0490 - accuracy: 0.6042\n",
            "Epoch 84/100\n",
            "15/15 [==============================] - 0s 2ms/step - loss: 1.2281 - accuracy: 0.6000\n",
            "Epoch 85/100\n",
            "15/15 [==============================] - 0s 2ms/step - loss: 1.4444 - accuracy: 0.5646\n",
            "Epoch 86/100\n",
            "15/15 [==============================] - 0s 3ms/step - loss: 1.5817 - accuracy: 0.5750\n",
            "Epoch 87/100\n",
            "15/15 [==============================] - 0s 2ms/step - loss: 1.4973 - accuracy: 0.5792\n",
            "Epoch 88/100\n",
            "15/15 [==============================] - 0s 2ms/step - loss: 1.0934 - accuracy: 0.5958\n",
            "Epoch 89/100\n",
            "15/15 [==============================] - 0s 2ms/step - loss: 1.9513 - accuracy: 0.5583\n",
            "Epoch 90/100\n",
            "15/15 [==============================] - 0s 3ms/step - loss: 1.5507 - accuracy: 0.5625\n",
            "Epoch 91/100\n",
            "15/15 [==============================] - 0s 3ms/step - loss: 1.3893 - accuracy: 0.5875\n",
            "Epoch 92/100\n",
            "15/15 [==============================] - 0s 2ms/step - loss: 1.5305 - accuracy: 0.5250\n",
            "Epoch 93/100\n",
            "15/15 [==============================] - 0s 3ms/step - loss: 0.8101 - accuracy: 0.6125\n",
            "Epoch 94/100\n",
            "15/15 [==============================] - 0s 2ms/step - loss: 0.6831 - accuracy: 0.6417\n",
            "Epoch 95/100\n",
            "15/15 [==============================] - 0s 3ms/step - loss: 0.7420 - accuracy: 0.6271\n",
            "Epoch 96/100\n",
            "15/15 [==============================] - 0s 3ms/step - loss: 0.7050 - accuracy: 0.6667\n",
            "Epoch 97/100\n",
            "15/15 [==============================] - 0s 2ms/step - loss: 0.7833 - accuracy: 0.6146\n",
            "Epoch 98/100\n",
            "15/15 [==============================] - 0s 2ms/step - loss: 1.6244 - accuracy: 0.5708\n",
            "Epoch 99/100\n",
            "15/15 [==============================] - 0s 2ms/step - loss: 1.5630 - accuracy: 0.5625\n",
            "Epoch 100/100\n",
            "15/15 [==============================] - 0s 2ms/step - loss: 0.8672 - accuracy: 0.6229\n"
          ]
        },
        {
          "output_type": "execute_result",
          "data": {
            "text/plain": [
              "<keras.callbacks.History at 0x7fe400cdae20>"
            ]
          },
          "metadata": {},
          "execution_count": 29
        }
      ]
    },
    {
      "cell_type": "code",
      "source": [
        "modelrus.evaluate(xtest, ytest)"
      ],
      "metadata": {
        "colab": {
          "base_uri": "https://localhost:8080/"
        },
        "id": "0quQPVMe70N_",
        "outputId": "7d7560c7-c021-41bb-ccb3-8edacd90a96d"
      },
      "execution_count": 30,
      "outputs": [
        {
          "output_type": "stream",
          "name": "stdout",
          "text": [
            "4/4 [==============================] - 0s 3ms/step - loss: 0.6458 - accuracy: 0.6417\n"
          ]
        },
        {
          "output_type": "execute_result",
          "data": {
            "text/plain": [
              "[0.6457923054695129, 0.6416666507720947]"
            ]
          },
          "metadata": {},
          "execution_count": 30
        }
      ]
    },
    {
      "cell_type": "code",
      "source": [
        "yprediction =  modelrus.predict(xtest)\n",
        "yprediction[:6]"
      ],
      "metadata": {
        "colab": {
          "base_uri": "https://localhost:8080/"
        },
        "id": "NKyYHacG8iYY",
        "outputId": "c37bf2ae-40e8-4062-cfdd-437a5c600373"
      },
      "execution_count": 31,
      "outputs": [
        {
          "output_type": "stream",
          "name": "stdout",
          "text": [
            "4/4 [==============================] - 0s 3ms/step\n"
          ]
        },
        {
          "output_type": "execute_result",
          "data": {
            "text/plain": [
              "array([[0.04210228],\n",
              "       [0.09490113],\n",
              "       [0.545165  ],\n",
              "       [0.21838577],\n",
              "       [0.82389295],\n",
              "       [0.6441015 ]], dtype=float32)"
            ]
          },
          "metadata": {},
          "execution_count": 31
        }
      ]
    },
    {
      "cell_type": "code",
      "source": [
        "ypred = []\n",
        "for element in yprediction:\n",
        "  if element > 0.5:\n",
        "    ypred.append(1)\n",
        "  else:\n",
        "    ypred.append(0)\n",
        "ypred[:6]"
      ],
      "metadata": {
        "colab": {
          "base_uri": "https://localhost:8080/"
        },
        "id": "2yahEehK8qO2",
        "outputId": "b2b14d22-0580-4ab2-c36e-752c4f446982"
      },
      "execution_count": 32,
      "outputs": [
        {
          "output_type": "execute_result",
          "data": {
            "text/plain": [
              "[0, 0, 1, 0, 1, 1]"
            ]
          },
          "metadata": {},
          "execution_count": 32
        }
      ]
    },
    {
      "cell_type": "code",
      "source": [
        "ytest[:6]"
      ],
      "metadata": {
        "colab": {
          "base_uri": "https://localhost:8080/"
        },
        "id": "2kanTmSL86gS",
        "outputId": "4503f3af-be12-410a-c942-41ce69eb713c"
      },
      "execution_count": 33,
      "outputs": [
        {
          "output_type": "execute_result",
          "data": {
            "text/plain": [
              "195    0\n",
              "155    0\n",
              "40     0\n",
              "212    0\n",
              "52     0\n",
              "529    1\n",
              "Name: Creditability, dtype: int64"
            ]
          },
          "metadata": {},
          "execution_count": 33
        }
      ]
    },
    {
      "cell_type": "code",
      "source": [
        "from sklearn.metrics import confusion_matrix, classification_report\n",
        "print(classification_report(ytest, ypred))"
      ],
      "metadata": {
        "colab": {
          "base_uri": "https://localhost:8080/"
        },
        "id": "eK6s24Be8OvS",
        "outputId": "e1ae00e9-4539-46b6-d4a2-15637ecbfc94"
      },
      "execution_count": 34,
      "outputs": [
        {
          "output_type": "stream",
          "name": "stdout",
          "text": [
            "              precision    recall  f1-score   support\n",
            "\n",
            "           0       0.67      0.52      0.58        58\n",
            "           1       0.63      0.76      0.69        62\n",
            "\n",
            "    accuracy                           0.64       120\n",
            "   macro avg       0.65      0.64      0.63       120\n",
            "weighted avg       0.65      0.64      0.64       120\n",
            "\n"
          ]
        }
      ]
    },
    {
      "cell_type": "code",
      "source": [
        "#2.  Undersampling -> Centroid\n",
        "\n",
        "from imblearn.under_sampling import ClusterCentroids\n",
        "rcc = ClusterCentroids(random_state = 41)\n",
        "\n",
        "xrcc, yrcc = rcc.fit_resample(x, y)\n",
        "\n",
        "plt.figure(figsize=(18,10))\n",
        "print(\"After Centroid Undersample Dataset Shape %s\" %Counter(yrcc))\n",
        "\n",
        "counter = Counter(yrcc)\n",
        "for label, _ in counter.items():\n",
        "    row_ix = np.where(yrus == label)[0]\n",
        "    plt.scatter(xrcc.loc[row_ix, \"Duration_of_Credit_monthly\"], xrcc.loc[row_ix,\"Credit_Amount\"], label=str(label))\n",
        "plt.legend()\n",
        "\n",
        "# plt.savefig('Original.png')\n",
        "plt.show()"
      ],
      "metadata": {
        "colab": {
          "base_uri": "https://localhost:8080/",
          "height": 609
        },
        "id": "YpZ2R1-m8WQ1",
        "outputId": "e30d3f03-2624-4cf5-8214-4e5f6bc23cc3"
      },
      "execution_count": 35,
      "outputs": [
        {
          "output_type": "stream",
          "name": "stdout",
          "text": [
            "After Centroid Undersample Dataset Shape Counter({0: 300, 1: 300})\n"
          ]
        },
        {
          "output_type": "display_data",
          "data": {
            "text/plain": [
              "<Figure size 1296x720 with 1 Axes>"
            ],
            "image/png": "[encoded data removed]"
          },
          "metadata": {
            "needs_background": "light"
          }
        }
      ]
    },
    {
      "cell_type": "code",
      "source": [
        "xtrain,  xtest, ytrain, ytest = train_test_split(xrcc, yrcc,  test_size = 0.2, random_state = 5)\n",
        "xtrain.shape, ytrain.shape, xtest.shape, ytest.shape"
      ],
      "metadata": {
        "colab": {
          "base_uri": "https://localhost:8080/"
        },
        "id": "pswyrOnHBJjP",
        "outputId": "a1dcf07a-971e-4e2e-b993-9d1fe19b8849"
      },
      "execution_count": 36,
      "outputs": [
        {
          "output_type": "execute_result",
          "data": {
            "text/plain": [
              "((480, 20), (480,), (120, 20), (120,))"
            ]
          },
          "metadata": {},
          "execution_count": 36
        }
      ]
    },
    {
      "cell_type": "code",
      "source": [
        "modelrcc = keras.Sequential([\n",
        "    keras.layers.Dense(20, input_shape = (20,), activation = 'relu'),\n",
        "    keras.layers.Dense(16,  activation = 'relu'),\n",
        "    keras.layers.Dense(1,  activation = 'sigmoid')\n",
        "])\n",
        "\n",
        "modelrcc.compile(optimizer = 'adam',  loss = 'binary_crossentropy', metrics = ['accuracy'])\n",
        "modelrcc.fit(xtrain, ytrain, epochs = 100)"
      ],
      "metadata": {
        "colab": {
          "base_uri": "https://localhost:8080/"
        },
        "id": "D3Wf6kawBJhe",
        "outputId": "5f30f190-1406-47eb-c170-5190f4885878"
      },
      "execution_count": 37,
      "outputs": [
        {
          "output_type": "stream",
          "name": "stdout",
          "text": [
            "Epoch 1/100\n",
            "15/15 [==============================] - 0s 3ms/step - loss: 139.1268 - accuracy: 0.4917\n",
            "Epoch 2/100\n",
            "15/15 [==============================] - 0s 2ms/step - loss: 14.6428 - accuracy: 0.5375\n",
            "Epoch 3/100\n",
            "15/15 [==============================] - 0s 2ms/step - loss: 6.0555 - accuracy: 0.4854\n",
            "Epoch 4/100\n",
            "15/15 [==============================] - 0s 2ms/step - loss: 4.2291 - accuracy: 0.5229\n",
            "Epoch 5/100\n",
            "15/15 [==============================] - 0s 3ms/step - loss: 3.4697 - accuracy: 0.4792\n",
            "Epoch 6/100\n",
            "15/15 [==============================] - 0s 3ms/step - loss: 3.3018 - accuracy: 0.4771\n",
            "Epoch 7/100\n",
            "15/15 [==============================] - 0s 3ms/step - loss: 3.0405 - accuracy: 0.4917\n",
            "Epoch 8/100\n",
            "15/15 [==============================] - 0s 3ms/step - loss: 2.5113 - accuracy: 0.5083\n",
            "Epoch 9/100\n",
            "15/15 [==============================] - 0s 3ms/step - loss: 2.1039 - accuracy: 0.4833\n",
            "Epoch 10/100\n",
            "15/15 [==============================] - 0s 2ms/step - loss: 2.4797 - accuracy: 0.4667\n",
            "Epoch 11/100\n",
            "15/15 [==============================] - 0s 2ms/step - loss: 1.8906 - accuracy: 0.4771\n",
            "Epoch 12/100\n",
            "15/15 [==============================] - 0s 2ms/step - loss: 1.7412 - accuracy: 0.4563\n",
            "Epoch 13/100\n",
            "15/15 [==============================] - 0s 2ms/step - loss: 1.1827 - accuracy: 0.4437\n",
            "Epoch 14/100\n",
            "15/15 [==============================] - 0s 2ms/step - loss: 1.2976 - accuracy: 0.4208\n",
            "Epoch 15/100\n",
            "15/15 [==============================] - 0s 2ms/step - loss: 1.4658 - accuracy: 0.4729\n",
            "Epoch 16/100\n",
            "15/15 [==============================] - 0s 2ms/step - loss: 1.9524 - accuracy: 0.4833\n",
            "Epoch 17/100\n",
            "15/15 [==============================] - 0s 2ms/step - loss: 1.9383 - accuracy: 0.5312\n",
            "Epoch 18/100\n",
            "15/15 [==============================] - 0s 2ms/step - loss: 1.2654 - accuracy: 0.4750\n",
            "Epoch 19/100\n",
            "15/15 [==============================] - 0s 2ms/step - loss: 0.9812 - accuracy: 0.4583\n",
            "Epoch 20/100\n",
            "15/15 [==============================] - 0s 2ms/step - loss: 1.3923 - accuracy: 0.4812\n",
            "Epoch 21/100\n",
            "15/15 [==============================] - 0s 2ms/step - loss: 1.4791 - accuracy: 0.4729\n",
            "Epoch 22/100\n",
            "15/15 [==============================] - 0s 2ms/step - loss: 1.2962 - accuracy: 0.4812\n",
            "Epoch 23/100\n",
            "15/15 [==============================] - 0s 2ms/step - loss: 2.3656 - accuracy: 0.4854\n",
            "Epoch 24/100\n",
            "15/15 [==============================] - 0s 4ms/step - loss: 1.4181 - accuracy: 0.5000\n",
            "Epoch 25/100\n",
            "15/15 [==============================] - 0s 2ms/step - loss: 1.4050 - accuracy: 0.4917\n",
            "Epoch 26/100\n",
            "15/15 [==============================] - 0s 3ms/step - loss: 1.1185 - accuracy: 0.4688\n",
            "Epoch 27/100\n",
            "15/15 [==============================] - 0s 3ms/step - loss: 1.1324 - accuracy: 0.4938\n",
            "Epoch 28/100\n",
            "15/15 [==============================] - 0s 3ms/step - loss: 1.8281 - accuracy: 0.4792\n",
            "Epoch 29/100\n",
            "15/15 [==============================] - 0s 3ms/step - loss: 1.0801 - accuracy: 0.5417\n",
            "Epoch 30/100\n",
            "15/15 [==============================] - 0s 3ms/step - loss: 1.2318 - accuracy: 0.4833\n",
            "Epoch 31/100\n",
            "15/15 [==============================] - 0s 3ms/step - loss: 0.9858 - accuracy: 0.4938\n",
            "Epoch 32/100\n",
            "15/15 [==============================] - 0s 2ms/step - loss: 0.8257 - accuracy: 0.5000\n",
            "Epoch 33/100\n",
            "15/15 [==============================] - 0s 2ms/step - loss: 1.2662 - accuracy: 0.5083\n",
            "Epoch 34/100\n",
            "15/15 [==============================] - 0s 3ms/step - loss: 1.0575 - accuracy: 0.5167\n",
            "Epoch 35/100\n",
            "15/15 [==============================] - 0s 2ms/step - loss: 0.9257 - accuracy: 0.5500\n",
            "Epoch 36/100\n",
            "15/15 [==============================] - 0s 2ms/step - loss: 0.9631 - accuracy: 0.5188\n",
            "Epoch 37/100\n",
            "15/15 [==============================] - 0s 2ms/step - loss: 1.7801 - accuracy: 0.5333\n",
            "Epoch 38/100\n",
            "15/15 [==============================] - 0s 2ms/step - loss: 1.6908 - accuracy: 0.4688\n",
            "Epoch 39/100\n",
            "15/15 [==============================] - 0s 2ms/step - loss: 1.4837 - accuracy: 0.5104\n",
            "Epoch 40/100\n",
            "15/15 [==============================] - 0s 3ms/step - loss: 1.3404 - accuracy: 0.5208\n",
            "Epoch 41/100\n",
            "15/15 [==============================] - 0s 3ms/step - loss: 1.0025 - accuracy: 0.5354\n",
            "Epoch 42/100\n",
            "15/15 [==============================] - 0s 2ms/step - loss: 0.9149 - accuracy: 0.5312\n",
            "Epoch 43/100\n",
            "15/15 [==============================] - 0s 2ms/step - loss: 0.7962 - accuracy: 0.5542\n",
            "Epoch 44/100\n",
            "15/15 [==============================] - 0s 3ms/step - loss: 1.4832 - accuracy: 0.5292\n",
            "Epoch 45/100\n",
            "15/15 [==============================] - 0s 3ms/step - loss: 1.0145 - accuracy: 0.5813\n",
            "Epoch 46/100\n",
            "15/15 [==============================] - 0s 2ms/step - loss: 1.1927 - accuracy: 0.5396\n",
            "Epoch 47/100\n",
            "15/15 [==============================] - 0s 2ms/step - loss: 1.6404 - accuracy: 0.4938\n",
            "Epoch 48/100\n",
            "15/15 [==============================] - 0s 3ms/step - loss: 1.5164 - accuracy: 0.4958\n",
            "Epoch 49/100\n",
            "15/15 [==============================] - 0s 2ms/step - loss: 1.0497 - accuracy: 0.5396\n",
            "Epoch 50/100\n",
            "15/15 [==============================] - 0s 2ms/step - loss: 1.4271 - accuracy: 0.5604\n",
            "Epoch 51/100\n",
            "15/15 [==============================] - 0s 2ms/step - loss: 1.9866 - accuracy: 0.5188\n",
            "Epoch 52/100\n",
            "15/15 [==============================] - 0s 2ms/step - loss: 1.3513 - accuracy: 0.4938\n",
            "Epoch 53/100\n",
            "15/15 [==============================] - 0s 3ms/step - loss: 1.0200 - accuracy: 0.5771\n",
            "Epoch 54/100\n",
            "15/15 [==============================] - 0s 2ms/step - loss: 0.8313 - accuracy: 0.6042\n",
            "Epoch 55/100\n",
            "15/15 [==============================] - 0s 2ms/step - loss: 0.8740 - accuracy: 0.5896\n",
            "Epoch 56/100\n",
            "15/15 [==============================] - 0s 2ms/step - loss: 0.9055 - accuracy: 0.5729\n",
            "Epoch 57/100\n",
            "15/15 [==============================] - 0s 2ms/step - loss: 1.3846 - accuracy: 0.5625\n",
            "Epoch 58/100\n",
            "15/15 [==============================] - 0s 2ms/step - loss: 1.0703 - accuracy: 0.5667\n",
            "Epoch 59/100\n",
            "15/15 [==============================] - 0s 3ms/step - loss: 0.9190 - accuracy: 0.5771\n",
            "Epoch 60/100\n",
            "15/15 [==============================] - 0s 2ms/step - loss: 0.8479 - accuracy: 0.6146\n",
            "Epoch 61/100\n",
            "15/15 [==============================] - 0s 3ms/step - loss: 0.7229 - accuracy: 0.6396\n",
            "Epoch 62/100\n",
            "15/15 [==============================] - 0s 2ms/step - loss: 0.7010 - accuracy: 0.6562\n",
            "Epoch 63/100\n",
            "15/15 [==============================] - 0s 2ms/step - loss: 1.0153 - accuracy: 0.5604\n",
            "Epoch 64/100\n",
            "15/15 [==============================] - 0s 3ms/step - loss: 0.9221 - accuracy: 0.6021\n",
            "Epoch 65/100\n",
            "15/15 [==============================] - 0s 2ms/step - loss: 0.7398 - accuracy: 0.6333\n",
            "Epoch 66/100\n",
            "15/15 [==============================] - 0s 2ms/step - loss: 1.0291 - accuracy: 0.6021\n",
            "Epoch 67/100\n",
            "15/15 [==============================] - 0s 2ms/step - loss: 0.6836 - accuracy: 0.6396\n",
            "Epoch 68/100\n",
            "15/15 [==============================] - 0s 3ms/step - loss: 0.7776 - accuracy: 0.6083\n",
            "Epoch 69/100\n",
            "15/15 [==============================] - 0s 2ms/step - loss: 1.0597 - accuracy: 0.5917\n",
            "Epoch 70/100\n",
            "15/15 [==============================] - 0s 2ms/step - loss: 0.8168 - accuracy: 0.5938\n",
            "Epoch 71/100\n",
            "15/15 [==============================] - 0s 3ms/step - loss: 1.1059 - accuracy: 0.5750\n",
            "Epoch 72/100\n",
            "15/15 [==============================] - 0s 2ms/step - loss: 1.2025 - accuracy: 0.5562\n",
            "Epoch 73/100\n",
            "15/15 [==============================] - 0s 2ms/step - loss: 1.5699 - accuracy: 0.5604\n",
            "Epoch 74/100\n",
            "15/15 [==============================] - 0s 2ms/step - loss: 1.4726 - accuracy: 0.5396\n",
            "Epoch 75/100\n",
            "15/15 [==============================] - 0s 3ms/step - loss: 1.0999 - accuracy: 0.5375\n",
            "Epoch 76/100\n",
            "15/15 [==============================] - 0s 3ms/step - loss: 0.9482 - accuracy: 0.5958\n",
            "Epoch 77/100\n",
            "15/15 [==============================] - 0s 2ms/step - loss: 0.6895 - accuracy: 0.6417\n",
            "Epoch 78/100\n",
            "15/15 [==============================] - 0s 2ms/step - loss: 0.8577 - accuracy: 0.6062\n",
            "Epoch 79/100\n",
            "15/15 [==============================] - 0s 2ms/step - loss: 0.7201 - accuracy: 0.6500\n",
            "Epoch 80/100\n",
            "15/15 [==============================] - 0s 2ms/step - loss: 0.9248 - accuracy: 0.6125\n",
            "Epoch 81/100\n",
            "15/15 [==============================] - 0s 2ms/step - loss: 0.9745 - accuracy: 0.5979\n",
            "Epoch 82/100\n",
            "15/15 [==============================] - 0s 2ms/step - loss: 1.6421 - accuracy: 0.5479\n",
            "Epoch 83/100\n",
            "15/15 [==============================] - 0s 2ms/step - loss: 1.3089 - accuracy: 0.5750\n",
            "Epoch 84/100\n",
            "15/15 [==============================] - 0s 2ms/step - loss: 0.7891 - accuracy: 0.6313\n",
            "Epoch 85/100\n",
            "15/15 [==============================] - 0s 3ms/step - loss: 1.1846 - accuracy: 0.5958\n",
            "Epoch 86/100\n",
            "15/15 [==============================] - 0s 3ms/step - loss: 0.8952 - accuracy: 0.5813\n",
            "Epoch 87/100\n",
            "15/15 [==============================] - 0s 2ms/step - loss: 0.7511 - accuracy: 0.6229\n",
            "Epoch 88/100\n",
            "15/15 [==============================] - 0s 3ms/step - loss: 0.8536 - accuracy: 0.6208\n",
            "Epoch 89/100\n",
            "15/15 [==============================] - 0s 2ms/step - loss: 0.7672 - accuracy: 0.6292\n",
            "Epoch 90/100\n",
            "15/15 [==============================] - 0s 2ms/step - loss: 0.8240 - accuracy: 0.6292\n",
            "Epoch 91/100\n",
            "15/15 [==============================] - 0s 2ms/step - loss: 0.8972 - accuracy: 0.6333\n",
            "Epoch 92/100\n",
            "15/15 [==============================] - 0s 3ms/step - loss: 1.9144 - accuracy: 0.5500\n",
            "Epoch 93/100\n",
            "15/15 [==============================] - 0s 2ms/step - loss: 1.1920 - accuracy: 0.6000\n",
            "Epoch 94/100\n",
            "15/15 [==============================] - 0s 3ms/step - loss: 1.4451 - accuracy: 0.6083\n",
            "Epoch 95/100\n",
            "15/15 [==============================] - 0s 2ms/step - loss: 0.6784 - accuracy: 0.6604\n",
            "Epoch 96/100\n",
            "15/15 [==============================] - 0s 2ms/step - loss: 0.6860 - accuracy: 0.6562\n",
            "Epoch 97/100\n",
            "15/15 [==============================] - 0s 3ms/step - loss: 0.7787 - accuracy: 0.6375\n",
            "Epoch 98/100\n",
            "15/15 [==============================] - 0s 2ms/step - loss: 0.6182 - accuracy: 0.6729\n",
            "Epoch 99/100\n",
            "15/15 [==============================] - 0s 3ms/step - loss: 0.8480 - accuracy: 0.6250\n",
            "Epoch 100/100\n",
            "15/15 [==============================] - 0s 2ms/step - loss: 0.9138 - accuracy: 0.6062\n"
          ]
        },
        {
          "output_type": "execute_result",
          "data": {
            "text/plain": [
              "<keras.callbacks.History at 0x7fe4642cca90>"
            ]
          },
          "metadata": {},
          "execution_count": 37
        }
      ]
    },
    {
      "cell_type": "code",
      "source": [
        "modelrcc.evaluate(xtest, ytest)"
      ],
      "metadata": {
        "colab": {
          "base_uri": "https://localhost:8080/"
        },
        "id": "hjD9Ylz-BJWD",
        "outputId": "bcef77ef-c290-42db-e38b-277da64611aa"
      },
      "execution_count": 38,
      "outputs": [
        {
          "output_type": "stream",
          "name": "stdout",
          "text": [
            "4/4 [==============================] - 0s 4ms/step - loss: 1.0761 - accuracy: 0.5750\n"
          ]
        },
        {
          "output_type": "execute_result",
          "data": {
            "text/plain": [
              "[1.0761451721191406, 0.574999988079071]"
            ]
          },
          "metadata": {},
          "execution_count": 38
        }
      ]
    },
    {
      "cell_type": "code",
      "source": [
        "yprediction =  modelrcc.predict(xtest)\n",
        "yprediction[:6]"
      ],
      "metadata": {
        "colab": {
          "base_uri": "https://localhost:8080/"
        },
        "id": "pr3VNWKlCMHS",
        "outputId": "e863efe8-16f6-46db-9229-44535858a6c4"
      },
      "execution_count": 39,
      "outputs": [
        {
          "output_type": "stream",
          "name": "stdout",
          "text": [
            "4/4 [==============================] - 0s 2ms/step\n"
          ]
        },
        {
          "output_type": "execute_result",
          "data": {
            "text/plain": [
              "array([[0.00417147],\n",
              "       [0.02499508],\n",
              "       [0.48267713],\n",
              "       [0.0585405 ],\n",
              "       [0.49258557],\n",
              "       [0.49361488]], dtype=float32)"
            ]
          },
          "metadata": {},
          "execution_count": 39
        }
      ]
    },
    {
      "cell_type": "code",
      "source": [
        "ypred = []\n",
        "for element in yprediction:\n",
        "  if element > 0.5:\n",
        "    ypred.append(1)\n",
        "  else:\n",
        "    ypred.append(0)\n",
        "ypred[:6]"
      ],
      "metadata": {
        "colab": {
          "base_uri": "https://localhost:8080/"
        },
        "id": "G69Use_HCdhR",
        "outputId": "4a82bd2b-93ca-4673-b4bf-db1264a55b86"
      },
      "execution_count": 40,
      "outputs": [
        {
          "output_type": "execute_result",
          "data": {
            "text/plain": [
              "[0, 0, 0, 0, 0, 0]"
            ]
          },
          "metadata": {},
          "execution_count": 40
        }
      ]
    },
    {
      "cell_type": "code",
      "source": [
        "ytest[:6]"
      ],
      "metadata": {
        "colab": {
          "base_uri": "https://localhost:8080/"
        },
        "id": "fLKQD9UNCdC6",
        "outputId": "aed26b21-32fc-47b7-f988-9efd54c92f75"
      },
      "execution_count": 41,
      "outputs": [
        {
          "output_type": "execute_result",
          "data": {
            "text/plain": [
              "195    0\n",
              "155    0\n",
              "40     0\n",
              "212    0\n",
              "52     0\n",
              "529    1\n",
              "Name: Creditability, dtype: int64"
            ]
          },
          "metadata": {},
          "execution_count": 41
        }
      ]
    },
    {
      "cell_type": "code",
      "source": [
        "print(classification_report(ytest, ypred))"
      ],
      "metadata": {
        "colab": {
          "base_uri": "https://localhost:8080/"
        },
        "id": "e4VZd01mCmJg",
        "outputId": "84829a69-81bc-4e19-c536-2d3ca3889f26"
      },
      "execution_count": 42,
      "outputs": [
        {
          "output_type": "stream",
          "name": "stdout",
          "text": [
            "              precision    recall  f1-score   support\n",
            "\n",
            "           0       0.53      0.93      0.68        58\n",
            "           1       0.79      0.24      0.37        62\n",
            "\n",
            "    accuracy                           0.57       120\n",
            "   macro avg       0.66      0.59      0.52       120\n",
            "weighted avg       0.67      0.57      0.52       120\n",
            "\n"
          ]
        }
      ]
    },
    {
      "cell_type": "code",
      "source": [
        "#3.  Undersampling -> EditedNearestNeighbours\n",
        "\n",
        "from imblearn.under_sampling import EditedNearestNeighbours\n",
        "enn = EditedNearestNeighbours()\n",
        "\n",
        "xenn, yenn = enn.fit_resample(x, y)\n",
        "\n",
        "plt.figure(figsize=(18,10))\n",
        "print(\"After EditedNearstNeighbours Undersample Dataset Shape %s\" %Counter(yenn))\n",
        "\n",
        "counter = Counter(yenn)\n",
        "for label, _ in counter.items():\n",
        "    row_ix = np.where(yenn == label)[0]\n",
        "    plt.scatter(xenn.loc[row_ix, \"Duration_of_Credit_monthly\"], xenn.loc[row_ix,\"Credit_Amount\"], label=str(label))\n",
        "plt.legend()\n",
        "\n",
        "# plt.savefig('Original.png')\n",
        "plt.show()"
      ],
      "metadata": {
        "colab": {
          "base_uri": "https://localhost:8080/",
          "height": 609
        },
        "id": "bBfFfq8R_iTO",
        "outputId": "11fc02d7-d308-49cb-ceb6-0c4e6f41f046"
      },
      "execution_count": 43,
      "outputs": [
        {
          "output_type": "stream",
          "name": "stdout",
          "text": [
            "After EditedNearstNeighbours Undersample Dataset Shape Counter({0: 300, 1: 271})\n"
          ]
        },
        {
          "output_type": "display_data",
          "data": {
            "text/plain": [
              "<Figure size 1296x720 with 1 Axes>"
            ],
            "image/png": "[encoded data removed]"
          },
          "metadata": {
            "needs_background": "light"
          }
        }
      ]
    },
    {
      "cell_type": "code",
      "source": [
        "xtrain,  xtest, ytrain, ytest = train_test_split(xenn, yenn,  test_size = 0.2, random_state = 5)\n",
        "xtrain.shape, ytrain.shape, xtest.shape, ytest.shape"
      ],
      "metadata": {
        "colab": {
          "base_uri": "https://localhost:8080/"
        },
        "id": "QbKKHMQ9AtxH",
        "outputId": "ba358079-2073-44e4-95b7-be24f6fc6b27"
      },
      "execution_count": 44,
      "outputs": [
        {
          "output_type": "execute_result",
          "data": {
            "text/plain": [
              "((456, 20), (456,), (115, 20), (115,))"
            ]
          },
          "metadata": {},
          "execution_count": 44
        }
      ]
    },
    {
      "cell_type": "code",
      "source": [
        "modelenn = keras.Sequential([\n",
        "    keras.layers.Dense(20, input_shape = (20,), activation = 'relu'),\n",
        "    keras.layers.Dense(16,  activation = 'relu'),\n",
        "    keras.layers.Dense(1,  activation = 'sigmoid')\n",
        "])\n",
        "\n",
        "modelenn.compile(optimizer = 'adam',  loss = 'binary_crossentropy', metrics = ['accuracy'])\n",
        "modelenn.fit(xtrain, ytrain, epochs = 100)"
      ],
      "metadata": {
        "colab": {
          "base_uri": "https://localhost:8080/"
        },
        "id": "-NI7dNlsDQve",
        "outputId": "a322d95d-967b-43b0-b1b1-a6c765de6776"
      },
      "execution_count": 45,
      "outputs": [
        {
          "output_type": "stream",
          "name": "stdout",
          "text": [
            "Epoch 1/100\n",
            "15/15 [==============================] - 1s 4ms/step - loss: 283.0198 - accuracy: 0.4583\n",
            "Epoch 2/100\n",
            "15/15 [==============================] - 0s 3ms/step - loss: 78.7159 - accuracy: 0.4912\n",
            "Epoch 3/100\n",
            "15/15 [==============================] - 0s 3ms/step - loss: 26.6853 - accuracy: 0.5417\n",
            "Epoch 4/100\n",
            "15/15 [==============================] - 0s 3ms/step - loss: 9.1295 - accuracy: 0.4846\n",
            "Epoch 5/100\n",
            "15/15 [==============================] - 0s 3ms/step - loss: 3.4611 - accuracy: 0.5570\n",
            "Epoch 6/100\n",
            "15/15 [==============================] - 0s 3ms/step - loss: 1.9351 - accuracy: 0.5351\n",
            "Epoch 7/100\n",
            "15/15 [==============================] - 0s 3ms/step - loss: 1.8694 - accuracy: 0.5154\n",
            "Epoch 8/100\n",
            "15/15 [==============================] - 0s 3ms/step - loss: 1.2196 - accuracy: 0.5746\n",
            "Epoch 9/100\n",
            "15/15 [==============================] - 0s 3ms/step - loss: 0.9899 - accuracy: 0.6162\n",
            "Epoch 10/100\n",
            "15/15 [==============================] - 0s 3ms/step - loss: 0.9661 - accuracy: 0.5877\n",
            "Epoch 11/100\n",
            "15/15 [==============================] - 0s 3ms/step - loss: 0.8518 - accuracy: 0.5877\n",
            "Epoch 12/100\n",
            "15/15 [==============================] - 0s 3ms/step - loss: 0.8741 - accuracy: 0.5702\n",
            "Epoch 13/100\n",
            "15/15 [==============================] - 0s 3ms/step - loss: 0.7710 - accuracy: 0.5921\n",
            "Epoch 14/100\n",
            "15/15 [==============================] - 0s 3ms/step - loss: 0.8411 - accuracy: 0.5768\n",
            "Epoch 15/100\n",
            "15/15 [==============================] - 0s 3ms/step - loss: 0.8689 - accuracy: 0.6053\n",
            "Epoch 16/100\n",
            "15/15 [==============================] - 0s 4ms/step - loss: 0.9078 - accuracy: 0.5855\n",
            "Epoch 17/100\n",
            "15/15 [==============================] - 0s 3ms/step - loss: 0.8701 - accuracy: 0.6009\n",
            "Epoch 18/100\n",
            "15/15 [==============================] - 0s 3ms/step - loss: 0.7634 - accuracy: 0.5987\n",
            "Epoch 19/100\n",
            "15/15 [==============================] - 0s 3ms/step - loss: 0.8208 - accuracy: 0.6250\n",
            "Epoch 20/100\n",
            "15/15 [==============================] - 0s 3ms/step - loss: 1.9969 - accuracy: 0.5658\n",
            "Epoch 21/100\n",
            "15/15 [==============================] - 0s 3ms/step - loss: 3.0094 - accuracy: 0.5724\n",
            "Epoch 22/100\n",
            "15/15 [==============================] - 0s 3ms/step - loss: 1.1409 - accuracy: 0.5526\n",
            "Epoch 23/100\n",
            "15/15 [==============================] - 0s 3ms/step - loss: 0.9791 - accuracy: 0.5899\n",
            "Epoch 24/100\n",
            "15/15 [==============================] - 0s 3ms/step - loss: 1.0004 - accuracy: 0.5921\n",
            "Epoch 25/100\n",
            "15/15 [==============================] - 0s 3ms/step - loss: 0.8587 - accuracy: 0.6075\n",
            "Epoch 26/100\n",
            "15/15 [==============================] - 0s 3ms/step - loss: 1.2819 - accuracy: 0.5592\n",
            "Epoch 27/100\n",
            "15/15 [==============================] - 0s 3ms/step - loss: 1.4625 - accuracy: 0.6096\n",
            "Epoch 28/100\n",
            "15/15 [==============================] - 0s 3ms/step - loss: 1.4181 - accuracy: 0.5461\n",
            "Epoch 29/100\n",
            "15/15 [==============================] - 0s 3ms/step - loss: 0.8112 - accuracy: 0.6140\n",
            "Epoch 30/100\n",
            "15/15 [==============================] - 0s 3ms/step - loss: 0.7456 - accuracy: 0.6272\n",
            "Epoch 31/100\n",
            "15/15 [==============================] - 0s 3ms/step - loss: 1.4343 - accuracy: 0.5789\n",
            "Epoch 32/100\n",
            "15/15 [==============================] - 0s 3ms/step - loss: 1.6285 - accuracy: 0.5833\n",
            "Epoch 33/100\n",
            "15/15 [==============================] - 0s 3ms/step - loss: 2.1804 - accuracy: 0.5395\n",
            "Epoch 34/100\n",
            "15/15 [==============================] - 0s 3ms/step - loss: 1.0941 - accuracy: 0.6096\n",
            "Epoch 35/100\n",
            "15/15 [==============================] - 0s 3ms/step - loss: 0.9793 - accuracy: 0.6096\n",
            "Epoch 36/100\n",
            "15/15 [==============================] - 0s 3ms/step - loss: 0.9343 - accuracy: 0.6096\n",
            "Epoch 37/100\n",
            "15/15 [==============================] - 0s 3ms/step - loss: 0.8587 - accuracy: 0.5921\n",
            "Epoch 38/100\n",
            "15/15 [==============================] - 0s 3ms/step - loss: 1.1188 - accuracy: 0.5811\n",
            "Epoch 39/100\n",
            "15/15 [==============================] - 0s 3ms/step - loss: 0.8488 - accuracy: 0.6316\n",
            "Epoch 40/100\n",
            "15/15 [==============================] - 0s 3ms/step - loss: 0.7271 - accuracy: 0.6206\n",
            "Epoch 41/100\n",
            "15/15 [==============================] - 0s 3ms/step - loss: 1.0608 - accuracy: 0.5702\n",
            "Epoch 42/100\n",
            "15/15 [==============================] - 0s 3ms/step - loss: 0.8171 - accuracy: 0.5987\n",
            "Epoch 43/100\n",
            "15/15 [==============================] - 0s 3ms/step - loss: 1.3042 - accuracy: 0.5680\n",
            "Epoch 44/100\n",
            "15/15 [==============================] - 0s 4ms/step - loss: 1.3220 - accuracy: 0.6031\n",
            "Epoch 45/100\n",
            "15/15 [==============================] - 0s 3ms/step - loss: 1.9389 - accuracy: 0.5789\n",
            "Epoch 46/100\n",
            "15/15 [==============================] - 0s 3ms/step - loss: 1.2902 - accuracy: 0.5724\n",
            "Epoch 47/100\n",
            "15/15 [==============================] - 0s 3ms/step - loss: 0.9628 - accuracy: 0.6228\n",
            "Epoch 48/100\n",
            "15/15 [==============================] - 0s 3ms/step - loss: 0.8516 - accuracy: 0.5965\n",
            "Epoch 49/100\n",
            "15/15 [==============================] - 0s 3ms/step - loss: 1.9038 - accuracy: 0.6206\n",
            "Epoch 50/100\n",
            "15/15 [==============================] - 0s 3ms/step - loss: 0.9737 - accuracy: 0.5746\n",
            "Epoch 51/100\n",
            "15/15 [==============================] - 0s 4ms/step - loss: 0.7787 - accuracy: 0.6316\n",
            "Epoch 52/100\n",
            "15/15 [==============================] - 0s 3ms/step - loss: 0.6782 - accuracy: 0.6491\n",
            "Epoch 53/100\n",
            "15/15 [==============================] - 0s 3ms/step - loss: 0.6654 - accuracy: 0.6316\n",
            "Epoch 54/100\n",
            "15/15 [==============================] - 0s 3ms/step - loss: 0.9735 - accuracy: 0.6162\n",
            "Epoch 55/100\n",
            "15/15 [==============================] - 0s 3ms/step - loss: 1.4962 - accuracy: 0.5702\n",
            "Epoch 56/100\n",
            "15/15 [==============================] - 0s 4ms/step - loss: 0.7367 - accuracy: 0.6425\n",
            "Epoch 57/100\n",
            "15/15 [==============================] - 0s 4ms/step - loss: 0.7822 - accuracy: 0.6316\n",
            "Epoch 58/100\n",
            "15/15 [==============================] - 0s 3ms/step - loss: 0.8676 - accuracy: 0.6075\n",
            "Epoch 59/100\n",
            "15/15 [==============================] - 0s 3ms/step - loss: 0.8470 - accuracy: 0.6425\n",
            "Epoch 60/100\n",
            "15/15 [==============================] - 0s 3ms/step - loss: 0.7920 - accuracy: 0.6535\n",
            "Epoch 61/100\n",
            "15/15 [==============================] - 0s 3ms/step - loss: 1.2862 - accuracy: 0.5855\n",
            "Epoch 62/100\n",
            "15/15 [==============================] - 0s 3ms/step - loss: 1.0321 - accuracy: 0.6184\n",
            "Epoch 63/100\n",
            "15/15 [==============================] - 0s 3ms/step - loss: 1.0640 - accuracy: 0.6118\n",
            "Epoch 64/100\n",
            "15/15 [==============================] - 0s 3ms/step - loss: 0.8198 - accuracy: 0.6031\n",
            "Epoch 65/100\n",
            "15/15 [==============================] - 0s 3ms/step - loss: 3.3253 - accuracy: 0.5548\n",
            "Epoch 66/100\n",
            "15/15 [==============================] - 0s 3ms/step - loss: 1.1420 - accuracy: 0.6250\n",
            "Epoch 67/100\n",
            "15/15 [==============================] - 0s 3ms/step - loss: 1.2788 - accuracy: 0.5965\n",
            "Epoch 68/100\n",
            "15/15 [==============================] - 0s 3ms/step - loss: 1.4817 - accuracy: 0.5789\n",
            "Epoch 69/100\n",
            "15/15 [==============================] - 0s 3ms/step - loss: 1.8225 - accuracy: 0.5680\n",
            "Epoch 70/100\n",
            "15/15 [==============================] - 0s 3ms/step - loss: 2.5730 - accuracy: 0.5658\n",
            "Epoch 71/100\n",
            "15/15 [==============================] - 0s 3ms/step - loss: 1.3373 - accuracy: 0.5768\n",
            "Epoch 72/100\n",
            "15/15 [==============================] - 0s 3ms/step - loss: 1.4150 - accuracy: 0.5658\n",
            "Epoch 73/100\n",
            "15/15 [==============================] - 0s 3ms/step - loss: 0.9628 - accuracy: 0.6557\n",
            "Epoch 74/100\n",
            "15/15 [==============================] - 0s 3ms/step - loss: 0.7088 - accuracy: 0.6360\n",
            "Epoch 75/100\n",
            "15/15 [==============================] - 0s 3ms/step - loss: 0.6996 - accuracy: 0.6535\n",
            "Epoch 76/100\n",
            "15/15 [==============================] - 0s 3ms/step - loss: 0.6241 - accuracy: 0.6776\n",
            "Epoch 77/100\n",
            "15/15 [==============================] - 0s 3ms/step - loss: 1.4334 - accuracy: 0.5833\n",
            "Epoch 78/100\n",
            "15/15 [==============================] - 0s 3ms/step - loss: 1.6233 - accuracy: 0.6140\n",
            "Epoch 79/100\n",
            "15/15 [==============================] - 0s 3ms/step - loss: 0.8492 - accuracy: 0.6316\n",
            "Epoch 80/100\n",
            "15/15 [==============================] - 0s 3ms/step - loss: 0.7541 - accuracy: 0.6513\n",
            "Epoch 81/100\n",
            "15/15 [==============================] - 0s 3ms/step - loss: 0.6706 - accuracy: 0.6579\n",
            "Epoch 82/100\n",
            "15/15 [==============================] - 0s 3ms/step - loss: 0.7098 - accuracy: 0.6667\n",
            "Epoch 83/100\n",
            "15/15 [==============================] - 0s 3ms/step - loss: 0.6786 - accuracy: 0.6623\n",
            "Epoch 84/100\n",
            "15/15 [==============================] - 0s 3ms/step - loss: 0.7693 - accuracy: 0.6491\n",
            "Epoch 85/100\n",
            "15/15 [==============================] - 0s 3ms/step - loss: 0.6450 - accuracy: 0.7171\n",
            "Epoch 86/100\n",
            "15/15 [==============================] - 0s 3ms/step - loss: 1.2435 - accuracy: 0.6009\n",
            "Epoch 87/100\n",
            "15/15 [==============================] - 0s 3ms/step - loss: 1.4090 - accuracy: 0.6031\n",
            "Epoch 88/100\n",
            "15/15 [==============================] - 0s 3ms/step - loss: 0.8523 - accuracy: 0.6557\n",
            "Epoch 89/100\n",
            "15/15 [==============================] - 0s 3ms/step - loss: 0.9077 - accuracy: 0.6053\n",
            "Epoch 90/100\n",
            "15/15 [==============================] - 0s 3ms/step - loss: 0.8860 - accuracy: 0.6601\n",
            "Epoch 91/100\n",
            "15/15 [==============================] - 0s 3ms/step - loss: 0.7583 - accuracy: 0.6469\n",
            "Epoch 92/100\n",
            "15/15 [==============================] - 0s 3ms/step - loss: 0.9518 - accuracy: 0.6250\n",
            "Epoch 93/100\n",
            "15/15 [==============================] - 0s 3ms/step - loss: 1.1527 - accuracy: 0.6513\n",
            "Epoch 94/100\n",
            "15/15 [==============================] - 0s 3ms/step - loss: 1.4863 - accuracy: 0.6009\n",
            "Epoch 95/100\n",
            "15/15 [==============================] - 0s 3ms/step - loss: 1.4320 - accuracy: 0.6184\n",
            "Epoch 96/100\n",
            "15/15 [==============================] - 0s 3ms/step - loss: 1.6839 - accuracy: 0.5921\n",
            "Epoch 97/100\n",
            "15/15 [==============================] - 0s 3ms/step - loss: 0.9584 - accuracy: 0.6096\n",
            "Epoch 98/100\n",
            "15/15 [==============================] - 0s 3ms/step - loss: 1.0447 - accuracy: 0.6469\n",
            "Epoch 99/100\n",
            "15/15 [==============================] - 0s 3ms/step - loss: 0.6670 - accuracy: 0.6535\n",
            "Epoch 100/100\n",
            "15/15 [==============================] - 0s 3ms/step - loss: 0.7432 - accuracy: 0.6732\n"
          ]
        },
        {
          "output_type": "execute_result",
          "data": {
            "text/plain": [
              "<keras.callbacks.History at 0x7fe400cb0850>"
            ]
          },
          "metadata": {},
          "execution_count": 45
        }
      ]
    },
    {
      "cell_type": "code",
      "source": [
        "modelenn.evaluate(xtest, ytest)"
      ],
      "metadata": {
        "colab": {
          "base_uri": "https://localhost:8080/"
        },
        "id": "qbNdq2T2DQts",
        "outputId": "d2094aeb-73f0-42c2-d1f5-0e3026fdac21"
      },
      "execution_count": 46,
      "outputs": [
        {
          "output_type": "stream",
          "name": "stdout",
          "text": [
            "4/4 [==============================] - 0s 3ms/step - loss: 0.8468 - accuracy: 0.6000\n"
          ]
        },
        {
          "output_type": "execute_result",
          "data": {
            "text/plain": [
              "[0.8468285799026489, 0.6000000238418579]"
            ]
          },
          "metadata": {},
          "execution_count": 46
        }
      ]
    },
    {
      "cell_type": "code",
      "source": [
        "yprediction =  modelenn.predict(xtest)\n",
        "yprediction[:6]"
      ],
      "metadata": {
        "colab": {
          "base_uri": "https://localhost:8080/"
        },
        "id": "YV8cfgYiDQmR",
        "outputId": "4f9c18b1-ae8d-4a32-bbd0-41e4028e9de1"
      },
      "execution_count": 47,
      "outputs": [
        {
          "output_type": "stream",
          "name": "stdout",
          "text": [
            "4/4 [==============================] - 0s 2ms/step\n"
          ]
        },
        {
          "output_type": "execute_result",
          "data": {
            "text/plain": [
              "array([[0.18125145],\n",
              "       [0.9667654 ],\n",
              "       [0.51010114],\n",
              "       [0.91960114],\n",
              "       [0.9320044 ],\n",
              "       [0.90285254]], dtype=float32)"
            ]
          },
          "metadata": {},
          "execution_count": 47
        }
      ]
    },
    {
      "cell_type": "code",
      "source": [
        "ypred = []\n",
        "for element in yprediction:\n",
        "  if element > 0.5:\n",
        "    ypred.append(1)\n",
        "  else:\n",
        "    ypred.append(0)\n",
        "ypred[:6]"
      ],
      "metadata": {
        "colab": {
          "base_uri": "https://localhost:8080/"
        },
        "id": "BU6tYdzZDQiJ",
        "outputId": "11fb1d98-35f3-4803-ba27-e7d48483777b"
      },
      "execution_count": 48,
      "outputs": [
        {
          "output_type": "execute_result",
          "data": {
            "text/plain": [
              "[0, 1, 1, 1, 1, 1]"
            ]
          },
          "metadata": {},
          "execution_count": 48
        }
      ]
    },
    {
      "cell_type": "code",
      "source": [
        "ytest[:6]"
      ],
      "metadata": {
        "colab": {
          "base_uri": "https://localhost:8080/"
        },
        "id": "rrwW8DrmDQgj",
        "outputId": "e20eb316-3e04-4b71-c02b-014fd00cb9e2"
      },
      "execution_count": 49,
      "outputs": [
        {
          "output_type": "execute_result",
          "data": {
            "text/plain": [
              "28     0\n",
              "163    0\n",
              "123    0\n",
              "361    1\n",
              "551    1\n",
              "339    1\n",
              "Name: Creditability, dtype: int64"
            ]
          },
          "metadata": {},
          "execution_count": 49
        }
      ]
    },
    {
      "cell_type": "code",
      "source": [
        "print(classification_report(ytest, ypred))"
      ],
      "metadata": {
        "colab": {
          "base_uri": "https://localhost:8080/"
        },
        "id": "tdKmj_nvDQY0",
        "outputId": "aaf0b18b-9bd9-4e4c-b0b7-dcb8a3d3154b"
      },
      "execution_count": 50,
      "outputs": [
        {
          "output_type": "stream",
          "name": "stdout",
          "text": [
            "              precision    recall  f1-score   support\n",
            "\n",
            "           0       0.82      0.17      0.28        53\n",
            "           1       0.58      0.97      0.72        62\n",
            "\n",
            "    accuracy                           0.60       115\n",
            "   macro avg       0.70      0.57      0.50       115\n",
            "weighted avg       0.69      0.60      0.52       115\n",
            "\n"
          ]
        }
      ]
    },
    {
      "cell_type": "code",
      "source": [
        "#4.  Oversampling -> RandomOverSampling\n",
        "\n",
        "from imblearn.over_sampling import RandomOverSampler\n",
        "ros = RandomOverSampler()\n",
        "\n",
        "xros, yros = ros.fit_resample(x, y)\n",
        "\n",
        "plt.figure(figsize=(18,10))\n",
        "print(\"After Random OverSample Dataset Shape %s\" %Counter(yros))\n",
        "\n",
        "counter = Counter(yros)\n",
        "for label, _ in counter.items():\n",
        "    row_ix = np.where(yros == label)[0]\n",
        "    plt.scatter(xros.loc[row_ix, \"Duration_of_Credit_monthly\"], xros.loc[row_ix,\"Credit_Amount\"], label=str(label))\n",
        "plt.legend()\n",
        "\n",
        "# plt.savefig('Original.png')\n",
        "plt.show()"
      ],
      "metadata": {
        "colab": {
          "base_uri": "https://localhost:8080/",
          "height": 609
        },
        "id": "8L792yD8DQW7",
        "outputId": "4e39c539-52fc-4728-b11e-1eee010c3422"
      },
      "execution_count": 51,
      "outputs": [
        {
          "output_type": "stream",
          "name": "stdout",
          "text": [
            "After Random OverSample Dataset Shape Counter({1: 700, 0: 700})\n"
          ]
        },
        {
          "output_type": "display_data",
          "data": {
            "text/plain": [
              "<Figure size 1296x720 with 1 Axes>"
            ],
            "image/png": "[encoded data removed]"
          },
          "metadata": {
            "needs_background": "light"
          }
        }
      ]
    },
    {
      "cell_type": "code",
      "source": [
        "xtrain,  xtest, ytrain, ytest = train_test_split(xros, yros,  test_size = 0.2, random_state = 5)\n",
        "xtrain.shape, ytrain.shape, xtest.shape, ytest.shape"
      ],
      "metadata": {
        "colab": {
          "base_uri": "https://localhost:8080/"
        },
        "id": "fNUZh1CgFl_r",
        "outputId": "f511e66c-bdaa-4d28-aa0d-39683b4ce1cb"
      },
      "execution_count": 52,
      "outputs": [
        {
          "output_type": "execute_result",
          "data": {
            "text/plain": [
              "((1120, 20), (1120,), (280, 20), (280,))"
            ]
          },
          "metadata": {},
          "execution_count": 52
        }
      ]
    },
    {
      "cell_type": "code",
      "source": [
        "modelros = keras.Sequential([\n",
        "    keras.layers.Dense(20, input_shape = (20,), activation = 'relu'),\n",
        "    keras.layers.Dense(16,  activation = 'relu'),\n",
        "    keras.layers.Dense(1,  activation = 'sigmoid')\n",
        "])\n",
        "\n",
        "modelros.compile(optimizer = 'adam',  loss = 'binary_crossentropy', metrics = ['accuracy'])\n",
        "modelros.fit(xtrain, ytrain, epochs = 100)"
      ],
      "metadata": {
        "colab": {
          "base_uri": "https://localhost:8080/"
        },
        "id": "GU2FKpZcG3oV",
        "outputId": "d884eceb-ed02-4837-9707-655b60f173d1"
      },
      "execution_count": 53,
      "outputs": [
        {
          "output_type": "stream",
          "name": "stdout",
          "text": [
            "Epoch 1/100\n",
            "35/35 [==============================] - 0s 2ms/step - loss: 127.2512 - accuracy: 0.5259\n",
            "Epoch 2/100\n",
            "35/35 [==============================] - 0s 3ms/step - loss: 11.4411 - accuracy: 0.4821\n",
            "Epoch 3/100\n",
            "35/35 [==============================] - 0s 2ms/step - loss: 4.4086 - accuracy: 0.4804\n",
            "Epoch 4/100\n",
            "35/35 [==============================] - 0s 2ms/step - loss: 3.9382 - accuracy: 0.4607\n",
            "Epoch 5/100\n",
            "35/35 [==============================] - 0s 2ms/step - loss: 2.7796 - accuracy: 0.4634\n",
            "Epoch 6/100\n",
            "35/35 [==============================] - 0s 2ms/step - loss: 1.7539 - accuracy: 0.4661\n",
            "Epoch 7/100\n",
            "35/35 [==============================] - 0s 2ms/step - loss: 1.2991 - accuracy: 0.4804\n",
            "Epoch 8/100\n",
            "35/35 [==============================] - 0s 3ms/step - loss: 1.1356 - accuracy: 0.4768\n",
            "Epoch 9/100\n",
            "35/35 [==============================] - 0s 3ms/step - loss: 2.0171 - accuracy: 0.4946\n",
            "Epoch 10/100\n",
            "35/35 [==============================] - 0s 2ms/step - loss: 3.2961 - accuracy: 0.4973\n",
            "Epoch 11/100\n",
            "35/35 [==============================] - 0s 3ms/step - loss: 1.1668 - accuracy: 0.5411\n",
            "Epoch 12/100\n",
            "35/35 [==============================] - 0s 2ms/step - loss: 1.0707 - accuracy: 0.5375\n",
            "Epoch 13/100\n",
            "35/35 [==============================] - 0s 2ms/step - loss: 2.0748 - accuracy: 0.4759\n",
            "Epoch 14/100\n",
            "35/35 [==============================] - 0s 2ms/step - loss: 1.1110 - accuracy: 0.5321\n",
            "Epoch 15/100\n",
            "35/35 [==============================] - 0s 2ms/step - loss: 1.1283 - accuracy: 0.5580\n",
            "Epoch 16/100\n",
            "35/35 [==============================] - 0s 2ms/step - loss: 1.8146 - accuracy: 0.5330\n",
            "Epoch 17/100\n",
            "35/35 [==============================] - 0s 3ms/step - loss: 1.3770 - accuracy: 0.5554\n",
            "Epoch 18/100\n",
            "35/35 [==============================] - 0s 2ms/step - loss: 0.9715 - accuracy: 0.5750\n",
            "Epoch 19/100\n",
            "35/35 [==============================] - 0s 3ms/step - loss: 1.0932 - accuracy: 0.5634\n",
            "Epoch 20/100\n",
            "35/35 [==============================] - 0s 2ms/step - loss: 1.2934 - accuracy: 0.5696\n",
            "Epoch 21/100\n",
            "35/35 [==============================] - 0s 2ms/step - loss: 1.0443 - accuracy: 0.5759\n",
            "Epoch 22/100\n",
            "35/35 [==============================] - 0s 3ms/step - loss: 1.5078 - accuracy: 0.5580\n",
            "Epoch 23/100\n",
            "35/35 [==============================] - 0s 2ms/step - loss: 0.8225 - accuracy: 0.6125\n",
            "Epoch 24/100\n",
            "35/35 [==============================] - 0s 2ms/step - loss: 1.4695 - accuracy: 0.5545\n",
            "Epoch 25/100\n",
            "35/35 [==============================] - 0s 2ms/step - loss: 0.8216 - accuracy: 0.6339\n",
            "Epoch 26/100\n",
            "35/35 [==============================] - 0s 2ms/step - loss: 0.9477 - accuracy: 0.5991\n",
            "Epoch 27/100\n",
            "35/35 [==============================] - 0s 2ms/step - loss: 1.3175 - accuracy: 0.5616\n",
            "Epoch 28/100\n",
            "35/35 [==============================] - 0s 2ms/step - loss: 1.1143 - accuracy: 0.5920\n",
            "Epoch 29/100\n",
            "35/35 [==============================] - 0s 2ms/step - loss: 1.0332 - accuracy: 0.6027\n",
            "Epoch 30/100\n",
            "35/35 [==============================] - 0s 3ms/step - loss: 1.4339 - accuracy: 0.5750\n",
            "Epoch 31/100\n",
            "35/35 [==============================] - 0s 2ms/step - loss: 1.7785 - accuracy: 0.5491\n",
            "Epoch 32/100\n",
            "35/35 [==============================] - 0s 2ms/step - loss: 1.0221 - accuracy: 0.5982\n",
            "Epoch 33/100\n",
            "35/35 [==============================] - 0s 2ms/step - loss: 1.0135 - accuracy: 0.6241\n",
            "Epoch 34/100\n",
            "35/35 [==============================] - 0s 2ms/step - loss: 0.9133 - accuracy: 0.6411\n",
            "Epoch 35/100\n",
            "35/35 [==============================] - 0s 2ms/step - loss: 0.9172 - accuracy: 0.6196\n",
            "Epoch 36/100\n",
            "35/35 [==============================] - 0s 2ms/step - loss: 1.3189 - accuracy: 0.6027\n",
            "Epoch 37/100\n",
            "35/35 [==============================] - 0s 2ms/step - loss: 2.2470 - accuracy: 0.5509\n",
            "Epoch 38/100\n",
            "35/35 [==============================] - 0s 2ms/step - loss: 1.1295 - accuracy: 0.5991\n",
            "Epoch 39/100\n",
            "35/35 [==============================] - 0s 2ms/step - loss: 1.2669 - accuracy: 0.5991\n",
            "Epoch 40/100\n",
            "35/35 [==============================] - 0s 2ms/step - loss: 0.9673 - accuracy: 0.6214\n",
            "Epoch 41/100\n",
            "35/35 [==============================] - 0s 3ms/step - loss: 1.4770 - accuracy: 0.5643\n",
            "Epoch 42/100\n",
            "35/35 [==============================] - 0s 2ms/step - loss: 2.2334 - accuracy: 0.5714\n",
            "Epoch 43/100\n",
            "35/35 [==============================] - 0s 2ms/step - loss: 0.8057 - accuracy: 0.6500\n",
            "Epoch 44/100\n",
            "35/35 [==============================] - 0s 3ms/step - loss: 1.0455 - accuracy: 0.6107\n",
            "Epoch 45/100\n",
            "35/35 [==============================] - 0s 2ms/step - loss: 0.9458 - accuracy: 0.6161\n",
            "Epoch 46/100\n",
            "35/35 [==============================] - 0s 2ms/step - loss: 1.4533 - accuracy: 0.5955\n",
            "Epoch 47/100\n",
            "35/35 [==============================] - 0s 2ms/step - loss: 1.7762 - accuracy: 0.5634\n",
            "Epoch 48/100\n",
            "35/35 [==============================] - 0s 3ms/step - loss: 1.2451 - accuracy: 0.5946\n",
            "Epoch 49/100\n",
            "35/35 [==============================] - 0s 2ms/step - loss: 1.2685 - accuracy: 0.5946\n",
            "Epoch 50/100\n",
            "35/35 [==============================] - 0s 3ms/step - loss: 1.4122 - accuracy: 0.5857\n",
            "Epoch 51/100\n",
            "35/35 [==============================] - 0s 3ms/step - loss: 1.4790 - accuracy: 0.6170\n",
            "Epoch 52/100\n",
            "35/35 [==============================] - 0s 3ms/step - loss: 2.5726 - accuracy: 0.5982\n",
            "Epoch 53/100\n",
            "35/35 [==============================] - 0s 2ms/step - loss: 0.8751 - accuracy: 0.6348\n",
            "Epoch 54/100\n",
            "35/35 [==============================] - 0s 2ms/step - loss: 0.7046 - accuracy: 0.6687\n",
            "Epoch 55/100\n",
            "35/35 [==============================] - 0s 2ms/step - loss: 0.9494 - accuracy: 0.6455\n",
            "Epoch 56/100\n",
            "35/35 [==============================] - 0s 2ms/step - loss: 0.7178 - accuracy: 0.6821\n",
            "Epoch 57/100\n",
            "35/35 [==============================] - 0s 2ms/step - loss: 1.3583 - accuracy: 0.6321\n",
            "Epoch 58/100\n",
            "35/35 [==============================] - 0s 2ms/step - loss: 1.3421 - accuracy: 0.5964\n",
            "Epoch 59/100\n",
            "35/35 [==============================] - 0s 3ms/step - loss: 2.0093 - accuracy: 0.5625\n",
            "Epoch 60/100\n",
            "35/35 [==============================] - 0s 2ms/step - loss: 1.1295 - accuracy: 0.6196\n",
            "Epoch 61/100\n",
            "35/35 [==============================] - 0s 2ms/step - loss: 0.7856 - accuracy: 0.6598\n",
            "Epoch 62/100\n",
            "35/35 [==============================] - 0s 2ms/step - loss: 1.6246 - accuracy: 0.5920\n",
            "Epoch 63/100\n",
            "35/35 [==============================] - 0s 3ms/step - loss: 1.0443 - accuracy: 0.6473\n",
            "Epoch 64/100\n",
            "35/35 [==============================] - 0s 2ms/step - loss: 1.3229 - accuracy: 0.6062\n",
            "Epoch 65/100\n",
            "35/35 [==============================] - 0s 2ms/step - loss: 0.8382 - accuracy: 0.6518\n",
            "Epoch 66/100\n",
            "35/35 [==============================] - 0s 2ms/step - loss: 0.8682 - accuracy: 0.6455\n",
            "Epoch 67/100\n",
            "35/35 [==============================] - 0s 2ms/step - loss: 1.4868 - accuracy: 0.5946\n",
            "Epoch 68/100\n",
            "35/35 [==============================] - 0s 2ms/step - loss: 1.2898 - accuracy: 0.6259\n",
            "Epoch 69/100\n",
            "35/35 [==============================] - 0s 2ms/step - loss: 1.0264 - accuracy: 0.6277\n",
            "Epoch 70/100\n",
            "35/35 [==============================] - 0s 2ms/step - loss: 1.0939 - accuracy: 0.6393\n",
            "Epoch 71/100\n",
            "35/35 [==============================] - 0s 2ms/step - loss: 0.7871 - accuracy: 0.6696\n",
            "Epoch 72/100\n",
            "35/35 [==============================] - 0s 3ms/step - loss: 0.8406 - accuracy: 0.6679\n",
            "Epoch 73/100\n",
            "35/35 [==============================] - 0s 3ms/step - loss: 0.8816 - accuracy: 0.6509\n",
            "Epoch 74/100\n",
            "35/35 [==============================] - 0s 2ms/step - loss: 1.1080 - accuracy: 0.6277\n",
            "Epoch 75/100\n",
            "35/35 [==============================] - 0s 2ms/step - loss: 1.1354 - accuracy: 0.6223\n",
            "Epoch 76/100\n",
            "35/35 [==============================] - 0s 2ms/step - loss: 1.2610 - accuracy: 0.6268\n",
            "Epoch 77/100\n",
            "35/35 [==============================] - 0s 3ms/step - loss: 1.1260 - accuracy: 0.6268\n",
            "Epoch 78/100\n",
            "35/35 [==============================] - 0s 2ms/step - loss: 0.8329 - accuracy: 0.6625\n",
            "Epoch 79/100\n",
            "35/35 [==============================] - 0s 3ms/step - loss: 0.7857 - accuracy: 0.6812\n",
            "Epoch 80/100\n",
            "35/35 [==============================] - 0s 3ms/step - loss: 2.1699 - accuracy: 0.5938\n",
            "Epoch 81/100\n",
            "35/35 [==============================] - 0s 2ms/step - loss: 1.9820 - accuracy: 0.5920\n",
            "Epoch 82/100\n",
            "35/35 [==============================] - 0s 2ms/step - loss: 1.5813 - accuracy: 0.6241\n",
            "Epoch 83/100\n",
            "35/35 [==============================] - 0s 2ms/step - loss: 1.0506 - accuracy: 0.6429\n",
            "Epoch 84/100\n",
            "35/35 [==============================] - 0s 3ms/step - loss: 1.8889 - accuracy: 0.5857\n",
            "Epoch 85/100\n",
            "35/35 [==============================] - 0s 2ms/step - loss: 0.8083 - accuracy: 0.6750\n",
            "Epoch 86/100\n",
            "35/35 [==============================] - 0s 2ms/step - loss: 0.8384 - accuracy: 0.6687\n",
            "Epoch 87/100\n",
            "35/35 [==============================] - 0s 2ms/step - loss: 0.9691 - accuracy: 0.6527\n",
            "Epoch 88/100\n",
            "35/35 [==============================] - 0s 3ms/step - loss: 1.4174 - accuracy: 0.6179\n",
            "Epoch 89/100\n",
            "35/35 [==============================] - 0s 2ms/step - loss: 0.9767 - accuracy: 0.6670\n",
            "Epoch 90/100\n",
            "35/35 [==============================] - 0s 3ms/step - loss: 0.7121 - accuracy: 0.7071\n",
            "Epoch 91/100\n",
            "35/35 [==============================] - 0s 2ms/step - loss: 0.9729 - accuracy: 0.6598\n",
            "Epoch 92/100\n",
            "35/35 [==============================] - 0s 2ms/step - loss: 1.6366 - accuracy: 0.6018\n",
            "Epoch 93/100\n",
            "35/35 [==============================] - 0s 3ms/step - loss: 1.2108 - accuracy: 0.6330\n",
            "Epoch 94/100\n",
            "35/35 [==============================] - 0s 2ms/step - loss: 1.2226 - accuracy: 0.6313\n",
            "Epoch 95/100\n",
            "35/35 [==============================] - 0s 2ms/step - loss: 0.9440 - accuracy: 0.6616\n",
            "Epoch 96/100\n",
            "35/35 [==============================] - 0s 2ms/step - loss: 0.7437 - accuracy: 0.7009\n",
            "Epoch 97/100\n",
            "35/35 [==============================] - 0s 2ms/step - loss: 0.8933 - accuracy: 0.6482\n",
            "Epoch 98/100\n",
            "35/35 [==============================] - 0s 3ms/step - loss: 1.0800 - accuracy: 0.6491\n",
            "Epoch 99/100\n",
            "35/35 [==============================] - 0s 2ms/step - loss: 0.9724 - accuracy: 0.6616\n",
            "Epoch 100/100\n",
            "35/35 [==============================] - 0s 2ms/step - loss: 1.4124 - accuracy: 0.6393\n"
          ]
        },
        {
          "output_type": "execute_result",
          "data": {
            "text/plain": [
              "<keras.callbacks.History at 0x7fe40086eca0>"
            ]
          },
          "metadata": {},
          "execution_count": 53
        }
      ]
    },
    {
      "cell_type": "code",
      "source": [
        "modelros.evaluate(xtest, ytest)"
      ],
      "metadata": {
        "colab": {
          "base_uri": "https://localhost:8080/"
        },
        "id": "1UjZ9zBTG9We",
        "outputId": "d5e763b6-3a6b-43b8-94f1-3768ea533a59"
      },
      "execution_count": 54,
      "outputs": [
        {
          "output_type": "stream",
          "name": "stdout",
          "text": [
            "9/9 [==============================] - 0s 3ms/step - loss: 0.6737 - accuracy: 0.7071\n"
          ]
        },
        {
          "output_type": "execute_result",
          "data": {
            "text/plain": [
              "[0.6737391352653503, 0.7071428298950195]"
            ]
          },
          "metadata": {},
          "execution_count": 54
        }
      ]
    },
    {
      "cell_type": "code",
      "source": [
        "yprediction =  modelros.predict(xtest)\n",
        "yprediction[:6]"
      ],
      "metadata": {
        "colab": {
          "base_uri": "https://localhost:8080/"
        },
        "id": "aGfDqkYEG8yJ",
        "outputId": "6da7cad1-226c-454c-c3cf-5f1eb1965f28"
      },
      "execution_count": 55,
      "outputs": [
        {
          "output_type": "stream",
          "name": "stdout",
          "text": [
            "9/9 [==============================] - 0s 3ms/step\n"
          ]
        },
        {
          "output_type": "execute_result",
          "data": {
            "text/plain": [
              "array([[0.2596991 ],\n",
              "       [0.09890323],\n",
              "       [0.23926844],\n",
              "       [0.2892556 ],\n",
              "       [0.9058496 ],\n",
              "       [0.42266336]], dtype=float32)"
            ]
          },
          "metadata": {},
          "execution_count": 55
        }
      ]
    },
    {
      "cell_type": "code",
      "source": [
        "ypred = []\n",
        "for element in yprediction:\n",
        "  if element > 0.5:\n",
        "    ypred.append(1)\n",
        "  else:\n",
        "    ypred.append(0)\n",
        "ypred[:6]"
      ],
      "metadata": {
        "colab": {
          "base_uri": "https://localhost:8080/"
        },
        "id": "-p5rkI_tG8wY",
        "outputId": "c1473ac7-eab6-49e5-8a66-a43f0003e9dd"
      },
      "execution_count": 56,
      "outputs": [
        {
          "output_type": "execute_result",
          "data": {
            "text/plain": [
              "[0, 0, 0, 0, 1, 0]"
            ]
          },
          "metadata": {},
          "execution_count": 56
        }
      ]
    },
    {
      "cell_type": "code",
      "source": [
        "ytest[:6]"
      ],
      "metadata": {
        "colab": {
          "base_uri": "https://localhost:8080/"
        },
        "id": "yObWeugpG8my",
        "outputId": "bcd1665a-e11b-45be-e7cc-45826ae6102e"
      },
      "execution_count": 57,
      "outputs": [
        {
          "output_type": "execute_result",
          "data": {
            "text/plain": [
              "823     0\n",
              "1263    0\n",
              "1385    0\n",
              "1023    0\n",
              "437     1\n",
              "1342    0\n",
              "Name: Creditability, dtype: int64"
            ]
          },
          "metadata": {},
          "execution_count": 57
        }
      ]
    },
    {
      "cell_type": "code",
      "source": [
        "print(classification_report(ytest, ypred))"
      ],
      "metadata": {
        "colab": {
          "base_uri": "https://localhost:8080/"
        },
        "id": "VPMseaGMG8j0",
        "outputId": "a3de0de2-a241-422a-b5be-89b5e3f4f078"
      },
      "execution_count": 58,
      "outputs": [
        {
          "output_type": "stream",
          "name": "stdout",
          "text": [
            "              precision    recall  f1-score   support\n",
            "\n",
            "           0       0.73      0.76      0.74       156\n",
            "           1       0.68      0.64      0.66       124\n",
            "\n",
            "    accuracy                           0.71       280\n",
            "   macro avg       0.70      0.70      0.70       280\n",
            "weighted avg       0.71      0.71      0.71       280\n",
            "\n"
          ]
        }
      ]
    },
    {
      "cell_type": "code",
      "source": [
        "#5.  OverSampler -> RandomOverSampling\n",
        "\n",
        "from imblearn.over_sampling import SMOTE\n",
        "smote = SMOTE()\n",
        "\n",
        "xsmote, ysmote = smote.fit_resample(x, y)\n",
        "\n",
        "plt.figure(figsize=(18,10))\n",
        "print(\"After SMOTE OverSample Dataset Shape %s\" %Counter(ysmote))\n",
        "\n",
        "counter = Counter(ysmote)\n",
        "for label, _ in counter.items():\n",
        "    row_ix = np.where(ysmote == label)[0]\n",
        "    plt.scatter(xsmote.loc[row_ix, \"Duration_of_Credit_monthly\"], xsmote.loc[row_ix,\"Credit_Amount\"], label=str(label))\n",
        "plt.legend()\n",
        "\n",
        "# plt.savefig('Original.png')\n",
        "plt.show()"
      ],
      "metadata": {
        "colab": {
          "base_uri": "https://localhost:8080/",
          "height": 609
        },
        "id": "brQs3nowG8hu",
        "outputId": "de28727a-2c74-4e1f-937b-849921e35684"
      },
      "execution_count": 59,
      "outputs": [
        {
          "output_type": "stream",
          "name": "stdout",
          "text": [
            "After SMOTE OverSample Dataset Shape Counter({1: 700, 0: 700})\n"
          ]
        },
        {
          "output_type": "display_data",
          "data": {
            "text/plain": [
              "<Figure size 1296x720 with 1 Axes>"
            ],
            "image/png": "[encoded data removed]"
          },
          "metadata": {
            "needs_background": "light"
          }
        }
      ]
    },
    {
      "cell_type": "code",
      "source": [
        "xtrain,  xtest, ytrain, ytest = train_test_split(xsmote, ysmote,  test_size = 0.2, random_state = 5)\n",
        "xtrain.shape, ytrain.shape, xtest.shape, ytest.shape"
      ],
      "metadata": {
        "colab": {
          "base_uri": "https://localhost:8080/"
        },
        "id": "K17-vliCG8e8",
        "outputId": "762c11c0-ff3f-4fe2-d944-b0f4e67925d8"
      },
      "execution_count": 60,
      "outputs": [
        {
          "output_type": "execute_result",
          "data": {
            "text/plain": [
              "((1120, 20), (1120,), (280, 20), (280,))"
            ]
          },
          "metadata": {},
          "execution_count": 60
        }
      ]
    },
    {
      "cell_type": "code",
      "source": [
        "modelsmote = keras.Sequential([\n",
        "    keras.layers.Dense(20, input_shape = (20,), activation = 'relu'),\n",
        "    keras.layers.Dense(16,  activation = 'relu'),\n",
        "    keras.layers.Dense(1,  activation = 'sigmoid')\n",
        "])\n",
        "\n",
        "modelsmote.compile(optimizer = 'adam',  loss = 'binary_crossentropy', metrics = ['accuracy'])\n",
        "modelsmote.fit(xtrain, ytrain, epochs = 100)"
      ],
      "metadata": {
        "colab": {
          "base_uri": "https://localhost:8080/"
        },
        "id": "be9TxLE-G8c4",
        "outputId": "2fc32fb3-a495-45e3-96c0-260d3925262c"
      },
      "execution_count": 61,
      "outputs": [
        {
          "output_type": "stream",
          "name": "stdout",
          "text": [
            "Epoch 1/100\n",
            "35/35 [==============================] - 0s 2ms/step - loss: 29.6391 - accuracy: 0.5089\n",
            "Epoch 2/100\n",
            "35/35 [==============================] - 0s 3ms/step - loss: 2.6457 - accuracy: 0.5571\n",
            "Epoch 3/100\n",
            "35/35 [==============================] - 0s 3ms/step - loss: 1.1028 - accuracy: 0.6116\n",
            "Epoch 4/100\n",
            "35/35 [==============================] - 0s 2ms/step - loss: 1.0624 - accuracy: 0.6018\n",
            "Epoch 5/100\n",
            "35/35 [==============================] - 0s 2ms/step - loss: 0.9349 - accuracy: 0.6366\n",
            "Epoch 6/100\n",
            "35/35 [==============================] - 0s 3ms/step - loss: 0.9001 - accuracy: 0.6107\n",
            "Epoch 7/100\n",
            "35/35 [==============================] - 0s 2ms/step - loss: 0.7893 - accuracy: 0.6375\n",
            "Epoch 8/100\n",
            "35/35 [==============================] - 0s 3ms/step - loss: 1.8616 - accuracy: 0.5509\n",
            "Epoch 9/100\n",
            "35/35 [==============================] - 0s 3ms/step - loss: 1.2972 - accuracy: 0.6000\n",
            "Epoch 10/100\n",
            "35/35 [==============================] - 0s 2ms/step - loss: 0.9852 - accuracy: 0.6062\n",
            "Epoch 11/100\n",
            "35/35 [==============================] - 0s 3ms/step - loss: 1.1837 - accuracy: 0.6036\n",
            "Epoch 12/100\n",
            "35/35 [==============================] - 0s 2ms/step - loss: 1.3372 - accuracy: 0.6152\n",
            "Epoch 13/100\n",
            "35/35 [==============================] - 0s 2ms/step - loss: 1.4647 - accuracy: 0.5920\n",
            "Epoch 14/100\n",
            "35/35 [==============================] - 0s 3ms/step - loss: 1.1254 - accuracy: 0.6402\n",
            "Epoch 15/100\n",
            "35/35 [==============================] - 0s 2ms/step - loss: 0.7582 - accuracy: 0.6768\n",
            "Epoch 16/100\n",
            "35/35 [==============================] - 0s 3ms/step - loss: 0.9159 - accuracy: 0.6339\n",
            "Epoch 17/100\n",
            "35/35 [==============================] - 0s 2ms/step - loss: 1.0057 - accuracy: 0.6232\n",
            "Epoch 18/100\n",
            "35/35 [==============================] - 0s 2ms/step - loss: 1.5619 - accuracy: 0.6161\n",
            "Epoch 19/100\n",
            "35/35 [==============================] - 0s 3ms/step - loss: 0.9250 - accuracy: 0.6438\n",
            "Epoch 20/100\n",
            "35/35 [==============================] - 0s 2ms/step - loss: 0.9773 - accuracy: 0.6393\n",
            "Epoch 21/100\n",
            "35/35 [==============================] - 0s 3ms/step - loss: 1.7085 - accuracy: 0.5955\n",
            "Epoch 22/100\n",
            "35/35 [==============================] - 0s 2ms/step - loss: 0.6798 - accuracy: 0.6857\n",
            "Epoch 23/100\n",
            "35/35 [==============================] - 0s 3ms/step - loss: 0.7077 - accuracy: 0.6893\n",
            "Epoch 24/100\n",
            "35/35 [==============================] - 0s 2ms/step - loss: 0.9835 - accuracy: 0.6464\n",
            "Epoch 25/100\n",
            "35/35 [==============================] - 0s 2ms/step - loss: 1.1433 - accuracy: 0.6313\n",
            "Epoch 26/100\n",
            "35/35 [==============================] - 0s 2ms/step - loss: 1.6205 - accuracy: 0.5714\n",
            "Epoch 27/100\n",
            "35/35 [==============================] - 0s 2ms/step - loss: 1.0783 - accuracy: 0.6286\n",
            "Epoch 28/100\n",
            "35/35 [==============================] - 0s 2ms/step - loss: 1.8135 - accuracy: 0.5902\n",
            "Epoch 29/100\n",
            "35/35 [==============================] - 0s 2ms/step - loss: 2.2689 - accuracy: 0.5821\n",
            "Epoch 30/100\n",
            "35/35 [==============================] - 0s 3ms/step - loss: 0.7648 - accuracy: 0.6973\n",
            "Epoch 31/100\n",
            "35/35 [==============================] - 0s 2ms/step - loss: 1.9417 - accuracy: 0.5813\n",
            "Epoch 32/100\n",
            "35/35 [==============================] - 0s 2ms/step - loss: 1.1193 - accuracy: 0.6482\n",
            "Epoch 33/100\n",
            "35/35 [==============================] - 0s 2ms/step - loss: 0.8824 - accuracy: 0.6750\n",
            "Epoch 34/100\n",
            "35/35 [==============================] - 0s 2ms/step - loss: 0.9565 - accuracy: 0.6839\n",
            "Epoch 35/100\n",
            "35/35 [==============================] - 0s 2ms/step - loss: 1.4393 - accuracy: 0.6161\n",
            "Epoch 36/100\n",
            "35/35 [==============================] - 0s 3ms/step - loss: 2.1343 - accuracy: 0.5857\n",
            "Epoch 37/100\n",
            "35/35 [==============================] - 0s 2ms/step - loss: 1.4508 - accuracy: 0.6080\n",
            "Epoch 38/100\n",
            "35/35 [==============================] - 0s 3ms/step - loss: 0.9335 - accuracy: 0.6741\n",
            "Epoch 39/100\n",
            "35/35 [==============================] - 0s 2ms/step - loss: 1.0992 - accuracy: 0.6375\n",
            "Epoch 40/100\n",
            "35/35 [==============================] - 0s 2ms/step - loss: 0.8758 - accuracy: 0.6902\n",
            "Epoch 41/100\n",
            "35/35 [==============================] - 0s 3ms/step - loss: 0.8058 - accuracy: 0.6991\n",
            "Epoch 42/100\n",
            "35/35 [==============================] - 0s 2ms/step - loss: 1.3322 - accuracy: 0.6268\n",
            "Epoch 43/100\n",
            "35/35 [==============================] - 0s 2ms/step - loss: 1.5268 - accuracy: 0.6223\n",
            "Epoch 44/100\n",
            "35/35 [==============================] - 0s 3ms/step - loss: 1.4394 - accuracy: 0.6411\n",
            "Epoch 45/100\n",
            "35/35 [==============================] - 0s 2ms/step - loss: 0.8987 - accuracy: 0.6687\n",
            "Epoch 46/100\n",
            "35/35 [==============================] - 0s 2ms/step - loss: 1.1401 - accuracy: 0.6598\n",
            "Epoch 47/100\n",
            "35/35 [==============================] - 0s 2ms/step - loss: 1.4298 - accuracy: 0.6384\n",
            "Epoch 48/100\n",
            "35/35 [==============================] - 0s 2ms/step - loss: 0.8192 - accuracy: 0.7036\n",
            "Epoch 49/100\n",
            "35/35 [==============================] - 0s 3ms/step - loss: 0.9202 - accuracy: 0.6768\n",
            "Epoch 50/100\n",
            "35/35 [==============================] - 0s 2ms/step - loss: 1.0456 - accuracy: 0.6562\n",
            "Epoch 51/100\n",
            "35/35 [==============================] - 0s 2ms/step - loss: 2.2468 - accuracy: 0.5732\n",
            "Epoch 52/100\n",
            "35/35 [==============================] - 0s 3ms/step - loss: 1.9640 - accuracy: 0.6116\n",
            "Epoch 53/100\n",
            "35/35 [==============================] - 0s 2ms/step - loss: 0.8303 - accuracy: 0.6884\n",
            "Epoch 54/100\n",
            "35/35 [==============================] - 0s 3ms/step - loss: 0.9909 - accuracy: 0.7134\n",
            "Epoch 55/100\n",
            "35/35 [==============================] - 0s 2ms/step - loss: 1.9777 - accuracy: 0.5661\n",
            "Epoch 56/100\n",
            "35/35 [==============================] - 0s 2ms/step - loss: 1.0421 - accuracy: 0.6741\n",
            "Epoch 57/100\n",
            "35/35 [==============================] - 0s 2ms/step - loss: 1.1184 - accuracy: 0.6768\n",
            "Epoch 58/100\n",
            "35/35 [==============================] - 0s 2ms/step - loss: 1.9966 - accuracy: 0.6000\n",
            "Epoch 59/100\n",
            "35/35 [==============================] - 0s 2ms/step - loss: 0.8919 - accuracy: 0.6848\n",
            "Epoch 60/100\n",
            "35/35 [==============================] - 0s 3ms/step - loss: 0.7035 - accuracy: 0.7179\n",
            "Epoch 61/100\n",
            "35/35 [==============================] - 0s 2ms/step - loss: 1.4563 - accuracy: 0.6232\n",
            "Epoch 62/100\n",
            "35/35 [==============================] - 0s 2ms/step - loss: 1.0824 - accuracy: 0.6723\n",
            "Epoch 63/100\n",
            "35/35 [==============================] - 0s 2ms/step - loss: 0.7963 - accuracy: 0.6964\n",
            "Epoch 64/100\n",
            "35/35 [==============================] - 0s 2ms/step - loss: 0.8337 - accuracy: 0.6812\n",
            "Epoch 65/100\n",
            "35/35 [==============================] - 0s 2ms/step - loss: 0.8729 - accuracy: 0.6938\n",
            "Epoch 66/100\n",
            "35/35 [==============================] - 0s 3ms/step - loss: 1.7657 - accuracy: 0.6116\n",
            "Epoch 67/100\n",
            "35/35 [==============================] - 0s 2ms/step - loss: 1.3045 - accuracy: 0.6491\n",
            "Epoch 68/100\n",
            "35/35 [==============================] - 0s 2ms/step - loss: 1.0266 - accuracy: 0.6812\n",
            "Epoch 69/100\n",
            "35/35 [==============================] - 0s 3ms/step - loss: 0.8230 - accuracy: 0.7054\n",
            "Epoch 70/100\n",
            "35/35 [==============================] - 0s 2ms/step - loss: 0.6941 - accuracy: 0.7232\n",
            "Epoch 71/100\n",
            "35/35 [==============================] - 0s 2ms/step - loss: 0.9836 - accuracy: 0.6732\n",
            "Epoch 72/100\n",
            "35/35 [==============================] - 0s 2ms/step - loss: 1.1212 - accuracy: 0.6670\n",
            "Epoch 73/100\n",
            "35/35 [==============================] - 0s 2ms/step - loss: 0.9447 - accuracy: 0.6866\n",
            "Epoch 74/100\n",
            "35/35 [==============================] - 0s 2ms/step - loss: 0.6113 - accuracy: 0.7455\n",
            "Epoch 75/100\n",
            "35/35 [==============================] - 0s 2ms/step - loss: 0.9597 - accuracy: 0.6777\n",
            "Epoch 76/100\n",
            "35/35 [==============================] - 0s 2ms/step - loss: 1.7639 - accuracy: 0.6143\n",
            "Epoch 77/100\n",
            "35/35 [==============================] - 0s 2ms/step - loss: 1.8074 - accuracy: 0.6366\n",
            "Epoch 78/100\n",
            "35/35 [==============================] - 0s 2ms/step - loss: 0.9393 - accuracy: 0.6911\n",
            "Epoch 79/100\n",
            "35/35 [==============================] - 0s 2ms/step - loss: 0.8178 - accuracy: 0.6955\n",
            "Epoch 80/100\n",
            "35/35 [==============================] - 0s 2ms/step - loss: 0.8015 - accuracy: 0.6902\n",
            "Epoch 81/100\n",
            "35/35 [==============================] - 0s 2ms/step - loss: 0.9386 - accuracy: 0.6714\n",
            "Epoch 82/100\n",
            "35/35 [==============================] - 0s 2ms/step - loss: 0.7802 - accuracy: 0.7232\n",
            "Epoch 83/100\n",
            "35/35 [==============================] - 0s 2ms/step - loss: 1.0602 - accuracy: 0.6750\n",
            "Epoch 84/100\n",
            "35/35 [==============================] - 0s 2ms/step - loss: 0.7113 - accuracy: 0.7116\n",
            "Epoch 85/100\n",
            "35/35 [==============================] - 0s 3ms/step - loss: 0.9940 - accuracy: 0.6857\n",
            "Epoch 86/100\n",
            "35/35 [==============================] - 0s 2ms/step - loss: 1.4002 - accuracy: 0.6464\n",
            "Epoch 87/100\n",
            "35/35 [==============================] - 0s 2ms/step - loss: 1.5413 - accuracy: 0.6268\n",
            "Epoch 88/100\n",
            "35/35 [==============================] - 0s 2ms/step - loss: 1.0681 - accuracy: 0.6661\n",
            "Epoch 89/100\n",
            "35/35 [==============================] - 0s 2ms/step - loss: 0.9524 - accuracy: 0.7027\n",
            "Epoch 90/100\n",
            "35/35 [==============================] - 0s 2ms/step - loss: 1.6503 - accuracy: 0.6339\n",
            "Epoch 91/100\n",
            "35/35 [==============================] - 0s 2ms/step - loss: 1.3893 - accuracy: 0.6214\n",
            "Epoch 92/100\n",
            "35/35 [==============================] - 0s 2ms/step - loss: 1.6907 - accuracy: 0.6134\n",
            "Epoch 93/100\n",
            "35/35 [==============================] - 0s 2ms/step - loss: 1.9888 - accuracy: 0.6196\n",
            "Epoch 94/100\n",
            "35/35 [==============================] - 0s 3ms/step - loss: 0.8634 - accuracy: 0.6920\n",
            "Epoch 95/100\n",
            "35/35 [==============================] - 0s 3ms/step - loss: 1.0984 - accuracy: 0.6670\n",
            "Epoch 96/100\n",
            "35/35 [==============================] - 0s 2ms/step - loss: 1.0378 - accuracy: 0.6884\n",
            "Epoch 97/100\n",
            "35/35 [==============================] - 0s 2ms/step - loss: 1.0365 - accuracy: 0.6750\n",
            "Epoch 98/100\n",
            "35/35 [==============================] - 0s 2ms/step - loss: 1.1748 - accuracy: 0.6732\n",
            "Epoch 99/100\n",
            "35/35 [==============================] - 0s 2ms/step - loss: 1.3963 - accuracy: 0.6491\n",
            "Epoch 100/100\n",
            "35/35 [==============================] - 0s 3ms/step - loss: 0.9912 - accuracy: 0.6839\n"
          ]
        },
        {
          "output_type": "execute_result",
          "data": {
            "text/plain": [
              "<keras.callbacks.History at 0x7fe4007644c0>"
            ]
          },
          "metadata": {},
          "execution_count": 61
        }
      ]
    },
    {
      "cell_type": "code",
      "source": [
        "modelsmote.evaluate(xtest, ytest)"
      ],
      "metadata": {
        "colab": {
          "base_uri": "https://localhost:8080/"
        },
        "id": "HyQRM7lrIoho",
        "outputId": "3c83027a-98bd-4f9b-f59b-e3d4648ecbac"
      },
      "execution_count": 62,
      "outputs": [
        {
          "output_type": "stream",
          "name": "stdout",
          "text": [
            "9/9 [==============================] - 0s 2ms/step - loss: 2.7677 - accuracy: 0.4643\n"
          ]
        },
        {
          "output_type": "execute_result",
          "data": {
            "text/plain": [
              "[2.7677297592163086, 0.4642857015132904]"
            ]
          },
          "metadata": {},
          "execution_count": 62
        }
      ]
    },
    {
      "cell_type": "code",
      "source": [
        "yprediction =  modelsmote.predict(xtest)\n",
        "yprediction[:6]"
      ],
      "metadata": {
        "colab": {
          "base_uri": "https://localhost:8080/"
        },
        "id": "cQ9oTS9_ItQt",
        "outputId": "1e16cd05-25c2-4c96-f8f7-7b3a3369606d"
      },
      "execution_count": 63,
      "outputs": [
        {
          "output_type": "stream",
          "name": "stdout",
          "text": [
            "9/9 [==============================] - 0s 2ms/step\n"
          ]
        },
        {
          "output_type": "execute_result",
          "data": {
            "text/plain": [
              "array([[0.9273381 ],\n",
              "       [0.98505855],\n",
              "       [0.9508539 ],\n",
              "       [0.87294763],\n",
              "       [0.9969472 ],\n",
              "       [0.59242344]], dtype=float32)"
            ]
          },
          "metadata": {},
          "execution_count": 63
        }
      ]
    },
    {
      "cell_type": "code",
      "source": [
        "ypred = []\n",
        "for element in yprediction:\n",
        "  if element > 0.5:\n",
        "    ypred.append(1)\n",
        "  else:\n",
        "    ypred.append(0)\n",
        "ypred[:6]"
      ],
      "metadata": {
        "colab": {
          "base_uri": "https://localhost:8080/"
        },
        "id": "btUXL39wItMU",
        "outputId": "3aa7288a-81ff-485b-f319-dc50b2632a84"
      },
      "execution_count": 64,
      "outputs": [
        {
          "output_type": "execute_result",
          "data": {
            "text/plain": [
              "[1, 1, 1, 1, 1, 1]"
            ]
          },
          "metadata": {},
          "execution_count": 64
        }
      ]
    },
    {
      "cell_type": "code",
      "source": [
        "ytest[:6]"
      ],
      "metadata": {
        "colab": {
          "base_uri": "https://localhost:8080/"
        },
        "id": "BSrQyY9TItJp",
        "outputId": "d34a9d5b-1ab0-44f4-917a-c5c35127914d"
      },
      "execution_count": 65,
      "outputs": [
        {
          "output_type": "execute_result",
          "data": {
            "text/plain": [
              "823     0\n",
              "1263    0\n",
              "1385    0\n",
              "1023    0\n",
              "437     1\n",
              "1342    0\n",
              "Name: Creditability, dtype: int64"
            ]
          },
          "metadata": {},
          "execution_count": 65
        }
      ]
    },
    {
      "cell_type": "code",
      "source": [
        "print(classification_report(ytest, ypred))"
      ],
      "metadata": {
        "colab": {
          "base_uri": "https://localhost:8080/"
        },
        "id": "DoMAODv0ItHQ",
        "outputId": "06258105-740b-4b65-ef9a-5f89d11dc48d"
      },
      "execution_count": 66,
      "outputs": [
        {
          "output_type": "stream",
          "name": "stdout",
          "text": [
            "              precision    recall  f1-score   support\n",
            "\n",
            "           0       1.00      0.04      0.07       156\n",
            "           1       0.45      1.00      0.62       124\n",
            "\n",
            "    accuracy                           0.46       280\n",
            "   macro avg       0.73      0.52      0.35       280\n",
            "weighted avg       0.76      0.46      0.32       280\n",
            "\n"
          ]
        }
      ]
    },
    {
      "cell_type": "code",
      "source": [
        "#7.  Combine -> SMOTEEN\n",
        "\n",
        "from imblearn.combine import SMOTEENN\n",
        "smteen = SMOTEENN()\n",
        "\n",
        "xsmteen, ysmteen = smteen.fit_resample(x, y)\n",
        "\n",
        "plt.figure(figsize=(18,10))\n",
        "print(\"After SMOTEEN OverSample Dataset Shape %s\" %Counter(ysmteen))\n",
        "\n",
        "counter = Counter(ysmteen)\n",
        "for label, _ in counter.items():\n",
        "    row_ix = np.where(ysmteen == label)[0]\n",
        "    plt.scatter(xsmteen.loc[row_ix, \"Duration_of_Credit_monthly\"], xsmteen.loc[row_ix,\"Credit_Amount\"], label=str(label))\n",
        "plt.legend()\n",
        "\n",
        "# plt.savefig('Original.png')\n",
        "plt.show()"
      ],
      "metadata": {
        "colab": {
          "base_uri": "https://localhost:8080/",
          "height": 609
        },
        "id": "0CNYk-qCItEI",
        "outputId": "e22a1cab-54f4-4820-9388-13d89a9415d3"
      },
      "execution_count": 67,
      "outputs": [
        {
          "output_type": "stream",
          "name": "stdout",
          "text": [
            "After SMOTEEN OverSample Dataset Shape Counter({0: 313, 1: 216})\n"
          ]
        },
        {
          "output_type": "display_data",
          "data": {
            "text/plain": [
              "<Figure size 1296x720 with 1 Axes>"
            ],
            "image/png": "[encoded data removed]"
          },
          "metadata": {
            "needs_background": "light"
          }
        }
      ]
    },
    {
      "cell_type": "code",
      "source": [
        "xtrain,  xtest, ytrain, ytest = train_test_split(xsmteen, ysmteen,  test_size = 0.2, random_state = 5)\n",
        "xtrain.shape, ytrain.shape, xtest.shape, ytest.shape"
      ],
      "metadata": {
        "colab": {
          "base_uri": "https://localhost:8080/"
        },
        "id": "SkiVV7sRItB9",
        "outputId": "5351be86-479e-4143-f8c0-e92a5692ae23"
      },
      "execution_count": 68,
      "outputs": [
        {
          "output_type": "execute_result",
          "data": {
            "text/plain": [
              "((423, 20), (423,), (106, 20), (106,))"
            ]
          },
          "metadata": {},
          "execution_count": 68
        }
      ]
    },
    {
      "cell_type": "code",
      "source": [
        "modelsmteen = keras.Sequential([\n",
        "    keras.layers.Dense(20, input_shape = (20,), activation = 'relu'),\n",
        "    keras.layers.Dense(16,  activation = 'relu'),\n",
        "    keras.layers.Dense(1,  activation = 'sigmoid')\n",
        "])\n",
        "\n",
        "modelsmteen.compile(optimizer = 'adam',  loss = 'binary_crossentropy', metrics = ['accuracy'])\n",
        "modelsmteen.fit(xtrain, ytrain, epochs = 100)"
      ],
      "metadata": {
        "colab": {
          "base_uri": "https://localhost:8080/"
        },
        "id": "UlR8yhnEKt4B",
        "outputId": "edd0a5a1-23ab-4d85-808e-fe4d4fadf0b0"
      },
      "execution_count": 69,
      "outputs": [
        {
          "output_type": "stream",
          "name": "stdout",
          "text": [
            "Epoch 1/100\n",
            "14/14 [==============================] - 0s 3ms/step - loss: 104.7530 - accuracy: 0.6052\n",
            "Epoch 2/100\n",
            "14/14 [==============================] - 0s 4ms/step - loss: 21.9365 - accuracy: 0.5390\n",
            "Epoch 3/100\n",
            "14/14 [==============================] - 0s 3ms/step - loss: 7.0546 - accuracy: 0.5981\n",
            "Epoch 4/100\n",
            "14/14 [==============================] - 0s 4ms/step - loss: 2.5047 - accuracy: 0.5390\n",
            "Epoch 5/100\n",
            "14/14 [==============================] - 0s 3ms/step - loss: 1.4895 - accuracy: 0.5626\n",
            "Epoch 6/100\n",
            "14/14 [==============================] - 0s 3ms/step - loss: 1.2717 - accuracy: 0.6005\n",
            "Epoch 7/100\n",
            "14/14 [==============================] - 0s 3ms/step - loss: 1.0318 - accuracy: 0.5697\n",
            "Epoch 8/100\n",
            "14/14 [==============================] - 0s 3ms/step - loss: 0.8968 - accuracy: 0.5981\n",
            "Epoch 9/100\n",
            "14/14 [==============================] - 0s 3ms/step - loss: 1.0349 - accuracy: 0.5816\n",
            "Epoch 10/100\n",
            "14/14 [==============================] - 0s 3ms/step - loss: 1.9473 - accuracy: 0.5366\n",
            "Epoch 11/100\n",
            "14/14 [==============================] - 0s 4ms/step - loss: 2.2518 - accuracy: 0.5768\n",
            "Epoch 12/100\n",
            "14/14 [==============================] - 0s 3ms/step - loss: 1.2197 - accuracy: 0.5721\n",
            "Epoch 13/100\n",
            "14/14 [==============================] - 0s 3ms/step - loss: 0.7335 - accuracy: 0.6359\n",
            "Epoch 14/100\n",
            "14/14 [==============================] - 0s 3ms/step - loss: 0.7574 - accuracy: 0.6383\n",
            "Epoch 15/100\n",
            "14/14 [==============================] - 0s 3ms/step - loss: 1.5780 - accuracy: 0.5674\n",
            "Epoch 16/100\n",
            "14/14 [==============================] - 0s 3ms/step - loss: 0.9546 - accuracy: 0.6147\n",
            "Epoch 17/100\n",
            "14/14 [==============================] - 0s 3ms/step - loss: 0.6973 - accuracy: 0.6383\n",
            "Epoch 18/100\n",
            "14/14 [==============================] - 0s 3ms/step - loss: 0.8392 - accuracy: 0.6099\n",
            "Epoch 19/100\n",
            "14/14 [==============================] - 0s 3ms/step - loss: 0.6583 - accuracy: 0.6525\n",
            "Epoch 20/100\n",
            "14/14 [==============================] - 0s 3ms/step - loss: 0.8945 - accuracy: 0.6170\n",
            "Epoch 21/100\n",
            "14/14 [==============================] - 0s 3ms/step - loss: 0.8112 - accuracy: 0.6170\n",
            "Epoch 22/100\n",
            "14/14 [==============================] - 0s 3ms/step - loss: 0.7790 - accuracy: 0.6123\n",
            "Epoch 23/100\n",
            "14/14 [==============================] - 0s 3ms/step - loss: 0.8182 - accuracy: 0.6454\n",
            "Epoch 24/100\n",
            "14/14 [==============================] - 0s 4ms/step - loss: 0.8655 - accuracy: 0.6217\n",
            "Epoch 25/100\n",
            "14/14 [==============================] - 0s 3ms/step - loss: 0.8248 - accuracy: 0.5981\n",
            "Epoch 26/100\n",
            "14/14 [==============================] - 0s 3ms/step - loss: 2.5537 - accuracy: 0.5816\n",
            "Epoch 27/100\n",
            "14/14 [==============================] - 0s 3ms/step - loss: 3.1410 - accuracy: 0.6052\n",
            "Epoch 28/100\n",
            "14/14 [==============================] - 0s 3ms/step - loss: 1.1576 - accuracy: 0.5532\n",
            "Epoch 29/100\n",
            "14/14 [==============================] - 0s 3ms/step - loss: 0.9472 - accuracy: 0.6099\n",
            "Epoch 30/100\n",
            "14/14 [==============================] - 0s 3ms/step - loss: 0.7007 - accuracy: 0.6217\n",
            "Epoch 31/100\n",
            "14/14 [==============================] - 0s 3ms/step - loss: 0.6665 - accuracy: 0.6714\n",
            "Epoch 32/100\n",
            "14/14 [==============================] - 0s 3ms/step - loss: 0.6224 - accuracy: 0.6572\n",
            "Epoch 33/100\n",
            "14/14 [==============================] - 0s 3ms/step - loss: 0.6210 - accuracy: 0.6809\n",
            "Epoch 34/100\n",
            "14/14 [==============================] - 0s 3ms/step - loss: 1.0460 - accuracy: 0.6147\n",
            "Epoch 35/100\n",
            "14/14 [==============================] - 0s 3ms/step - loss: 1.0854 - accuracy: 0.6383\n",
            "Epoch 36/100\n",
            "14/14 [==============================] - 0s 3ms/step - loss: 0.7098 - accuracy: 0.6738\n",
            "Epoch 37/100\n",
            "14/14 [==============================] - 0s 3ms/step - loss: 1.0006 - accuracy: 0.6265\n",
            "Epoch 38/100\n",
            "14/14 [==============================] - 0s 3ms/step - loss: 0.9422 - accuracy: 0.6028\n",
            "Epoch 39/100\n",
            "14/14 [==============================] - 0s 3ms/step - loss: 1.0420 - accuracy: 0.5981\n",
            "Epoch 40/100\n",
            "14/14 [==============================] - 0s 3ms/step - loss: 1.0798 - accuracy: 0.6478\n",
            "Epoch 41/100\n",
            "14/14 [==============================] - 0s 3ms/step - loss: 0.9763 - accuracy: 0.6241\n",
            "Epoch 42/100\n",
            "14/14 [==============================] - 0s 3ms/step - loss: 2.4319 - accuracy: 0.5745\n",
            "Epoch 43/100\n",
            "14/14 [==============================] - 0s 3ms/step - loss: 1.9834 - accuracy: 0.5745\n",
            "Epoch 44/100\n",
            "14/14 [==============================] - 0s 3ms/step - loss: 2.7777 - accuracy: 0.5816\n",
            "Epoch 45/100\n",
            "14/14 [==============================] - 0s 3ms/step - loss: 0.9825 - accuracy: 0.6312\n",
            "Epoch 46/100\n",
            "14/14 [==============================] - 0s 3ms/step - loss: 1.3363 - accuracy: 0.5887\n",
            "Epoch 47/100\n",
            "14/14 [==============================] - 0s 3ms/step - loss: 0.7788 - accuracy: 0.6525\n",
            "Epoch 48/100\n",
            "14/14 [==============================] - 0s 3ms/step - loss: 1.0708 - accuracy: 0.6217\n",
            "Epoch 49/100\n",
            "14/14 [==============================] - 0s 3ms/step - loss: 0.6230 - accuracy: 0.6690\n",
            "Epoch 50/100\n",
            "14/14 [==============================] - 0s 3ms/step - loss: 0.6858 - accuracy: 0.6785\n",
            "Epoch 51/100\n",
            "14/14 [==============================] - 0s 3ms/step - loss: 0.6517 - accuracy: 0.6832\n",
            "Epoch 52/100\n",
            "14/14 [==============================] - 0s 3ms/step - loss: 1.0471 - accuracy: 0.6501\n",
            "Epoch 53/100\n",
            "14/14 [==============================] - 0s 3ms/step - loss: 0.6208 - accuracy: 0.6903\n",
            "Epoch 54/100\n",
            "14/14 [==============================] - 0s 3ms/step - loss: 0.7950 - accuracy: 0.6738\n",
            "Epoch 55/100\n",
            "14/14 [==============================] - 0s 3ms/step - loss: 1.1403 - accuracy: 0.6359\n",
            "Epoch 56/100\n",
            "14/14 [==============================] - 0s 3ms/step - loss: 0.8097 - accuracy: 0.6454\n",
            "Epoch 57/100\n",
            "14/14 [==============================] - 0s 3ms/step - loss: 3.4080 - accuracy: 0.5839\n",
            "Epoch 58/100\n",
            "14/14 [==============================] - 0s 3ms/step - loss: 2.6597 - accuracy: 0.5934\n",
            "Epoch 59/100\n",
            "14/14 [==============================] - 0s 3ms/step - loss: 5.7415 - accuracy: 0.5390\n",
            "Epoch 60/100\n",
            "14/14 [==============================] - 0s 3ms/step - loss: 3.1567 - accuracy: 0.5721\n",
            "Epoch 61/100\n",
            "14/14 [==============================] - 0s 3ms/step - loss: 2.2557 - accuracy: 0.5177\n",
            "Epoch 62/100\n",
            "14/14 [==============================] - 0s 3ms/step - loss: 1.1319 - accuracy: 0.6123\n",
            "Epoch 63/100\n",
            "14/14 [==============================] - 0s 3ms/step - loss: 0.9489 - accuracy: 0.6525\n",
            "Epoch 64/100\n",
            "14/14 [==============================] - 0s 4ms/step - loss: 0.7003 - accuracy: 0.6667\n",
            "Epoch 65/100\n",
            "14/14 [==============================] - 0s 3ms/step - loss: 0.7291 - accuracy: 0.6785\n",
            "Epoch 66/100\n",
            "14/14 [==============================] - 0s 3ms/step - loss: 0.7601 - accuracy: 0.6548\n",
            "Epoch 67/100\n",
            "14/14 [==============================] - 0s 3ms/step - loss: 0.9418 - accuracy: 0.6832\n",
            "Epoch 68/100\n",
            "14/14 [==============================] - 0s 3ms/step - loss: 1.0380 - accuracy: 0.6501\n",
            "Epoch 69/100\n",
            "14/14 [==============================] - 0s 3ms/step - loss: 0.6455 - accuracy: 0.7045\n",
            "Epoch 70/100\n",
            "14/14 [==============================] - 0s 3ms/step - loss: 1.0066 - accuracy: 0.6430\n",
            "Epoch 71/100\n",
            "14/14 [==============================] - 0s 3ms/step - loss: 1.7717 - accuracy: 0.6194\n",
            "Epoch 72/100\n",
            "14/14 [==============================] - 0s 3ms/step - loss: 1.6030 - accuracy: 0.5863\n",
            "Epoch 73/100\n",
            "14/14 [==============================] - 0s 3ms/step - loss: 1.0311 - accuracy: 0.6359\n",
            "Epoch 74/100\n",
            "14/14 [==============================] - 0s 3ms/step - loss: 1.7777 - accuracy: 0.6194\n",
            "Epoch 75/100\n",
            "14/14 [==============================] - 0s 3ms/step - loss: 1.2495 - accuracy: 0.5981\n",
            "Epoch 76/100\n",
            "14/14 [==============================] - 0s 3ms/step - loss: 0.6757 - accuracy: 0.6572\n",
            "Epoch 77/100\n",
            "14/14 [==============================] - 0s 3ms/step - loss: 0.8459 - accuracy: 0.6856\n",
            "Epoch 78/100\n",
            "14/14 [==============================] - 0s 3ms/step - loss: 1.0348 - accuracy: 0.6312\n",
            "Epoch 79/100\n",
            "14/14 [==============================] - 0s 3ms/step - loss: 1.4139 - accuracy: 0.6501\n",
            "Epoch 80/100\n",
            "14/14 [==============================] - 0s 3ms/step - loss: 0.5811 - accuracy: 0.7069\n",
            "Epoch 81/100\n",
            "14/14 [==============================] - 0s 3ms/step - loss: 0.7544 - accuracy: 0.6643\n",
            "Epoch 82/100\n",
            "14/14 [==============================] - 0s 3ms/step - loss: 0.6529 - accuracy: 0.7139\n",
            "Epoch 83/100\n",
            "14/14 [==============================] - 0s 3ms/step - loss: 1.0391 - accuracy: 0.6596\n",
            "Epoch 84/100\n",
            "14/14 [==============================] - 0s 3ms/step - loss: 0.7551 - accuracy: 0.7069\n",
            "Epoch 85/100\n",
            "14/14 [==============================] - 0s 4ms/step - loss: 0.7419 - accuracy: 0.6950\n",
            "Epoch 86/100\n",
            "14/14 [==============================] - 0s 3ms/step - loss: 1.4949 - accuracy: 0.6454\n",
            "Epoch 87/100\n",
            "14/14 [==============================] - 0s 3ms/step - loss: 1.8308 - accuracy: 0.5768\n",
            "Epoch 88/100\n",
            "14/14 [==============================] - 0s 3ms/step - loss: 1.5604 - accuracy: 0.6336\n",
            "Epoch 89/100\n",
            "14/14 [==============================] - 0s 3ms/step - loss: 1.2565 - accuracy: 0.6099\n",
            "Epoch 90/100\n",
            "14/14 [==============================] - 0s 3ms/step - loss: 1.3117 - accuracy: 0.6170\n",
            "Epoch 91/100\n",
            "14/14 [==============================] - 0s 3ms/step - loss: 1.6052 - accuracy: 0.6336\n",
            "Epoch 92/100\n",
            "14/14 [==============================] - 0s 3ms/step - loss: 0.8697 - accuracy: 0.6430\n",
            "Epoch 93/100\n",
            "14/14 [==============================] - 0s 3ms/step - loss: 0.6311 - accuracy: 0.6950\n",
            "Epoch 94/100\n",
            "14/14 [==============================] - 0s 3ms/step - loss: 1.7471 - accuracy: 0.6383\n",
            "Epoch 95/100\n",
            "14/14 [==============================] - 0s 3ms/step - loss: 1.7218 - accuracy: 0.6052\n",
            "Epoch 96/100\n",
            "14/14 [==============================] - 0s 3ms/step - loss: 1.5510 - accuracy: 0.6667\n",
            "Epoch 97/100\n",
            "14/14 [==============================] - 0s 4ms/step - loss: 1.1855 - accuracy: 0.6359\n",
            "Epoch 98/100\n",
            "14/14 [==============================] - 0s 3ms/step - loss: 1.4393 - accuracy: 0.6076\n",
            "Epoch 99/100\n",
            "14/14 [==============================] - 0s 3ms/step - loss: 3.1256 - accuracy: 0.5981\n",
            "Epoch 100/100\n",
            "14/14 [==============================] - 0s 3ms/step - loss: 0.8550 - accuracy: 0.6430\n"
          ]
        },
        {
          "output_type": "execute_result",
          "data": {
            "text/plain": [
              "<keras.callbacks.History at 0x7fe4009914f0>"
            ]
          },
          "metadata": {},
          "execution_count": 69
        }
      ]
    },
    {
      "cell_type": "code",
      "source": [
        "modelsmteen.evaluate(xtest, ytest)"
      ],
      "metadata": {
        "colab": {
          "base_uri": "https://localhost:8080/"
        },
        "id": "U6Bl83H7KF7X",
        "outputId": "6ff9c870-45bc-494b-fcdf-195989800854"
      },
      "execution_count": 70,
      "outputs": [
        {
          "output_type": "stream",
          "name": "stdout",
          "text": [
            "4/4 [==============================] - 0s 4ms/step - loss: 0.6272 - accuracy: 0.6887\n"
          ]
        },
        {
          "output_type": "execute_result",
          "data": {
            "text/plain": [
              "[0.6271977424621582, 0.6886792182922363]"
            ]
          },
          "metadata": {},
          "execution_count": 70
        }
      ]
    },
    {
      "cell_type": "code",
      "source": [
        "yprediction =  modelsmteen.predict(xtest)\n",
        "yprediction[:6]"
      ],
      "metadata": {
        "colab": {
          "base_uri": "https://localhost:8080/"
        },
        "id": "4oYoEdEJKF5L",
        "outputId": "e7d1e404-ce11-439a-cd7e-d56339f9c409"
      },
      "execution_count": 71,
      "outputs": [
        {
          "output_type": "stream",
          "name": "stdout",
          "text": [
            "4/4 [==============================] - 0s 3ms/step\n"
          ]
        },
        {
          "output_type": "execute_result",
          "data": {
            "text/plain": [
              "array([[0.5512665 ],\n",
              "       [0.44582298],\n",
              "       [0.47606143],\n",
              "       [0.0336854 ],\n",
              "       [0.42802548],\n",
              "       [0.9912431 ]], dtype=float32)"
            ]
          },
          "metadata": {},
          "execution_count": 71
        }
      ]
    },
    {
      "cell_type": "code",
      "source": [
        "ypred = []\n",
        "for element in yprediction:\n",
        "  if element > 0.5:\n",
        "    ypred.append(1)\n",
        "  else:\n",
        "    ypred.append(0)\n",
        "ypred[:6]"
      ],
      "metadata": {
        "colab": {
          "base_uri": "https://localhost:8080/"
        },
        "id": "rUvHkHjaKFwq",
        "outputId": "050ce8f6-0d96-4e1e-d8e6-e4e7b0eee9dc"
      },
      "execution_count": 72,
      "outputs": [
        {
          "output_type": "execute_result",
          "data": {
            "text/plain": [
              "[1, 0, 0, 0, 0, 1]"
            ]
          },
          "metadata": {},
          "execution_count": 72
        }
      ]
    },
    {
      "cell_type": "code",
      "source": [
        "ytest[:6]"
      ],
      "metadata": {
        "colab": {
          "base_uri": "https://localhost:8080/"
        },
        "id": "ZMrAfIf3KFth",
        "outputId": "ffdb50fe-80d1-45fa-8aa3-6ef91bbac2ab"
      },
      "execution_count": 73,
      "outputs": [
        {
          "output_type": "execute_result",
          "data": {
            "text/plain": [
              "295    0\n",
              "75     0\n",
              "316    1\n",
              "261    0\n",
              "107    0\n",
              "450    1\n",
              "Name: Creditability, dtype: int64"
            ]
          },
          "metadata": {},
          "execution_count": 73
        }
      ]
    },
    {
      "cell_type": "code",
      "source": [
        "print(classification_report(ytest, ypred))"
      ],
      "metadata": {
        "colab": {
          "base_uri": "https://localhost:8080/"
        },
        "id": "hgoXmfDAKFrE",
        "outputId": "826c95c5-94f5-44d8-ed04-de240302ced3"
      },
      "execution_count": 74,
      "outputs": [
        {
          "output_type": "stream",
          "name": "stdout",
          "text": [
            "              precision    recall  f1-score   support\n",
            "\n",
            "           0       0.72      0.68      0.70        57\n",
            "           1       0.65      0.69      0.67        49\n",
            "\n",
            "    accuracy                           0.69       106\n",
            "   macro avg       0.69      0.69      0.69       106\n",
            "weighted avg       0.69      0.69      0.69       106\n",
            "\n"
          ]
        }
      ]
    },
    {
      "cell_type": "code",
      "source": [
        "#6.  Ensemble -> EasyEnsembleClassifier\n",
        "\n",
        "from imblearn.ensemble import EasyEnsembleClassifier\n",
        "\n",
        "dataset['Creditability'].value_counts()"
      ],
      "metadata": {
        "colab": {
          "base_uri": "https://localhost:8080/"
        },
        "id": "qzuOxomVKFoN",
        "outputId": "6fceda74-67e7-4631-8b20-c32dfe77f3cc"
      },
      "execution_count": 75,
      "outputs": [
        {
          "output_type": "execute_result",
          "data": {
            "text/plain": [
              "1    700\n",
              "0    300\n",
              "Name: Creditability, dtype: int64"
            ]
          },
          "metadata": {},
          "execution_count": 75
        }
      ]
    },
    {
      "cell_type": "code",
      "source": [
        "x = dataset.drop('Creditability', axis = 'columns')\n",
        "y = dataset['Creditability']"
      ],
      "metadata": {
        "id": "rAfRAj8TKFl1"
      },
      "execution_count": 76,
      "outputs": []
    },
    {
      "cell_type": "code",
      "source": [
        "xtrain,  xtest, ytrain, ytest = train_test_split(xsmteen, ysmteen,  test_size = 0.2, random_state = 5)\n",
        "xtrain.shape, ytrain.shape, xtest.shape, ytest.shape"
      ],
      "metadata": {
        "colab": {
          "base_uri": "https://localhost:8080/"
        },
        "id": "dw6dVYvrMEgE",
        "outputId": "97c2fd4d-06fc-4ddf-94a2-b3a7e49c4ddd"
      },
      "execution_count": 77,
      "outputs": [
        {
          "output_type": "execute_result",
          "data": {
            "text/plain": [
              "((423, 20), (423,), (106, 20), (106,))"
            ]
          },
          "metadata": {},
          "execution_count": 77
        }
      ]
    },
    {
      "cell_type": "code",
      "source": [
        "ytrain.value_counts()"
      ],
      "metadata": {
        "colab": {
          "base_uri": "https://localhost:8080/"
        },
        "id": "1AMWYueJMFGt",
        "outputId": "4646229f-429c-46a8-e7c8-162037049b5b"
      },
      "execution_count": 78,
      "outputs": [
        {
          "output_type": "execute_result",
          "data": {
            "text/plain": [
              "0    256\n",
              "1    167\n",
              "Name: Creditability, dtype: int64"
            ]
          },
          "metadata": {},
          "execution_count": 78
        }
      ]
    },
    {
      "cell_type": "code",
      "source": [
        "245/163"
      ],
      "metadata": {
        "colab": {
          "base_uri": "https://localhost:8080/"
        },
        "id": "gLqAD8iUMFEf",
        "outputId": "a7ea9f90-3cfe-425e-a022-d3e2cbabcc0a"
      },
      "execution_count": 79,
      "outputs": [
        {
          "output_type": "execute_result",
          "data": {
            "text/plain": [
              "1.5030674846625767"
            ]
          },
          "metadata": {},
          "execution_count": 79
        }
      ]
    },
    {
      "cell_type": "code",
      "source": [
        "245/2"
      ],
      "metadata": {
        "colab": {
          "base_uri": "https://localhost:8080/"
        },
        "id": "d-A7R8KUMEYG",
        "outputId": "106659c9-9990-4cc9-cb66-9a979a6ec618"
      },
      "execution_count": 80,
      "outputs": [
        {
          "output_type": "execute_result",
          "data": {
            "text/plain": [
              "122.5"
            ]
          },
          "metadata": {},
          "execution_count": 80
        }
      ]
    },
    {
      "cell_type": "code",
      "source": [
        "datasetClass0 = dataset[dataset.Creditability == 0]\n",
        "datasetClass1 = dataset[dataset.Creditability == 1]"
      ],
      "metadata": {
        "id": "7ZHAqPxkYsLQ"
      },
      "execution_count": 81,
      "outputs": []
    },
    {
      "cell_type": "code",
      "source": [
        "datasetClass0.shape, datasetClass1.shape"
      ],
      "metadata": {
        "colab": {
          "base_uri": "https://localhost:8080/"
        },
        "id": "AyFgZF33YsJM",
        "outputId": "07454fae-6247-426d-b832-e5d4ae1d23ad"
      },
      "execution_count": 82,
      "outputs": [
        {
          "output_type": "execute_result",
          "data": {
            "text/plain": [
              "((300, 21), (700, 21))"
            ]
          },
          "metadata": {},
          "execution_count": 82
        }
      ]
    },
    {
      "cell_type": "code",
      "source": [
        "def get_train_batch(datasetmaj, datasetmin, start, end):\n",
        "  datasettrain = ps.concat([datasetmaj[start:end], datasetmin], axis = 0)\n",
        "  xtrain = datasettrain.drop('Creditability', axis = 'columns')\n",
        "  ytrain = datasettrain.Creditability\n",
        "  return xtrain, ytrain"
      ],
      "metadata": {
        "id": "4fWG8nxWYsGp"
      },
      "execution_count": 83,
      "outputs": []
    },
    {
      "cell_type": "code",
      "source": [
        "import numpy as ny\n",
        "def ANN(xtrain, ytrain, Xtest, ytest, loss, weights):\n",
        "    model = keras.Sequential([\n",
        "        keras.layers.Dense(20, input_dim = 20, activation = 'relu'),\n",
        "        keras.layers.Dense(15, activation = 'relu'),\n",
        "        keras.layers.Dense(1, activation = 'sigmoid')\n",
        "    ])\n",
        "\n",
        "    model.compile(optimizer='adam', loss=loss, metrics=['accuracy'])\n",
        "    \n",
        "    if weights == -1:\n",
        "        model.fit(xtrain, ytrain, epochs=100)\n",
        "    else:\n",
        "        model.fit(xtrain, ytrain, epochs=100, class_weight = weights)\n",
        "    \n",
        "    print(model.evaluate(xtest, ytest))\n",
        "    \n",
        "    ypreds = model.predict(xtest)\n",
        "    ypreds = ny.round(ypreds)\n",
        "    \n",
        "    print(\"Classification Report: \\n\", classification_report(ytest, ypreds))\n",
        "    \n",
        "    return ypreds"
      ],
      "metadata": {
        "id": "3lHvA0aocEIZ"
      },
      "execution_count": 84,
      "outputs": []
    },
    {
      "cell_type": "code",
      "source": [
        "xtrain, ytrain  = get_train_batch(datasetClass0,  datasetClass1, 0, 233)\n",
        "ypred1 = ANN(xtrain, ytrain, xtest, ytest, 'binary_crossentropy', -1)"
      ],
      "metadata": {
        "colab": {
          "base_uri": "https://localhost:8080/"
        },
        "id": "wz-TA1VwYsEE",
        "outputId": "ea839818-8ec7-4a71-c750-c771cf5bd5de"
      },
      "execution_count": 85,
      "outputs": [
        {
          "output_type": "stream",
          "name": "stdout",
          "text": [
            "Epoch 1/100\n",
            "30/30 [==============================] - 1s 3ms/step - loss: 6.1041 - accuracy: 0.6677\n",
            "Epoch 2/100\n",
            "30/30 [==============================] - 0s 3ms/step - loss: 1.7348 - accuracy: 0.6817\n",
            "Epoch 3/100\n",
            "30/30 [==============================] - 0s 3ms/step - loss: 1.2265 - accuracy: 0.6999\n",
            "Epoch 4/100\n",
            "30/30 [==============================] - 0s 3ms/step - loss: 0.8250 - accuracy: 0.7117\n",
            "Epoch 5/100\n",
            "30/30 [==============================] - 0s 3ms/step - loss: 0.9317 - accuracy: 0.6945\n",
            "Epoch 6/100\n",
            "30/30 [==============================] - 0s 3ms/step - loss: 1.1443 - accuracy: 0.6645\n",
            "Epoch 7/100\n",
            "30/30 [==============================] - 0s 4ms/step - loss: 0.8309 - accuracy: 0.7042\n",
            "Epoch 8/100\n",
            "30/30 [==============================] - 0s 3ms/step - loss: 1.2270 - accuracy: 0.6785\n",
            "Epoch 9/100\n",
            "30/30 [==============================] - 0s 3ms/step - loss: 0.8976 - accuracy: 0.6902\n",
            "Epoch 10/100\n",
            "30/30 [==============================] - 0s 3ms/step - loss: 1.6642 - accuracy: 0.6592\n",
            "Epoch 11/100\n",
            "30/30 [==============================] - 0s 3ms/step - loss: 1.3541 - accuracy: 0.6902\n",
            "Epoch 12/100\n",
            "30/30 [==============================] - 0s 3ms/step - loss: 0.9435 - accuracy: 0.6924\n",
            "Epoch 13/100\n",
            "30/30 [==============================] - 0s 3ms/step - loss: 1.0538 - accuracy: 0.6763\n",
            "Epoch 14/100\n",
            "30/30 [==============================] - 0s 3ms/step - loss: 0.7057 - accuracy: 0.7245\n",
            "Epoch 15/100\n",
            "30/30 [==============================] - 0s 3ms/step - loss: 0.6616 - accuracy: 0.7170\n",
            "Epoch 16/100\n",
            "30/30 [==============================] - 0s 5ms/step - loss: 0.9464 - accuracy: 0.6977\n",
            "Epoch 17/100\n",
            "30/30 [==============================] - 0s 3ms/step - loss: 1.1847 - accuracy: 0.6624\n",
            "Epoch 18/100\n",
            "30/30 [==============================] - 0s 3ms/step - loss: 1.4494 - accuracy: 0.6817\n",
            "Epoch 19/100\n",
            "30/30 [==============================] - 0s 3ms/step - loss: 1.1027 - accuracy: 0.7095\n",
            "Epoch 20/100\n",
            "30/30 [==============================] - 0s 3ms/step - loss: 0.6279 - accuracy: 0.7213\n",
            "Epoch 21/100\n",
            "30/30 [==============================] - 0s 3ms/step - loss: 0.6586 - accuracy: 0.7203\n",
            "Epoch 22/100\n",
            "30/30 [==============================] - 0s 3ms/step - loss: 0.9092 - accuracy: 0.7085\n",
            "Epoch 23/100\n",
            "30/30 [==============================] - 0s 3ms/step - loss: 0.8345 - accuracy: 0.6913\n",
            "Epoch 24/100\n",
            "30/30 [==============================] - 0s 4ms/step - loss: 0.8928 - accuracy: 0.6999\n",
            "Epoch 25/100\n",
            "30/30 [==============================] - 0s 3ms/step - loss: 0.8199 - accuracy: 0.7053\n",
            "Epoch 26/100\n",
            "30/30 [==============================] - 0s 3ms/step - loss: 0.6434 - accuracy: 0.7353\n",
            "Epoch 27/100\n",
            "30/30 [==============================] - 0s 3ms/step - loss: 0.7141 - accuracy: 0.7128\n",
            "Epoch 28/100\n",
            "30/30 [==============================] - 0s 3ms/step - loss: 0.6770 - accuracy: 0.7245\n",
            "Epoch 29/100\n",
            "30/30 [==============================] - 0s 3ms/step - loss: 1.3515 - accuracy: 0.6881\n",
            "Epoch 30/100\n",
            "30/30 [==============================] - 0s 3ms/step - loss: 0.7767 - accuracy: 0.7117\n",
            "Epoch 31/100\n",
            "30/30 [==============================] - 0s 4ms/step - loss: 0.6787 - accuracy: 0.7417\n",
            "Epoch 32/100\n",
            "30/30 [==============================] - 0s 3ms/step - loss: 0.8267 - accuracy: 0.7042\n",
            "Epoch 33/100\n",
            "30/30 [==============================] - 0s 3ms/step - loss: 1.0041 - accuracy: 0.7063\n",
            "Epoch 34/100\n",
            "30/30 [==============================] - 0s 3ms/step - loss: 0.7113 - accuracy: 0.7310\n",
            "Epoch 35/100\n",
            "30/30 [==============================] - 0s 3ms/step - loss: 0.6554 - accuracy: 0.7299\n",
            "Epoch 36/100\n",
            "30/30 [==============================] - 0s 3ms/step - loss: 0.9774 - accuracy: 0.7063\n",
            "Epoch 37/100\n",
            "30/30 [==============================] - 0s 3ms/step - loss: 1.2355 - accuracy: 0.6892\n",
            "Epoch 38/100\n",
            "30/30 [==============================] - 0s 3ms/step - loss: 1.1559 - accuracy: 0.7020\n",
            "Epoch 39/100\n",
            "30/30 [==============================] - 0s 3ms/step - loss: 0.5954 - accuracy: 0.7621\n",
            "Epoch 40/100\n",
            "30/30 [==============================] - 0s 3ms/step - loss: 0.6892 - accuracy: 0.7320\n",
            "Epoch 41/100\n",
            "30/30 [==============================] - 0s 3ms/step - loss: 0.8546 - accuracy: 0.7128\n",
            "Epoch 42/100\n",
            "30/30 [==============================] - 0s 3ms/step - loss: 0.7799 - accuracy: 0.7053\n",
            "Epoch 43/100\n",
            "30/30 [==============================] - 0s 3ms/step - loss: 0.9710 - accuracy: 0.7224\n",
            "Epoch 44/100\n",
            "30/30 [==============================] - 0s 3ms/step - loss: 0.7366 - accuracy: 0.7481\n",
            "Epoch 45/100\n",
            "30/30 [==============================] - 0s 3ms/step - loss: 0.9796 - accuracy: 0.6827\n",
            "Epoch 46/100\n",
            "30/30 [==============================] - 0s 3ms/step - loss: 0.5797 - accuracy: 0.7524\n",
            "Epoch 47/100\n",
            "30/30 [==============================] - 0s 3ms/step - loss: 0.5628 - accuracy: 0.7513\n",
            "Epoch 48/100\n",
            "30/30 [==============================] - 0s 3ms/step - loss: 1.1108 - accuracy: 0.6945\n",
            "Epoch 49/100\n",
            "30/30 [==============================] - 0s 3ms/step - loss: 0.8749 - accuracy: 0.7288\n",
            "Epoch 50/100\n",
            "30/30 [==============================] - 0s 3ms/step - loss: 0.5898 - accuracy: 0.7417\n",
            "Epoch 51/100\n",
            "30/30 [==============================] - 0s 3ms/step - loss: 0.5195 - accuracy: 0.7738\n",
            "Epoch 52/100\n",
            "30/30 [==============================] - 0s 3ms/step - loss: 0.5335 - accuracy: 0.7556\n",
            "Epoch 53/100\n",
            "30/30 [==============================] - 0s 3ms/step - loss: 0.5526 - accuracy: 0.7588\n",
            "Epoch 54/100\n",
            "30/30 [==============================] - 0s 3ms/step - loss: 0.8187 - accuracy: 0.7031\n",
            "Epoch 55/100\n",
            "30/30 [==============================] - 0s 3ms/step - loss: 1.9790 - accuracy: 0.6710\n",
            "Epoch 56/100\n",
            "30/30 [==============================] - 0s 3ms/step - loss: 1.9553 - accuracy: 0.6613\n",
            "Epoch 57/100\n",
            "30/30 [==============================] - 0s 7ms/step - loss: 0.7693 - accuracy: 0.7235\n",
            "Epoch 58/100\n",
            "30/30 [==============================] - 0s 6ms/step - loss: 0.7481 - accuracy: 0.7149\n",
            "Epoch 59/100\n",
            "30/30 [==============================] - 0s 6ms/step - loss: 0.6403 - accuracy: 0.7503\n",
            "Epoch 60/100\n",
            "30/30 [==============================] - 0s 6ms/step - loss: 0.8233 - accuracy: 0.7085\n",
            "Epoch 61/100\n",
            "30/30 [==============================] - 0s 6ms/step - loss: 1.5587 - accuracy: 0.6559\n",
            "Epoch 62/100\n",
            "30/30 [==============================] - 0s 6ms/step - loss: 0.9732 - accuracy: 0.7224\n",
            "Epoch 63/100\n",
            "30/30 [==============================] - 0s 3ms/step - loss: 0.5240 - accuracy: 0.7663\n",
            "Epoch 64/100\n",
            "30/30 [==============================] - 0s 4ms/step - loss: 0.8033 - accuracy: 0.7342\n",
            "Epoch 65/100\n",
            "30/30 [==============================] - 0s 4ms/step - loss: 0.6155 - accuracy: 0.7438\n",
            "Epoch 66/100\n",
            "30/30 [==============================] - 0s 9ms/step - loss: 0.6268 - accuracy: 0.7546\n",
            "Epoch 67/100\n",
            "30/30 [==============================] - 0s 11ms/step - loss: 0.6640 - accuracy: 0.7492\n",
            "Epoch 68/100\n",
            "30/30 [==============================] - 0s 12ms/step - loss: 1.4865 - accuracy: 0.6581\n",
            "Epoch 69/100\n",
            "30/30 [==============================] - 0s 11ms/step - loss: 0.9222 - accuracy: 0.7149\n",
            "Epoch 70/100\n",
            "30/30 [==============================] - 0s 10ms/step - loss: 0.8037 - accuracy: 0.7203\n",
            "Epoch 71/100\n",
            "30/30 [==============================] - 0s 9ms/step - loss: 1.2669 - accuracy: 0.6795\n",
            "Epoch 72/100\n",
            "30/30 [==============================] - 0s 5ms/step - loss: 0.6571 - accuracy: 0.7503\n",
            "Epoch 73/100\n",
            "30/30 [==============================] - 0s 4ms/step - loss: 0.6758 - accuracy: 0.7481\n",
            "Epoch 74/100\n",
            "30/30 [==============================] - 0s 6ms/step - loss: 0.5633 - accuracy: 0.7535\n",
            "Epoch 75/100\n",
            "30/30 [==============================] - 0s 8ms/step - loss: 0.8077 - accuracy: 0.7267\n",
            "Epoch 76/100\n",
            "30/30 [==============================] - 0s 7ms/step - loss: 0.5692 - accuracy: 0.7717\n",
            "Epoch 77/100\n",
            "30/30 [==============================] - 0s 5ms/step - loss: 2.1053 - accuracy: 0.6345\n",
            "Epoch 78/100\n",
            "30/30 [==============================] - 0s 6ms/step - loss: 0.8000 - accuracy: 0.7245\n",
            "Epoch 79/100\n",
            "30/30 [==============================] - 0s 5ms/step - loss: 0.5350 - accuracy: 0.7631\n",
            "Epoch 80/100\n",
            "30/30 [==============================] - 0s 3ms/step - loss: 0.7383 - accuracy: 0.7663\n",
            "Epoch 81/100\n",
            "30/30 [==============================] - 0s 3ms/step - loss: 1.5621 - accuracy: 0.6967\n",
            "Epoch 82/100\n",
            "30/30 [==============================] - 0s 3ms/step - loss: 0.6584 - accuracy: 0.7503\n",
            "Epoch 83/100\n",
            "30/30 [==============================] - 0s 3ms/step - loss: 0.5652 - accuracy: 0.7771\n",
            "Epoch 84/100\n",
            "30/30 [==============================] - 0s 3ms/step - loss: 0.6405 - accuracy: 0.7524\n",
            "Epoch 85/100\n",
            "30/30 [==============================] - 0s 3ms/step - loss: 0.5433 - accuracy: 0.7696\n",
            "Epoch 86/100\n",
            "30/30 [==============================] - 0s 3ms/step - loss: 0.6311 - accuracy: 0.7653\n",
            "Epoch 87/100\n",
            "30/30 [==============================] - 0s 3ms/step - loss: 0.7820 - accuracy: 0.7374\n",
            "Epoch 88/100\n",
            "30/30 [==============================] - 0s 3ms/step - loss: 1.0533 - accuracy: 0.7213\n",
            "Epoch 89/100\n",
            "30/30 [==============================] - 0s 4ms/step - loss: 1.0069 - accuracy: 0.7363\n",
            "Epoch 90/100\n",
            "30/30 [==============================] - 0s 3ms/step - loss: 0.5113 - accuracy: 0.7738\n",
            "Epoch 91/100\n",
            "30/30 [==============================] - 0s 3ms/step - loss: 0.5342 - accuracy: 0.7610\n",
            "Epoch 92/100\n",
            "30/30 [==============================] - 0s 3ms/step - loss: 0.5675 - accuracy: 0.7771\n",
            "Epoch 93/100\n",
            "30/30 [==============================] - 0s 3ms/step - loss: 0.6765 - accuracy: 0.7428\n",
            "Epoch 94/100\n",
            "30/30 [==============================] - 0s 3ms/step - loss: 0.6303 - accuracy: 0.7556\n",
            "Epoch 95/100\n",
            "30/30 [==============================] - 0s 3ms/step - loss: 0.8775 - accuracy: 0.7235\n",
            "Epoch 96/100\n",
            "30/30 [==============================] - 0s 3ms/step - loss: 0.6308 - accuracy: 0.7642\n",
            "Epoch 97/100\n",
            "30/30 [==============================] - 0s 3ms/step - loss: 0.5910 - accuracy: 0.7642\n",
            "Epoch 98/100\n",
            "30/30 [==============================] - 0s 3ms/step - loss: 0.5161 - accuracy: 0.7856\n",
            "Epoch 99/100\n",
            "30/30 [==============================] - 0s 3ms/step - loss: 0.5063 - accuracy: 0.7814\n",
            "Epoch 100/100\n",
            "30/30 [==============================] - 0s 3ms/step - loss: 0.7563 - accuracy: 0.7535\n",
            "4/4 [==============================] - 0s 4ms/step - loss: 0.7395 - accuracy: 0.6509\n",
            "[0.7394864559173584, 0.650943398475647]\n",
            "4/4 [==============================] - 0s 2ms/step\n",
            "Classification Report: \n",
            "               precision    recall  f1-score   support\n",
            "\n",
            "           0       0.62      0.88      0.73        57\n",
            "           1       0.73      0.39      0.51        49\n",
            "\n",
            "    accuracy                           0.65       106\n",
            "   macro avg       0.68      0.63      0.62       106\n",
            "weighted avg       0.67      0.65      0.63       106\n",
            "\n"
          ]
        }
      ]
    },
    {
      "cell_type": "code",
      "source": [
        "xtrain, ytrain  = get_train_batch(datasetClass0,  datasetClass1, 233, 600)\n",
        "ypred2 = ANN(xtrain, ytrain, xtest, ytest, 'binary_crossentropy', -1)"
      ],
      "metadata": {
        "colab": {
          "base_uri": "https://localhost:8080/"
        },
        "id": "DUH7GzrZMRJd",
        "outputId": "bc2623c1-ce61-41c5-8a37-b4740dfe342f"
      },
      "execution_count": 86,
      "outputs": [
        {
          "output_type": "stream",
          "name": "stdout",
          "text": [
            "Epoch 1/100\n",
            "24/24 [==============================] - 1s 3ms/step - loss: 440.3743 - accuracy: 0.0874\n",
            "Epoch 2/100\n",
            "24/24 [==============================] - 0s 3ms/step - loss: 37.2942 - accuracy: 0.6597\n",
            "Epoch 3/100\n",
            "24/24 [==============================] - 0s 3ms/step - loss: 19.0576 - accuracy: 0.9126\n",
            "Epoch 4/100\n",
            "24/24 [==============================] - 0s 3ms/step - loss: 5.3175 - accuracy: 0.8409\n",
            "Epoch 5/100\n",
            "24/24 [==============================] - 0s 3ms/step - loss: 1.4352 - accuracy: 0.8553\n",
            "Epoch 6/100\n",
            "24/24 [==============================] - 0s 3ms/step - loss: 0.6633 - accuracy: 0.8696\n",
            "Epoch 7/100\n",
            "24/24 [==============================] - 0s 3ms/step - loss: 0.4518 - accuracy: 0.8944\n",
            "Epoch 8/100\n",
            "24/24 [==============================] - 0s 3ms/step - loss: 0.5597 - accuracy: 0.8696\n",
            "Epoch 9/100\n",
            "24/24 [==============================] - 0s 3ms/step - loss: 0.6919 - accuracy: 0.8918\n",
            "Epoch 10/100\n",
            "24/24 [==============================] - 0s 4ms/step - loss: 0.8995 - accuracy: 0.8761\n",
            "Epoch 11/100\n",
            "24/24 [==============================] - 0s 3ms/step - loss: 0.8379 - accuracy: 0.8657\n",
            "Epoch 12/100\n",
            "24/24 [==============================] - 0s 3ms/step - loss: 1.6633 - accuracy: 0.8618\n",
            "Epoch 13/100\n",
            "24/24 [==============================] - 0s 4ms/step - loss: 0.8905 - accuracy: 0.8722\n",
            "Epoch 14/100\n",
            "24/24 [==============================] - 0s 3ms/step - loss: 0.7253 - accuracy: 0.8735\n",
            "Epoch 15/100\n",
            "24/24 [==============================] - 0s 3ms/step - loss: 0.8126 - accuracy: 0.8892\n",
            "Epoch 16/100\n",
            "24/24 [==============================] - 0s 3ms/step - loss: 0.4056 - accuracy: 0.9061\n",
            "Epoch 17/100\n",
            "24/24 [==============================] - 0s 3ms/step - loss: 0.4629 - accuracy: 0.8879\n",
            "Epoch 18/100\n",
            "24/24 [==============================] - 0s 3ms/step - loss: 0.5944 - accuracy: 0.8853\n",
            "Epoch 19/100\n",
            "24/24 [==============================] - 0s 3ms/step - loss: 0.7886 - accuracy: 0.8866\n",
            "Epoch 20/100\n",
            "24/24 [==============================] - 0s 3ms/step - loss: 0.5825 - accuracy: 0.8683\n",
            "Epoch 21/100\n",
            "24/24 [==============================] - 0s 3ms/step - loss: 0.6063 - accuracy: 0.8944\n",
            "Epoch 22/100\n",
            "24/24 [==============================] - 0s 3ms/step - loss: 0.3731 - accuracy: 0.8905\n",
            "Epoch 23/100\n",
            "24/24 [==============================] - 0s 3ms/step - loss: 0.5100 - accuracy: 0.9022\n",
            "Epoch 24/100\n",
            "24/24 [==============================] - 0s 3ms/step - loss: 1.0550 - accuracy: 0.8514\n",
            "Epoch 25/100\n",
            "24/24 [==============================] - 0s 3ms/step - loss: 0.6345 - accuracy: 0.8814\n",
            "Epoch 26/100\n",
            "24/24 [==============================] - 0s 4ms/step - loss: 0.5391 - accuracy: 0.8905\n",
            "Epoch 27/100\n",
            "24/24 [==============================] - 0s 3ms/step - loss: 0.3670 - accuracy: 0.9009\n",
            "Epoch 28/100\n",
            "24/24 [==============================] - 0s 3ms/step - loss: 0.4821 - accuracy: 0.8892\n",
            "Epoch 29/100\n",
            "24/24 [==============================] - 0s 3ms/step - loss: 0.4783 - accuracy: 0.8944\n",
            "Epoch 30/100\n",
            "24/24 [==============================] - 0s 3ms/step - loss: 0.5207 - accuracy: 0.8670\n",
            "Epoch 31/100\n",
            "24/24 [==============================] - 0s 3ms/step - loss: 0.3674 - accuracy: 0.9061\n",
            "Epoch 32/100\n",
            "24/24 [==============================] - 0s 3ms/step - loss: 0.5973 - accuracy: 0.8827\n",
            "Epoch 33/100\n",
            "24/24 [==============================] - 0s 3ms/step - loss: 0.9927 - accuracy: 0.8631\n",
            "Epoch 34/100\n",
            "24/24 [==============================] - 0s 3ms/step - loss: 1.4333 - accuracy: 0.8748\n",
            "Epoch 35/100\n",
            "24/24 [==============================] - 0s 3ms/step - loss: 0.9556 - accuracy: 0.8827\n",
            "Epoch 36/100\n",
            "24/24 [==============================] - 0s 3ms/step - loss: 1.3266 - accuracy: 0.8579\n",
            "Epoch 37/100\n",
            "24/24 [==============================] - 0s 3ms/step - loss: 1.9743 - accuracy: 0.8292\n",
            "Epoch 38/100\n",
            "24/24 [==============================] - 0s 3ms/step - loss: 0.7786 - accuracy: 0.8735\n",
            "Epoch 39/100\n",
            "24/24 [==============================] - 0s 3ms/step - loss: 0.7334 - accuracy: 0.8592\n",
            "Epoch 40/100\n",
            "24/24 [==============================] - 0s 3ms/step - loss: 0.4363 - accuracy: 0.8814\n",
            "Epoch 41/100\n",
            "24/24 [==============================] - 0s 5ms/step - loss: 0.6076 - accuracy: 0.8814\n",
            "Epoch 42/100\n",
            "24/24 [==============================] - 0s 5ms/step - loss: 0.7557 - accuracy: 0.8683\n",
            "Epoch 43/100\n",
            "24/24 [==============================] - 0s 4ms/step - loss: 0.9186 - accuracy: 0.8592\n",
            "Epoch 44/100\n",
            "24/24 [==============================] - 0s 5ms/step - loss: 1.5369 - accuracy: 0.8540\n",
            "Epoch 45/100\n",
            "24/24 [==============================] - 0s 4ms/step - loss: 1.3158 - accuracy: 0.8579\n",
            "Epoch 46/100\n",
            "24/24 [==============================] - 0s 4ms/step - loss: 0.5063 - accuracy: 0.8801\n",
            "Epoch 47/100\n",
            "24/24 [==============================] - 0s 4ms/step - loss: 1.0445 - accuracy: 0.8631\n",
            "Epoch 48/100\n",
            "24/24 [==============================] - 0s 4ms/step - loss: 1.0625 - accuracy: 0.8449\n",
            "Epoch 49/100\n",
            "24/24 [==============================] - 0s 4ms/step - loss: 1.4273 - accuracy: 0.8305\n",
            "Epoch 50/100\n",
            "24/24 [==============================] - 0s 4ms/step - loss: 0.9368 - accuracy: 0.8931\n",
            "Epoch 51/100\n",
            "24/24 [==============================] - 0s 4ms/step - loss: 0.6790 - accuracy: 0.8892\n",
            "Epoch 52/100\n",
            "24/24 [==============================] - 0s 5ms/step - loss: 0.6021 - accuracy: 0.8761\n",
            "Epoch 53/100\n",
            "24/24 [==============================] - 0s 4ms/step - loss: 0.8470 - accuracy: 0.8618\n",
            "Epoch 54/100\n",
            "24/24 [==============================] - 0s 4ms/step - loss: 1.2224 - accuracy: 0.8449\n",
            "Epoch 55/100\n",
            "24/24 [==============================] - 0s 4ms/step - loss: 1.6487 - accuracy: 0.8761\n",
            "Epoch 56/100\n",
            "24/24 [==============================] - 0s 4ms/step - loss: 0.5867 - accuracy: 0.8931\n",
            "Epoch 57/100\n",
            "24/24 [==============================] - 0s 4ms/step - loss: 0.4937 - accuracy: 0.8905\n",
            "Epoch 58/100\n",
            "24/24 [==============================] - 0s 4ms/step - loss: 1.1919 - accuracy: 0.8709\n",
            "Epoch 59/100\n",
            "24/24 [==============================] - 0s 4ms/step - loss: 0.4597 - accuracy: 0.8840\n",
            "Epoch 60/100\n",
            "24/24 [==============================] - 0s 4ms/step - loss: 1.3253 - accuracy: 0.8331\n",
            "Epoch 61/100\n",
            "24/24 [==============================] - 0s 4ms/step - loss: 1.3208 - accuracy: 0.8670\n",
            "Epoch 62/100\n",
            "24/24 [==============================] - 0s 4ms/step - loss: 0.6156 - accuracy: 0.8761\n",
            "Epoch 63/100\n",
            "24/24 [==============================] - 0s 4ms/step - loss: 0.5964 - accuracy: 0.8774\n",
            "Epoch 64/100\n",
            "24/24 [==============================] - 0s 4ms/step - loss: 0.4416 - accuracy: 0.8957\n",
            "Epoch 65/100\n",
            "24/24 [==============================] - 0s 3ms/step - loss: 0.4783 - accuracy: 0.8905\n",
            "Epoch 66/100\n",
            "24/24 [==============================] - 0s 3ms/step - loss: 1.9518 - accuracy: 0.8331\n",
            "Epoch 67/100\n",
            "24/24 [==============================] - 0s 3ms/step - loss: 1.8785 - accuracy: 0.8357\n",
            "Epoch 68/100\n",
            "24/24 [==============================] - 0s 3ms/step - loss: 2.0876 - accuracy: 0.8670\n",
            "Epoch 69/100\n",
            "24/24 [==============================] - 0s 3ms/step - loss: 1.7955 - accuracy: 0.8566\n",
            "Epoch 70/100\n",
            "24/24 [==============================] - 0s 3ms/step - loss: 1.1411 - accuracy: 0.8670\n",
            "Epoch 71/100\n",
            "24/24 [==============================] - 0s 3ms/step - loss: 0.6188 - accuracy: 0.8761\n",
            "Epoch 72/100\n",
            "24/24 [==============================] - 0s 3ms/step - loss: 1.2617 - accuracy: 0.8579\n",
            "Epoch 73/100\n",
            "24/24 [==============================] - 0s 3ms/step - loss: 0.5005 - accuracy: 0.8931\n",
            "Epoch 74/100\n",
            "24/24 [==============================] - 0s 3ms/step - loss: 0.8921 - accuracy: 0.8605\n",
            "Epoch 75/100\n",
            "24/24 [==============================] - 0s 3ms/step - loss: 1.3767 - accuracy: 0.8501\n",
            "Epoch 76/100\n",
            "24/24 [==============================] - 0s 3ms/step - loss: 1.4508 - accuracy: 0.8787\n",
            "Epoch 77/100\n",
            "24/24 [==============================] - 0s 3ms/step - loss: 0.6404 - accuracy: 0.8814\n",
            "Epoch 78/100\n",
            "24/24 [==============================] - 0s 3ms/step - loss: 1.0747 - accuracy: 0.8709\n",
            "Epoch 79/100\n",
            "24/24 [==============================] - 0s 3ms/step - loss: 0.8689 - accuracy: 0.8774\n",
            "Epoch 80/100\n",
            "24/24 [==============================] - 0s 3ms/step - loss: 0.8524 - accuracy: 0.8761\n",
            "Epoch 81/100\n",
            "24/24 [==============================] - 0s 3ms/step - loss: 0.3821 - accuracy: 0.8983\n",
            "Epoch 82/100\n",
            "24/24 [==============================] - 0s 3ms/step - loss: 1.3103 - accuracy: 0.8735\n",
            "Epoch 83/100\n",
            "24/24 [==============================] - 0s 3ms/step - loss: 0.9332 - accuracy: 0.8592\n",
            "Epoch 84/100\n",
            "24/24 [==============================] - 0s 3ms/step - loss: 0.7314 - accuracy: 0.8566\n",
            "Epoch 85/100\n",
            "24/24 [==============================] - 0s 3ms/step - loss: 0.3770 - accuracy: 0.9022\n",
            "Epoch 86/100\n",
            "24/24 [==============================] - 0s 3ms/step - loss: 0.3770 - accuracy: 0.8970\n",
            "Epoch 87/100\n",
            "24/24 [==============================] - 0s 4ms/step - loss: 0.5024 - accuracy: 0.8787\n",
            "Epoch 88/100\n",
            "24/24 [==============================] - 0s 3ms/step - loss: 1.0653 - accuracy: 0.8592\n",
            "Epoch 89/100\n",
            "24/24 [==============================] - 0s 3ms/step - loss: 0.5217 - accuracy: 0.8748\n",
            "Epoch 90/100\n",
            "24/24 [==============================] - 0s 3ms/step - loss: 0.7757 - accuracy: 0.8748\n",
            "Epoch 91/100\n",
            "24/24 [==============================] - 0s 3ms/step - loss: 1.5582 - accuracy: 0.8553\n",
            "Epoch 92/100\n",
            "24/24 [==============================] - 0s 3ms/step - loss: 0.8625 - accuracy: 0.8592\n",
            "Epoch 93/100\n",
            "24/24 [==============================] - 0s 3ms/step - loss: 0.4859 - accuracy: 0.8996\n",
            "Epoch 94/100\n",
            "24/24 [==============================] - 0s 3ms/step - loss: 0.6416 - accuracy: 0.8722\n",
            "Epoch 95/100\n",
            "24/24 [==============================] - 0s 3ms/step - loss: 2.0286 - accuracy: 0.8748\n",
            "Epoch 96/100\n",
            "24/24 [==============================] - 0s 3ms/step - loss: 0.7424 - accuracy: 0.8709\n",
            "Epoch 97/100\n",
            "24/24 [==============================] - 0s 3ms/step - loss: 0.7494 - accuracy: 0.8748\n",
            "Epoch 98/100\n",
            "24/24 [==============================] - 0s 3ms/step - loss: 0.8413 - accuracy: 0.8670\n",
            "Epoch 99/100\n",
            "24/24 [==============================] - 0s 4ms/step - loss: 0.8356 - accuracy: 0.8827\n",
            "Epoch 100/100\n",
            "24/24 [==============================] - 0s 3ms/step - loss: 1.0130 - accuracy: 0.8644\n",
            "4/4 [==============================] - 0s 4ms/step - loss: 10.6626 - accuracy: 0.4623\n",
            "[10.662615776062012, 0.46226415038108826]\n",
            "4/4 [==============================] - 0s 2ms/step\n",
            "Classification Report: \n",
            "               precision    recall  f1-score   support\n",
            "\n",
            "           0       0.00      0.00      0.00        57\n",
            "           1       0.46      1.00      0.63        49\n",
            "\n",
            "    accuracy                           0.46       106\n",
            "   macro avg       0.23      0.50      0.32       106\n",
            "weighted avg       0.21      0.46      0.29       106\n",
            "\n"
          ]
        },
        {
          "output_type": "stream",
          "name": "stderr",
          "text": [
            "/usr/local/lib/python3.8/dist-packages/sklearn/metrics/_classification.py:1318: UndefinedMetricWarning: Precision and F-score are ill-defined and being set to 0.0 in labels with no predicted samples. Use `zero_division` parameter to control this behavior.\n",
            "  _warn_prf(average, modifier, msg_start, len(result))\n",
            "/usr/local/lib/python3.8/dist-packages/sklearn/metrics/_classification.py:1318: UndefinedMetricWarning: Precision and F-score are ill-defined and being set to 0.0 in labels with no predicted samples. Use `zero_division` parameter to control this behavior.\n",
            "  _warn_prf(average, modifier, msg_start, len(result))\n",
            "/usr/local/lib/python3.8/dist-packages/sklearn/metrics/_classification.py:1318: UndefinedMetricWarning: Precision and F-score are ill-defined and being set to 0.0 in labels with no predicted samples. Use `zero_division` parameter to control this behavior.\n",
            "  _warn_prf(average, modifier, msg_start, len(result))\n"
          ]
        }
      ]
    },
    {
      "cell_type": "code",
      "source": [
        "xtrain, ytrain  = get_train_batch(datasetClass0,  datasetClass1, 600, 700)\n",
        "ypred3 = ANN(xtrain, ytrain, xtest, ytest, 'binary_crossentropy', -1)"
      ],
      "metadata": {
        "colab": {
          "base_uri": "https://localhost:8080/"
        },
        "id": "k9Ugm9IQMRHg",
        "outputId": "d432bb75-08bf-482c-fb93-83dd0c75b2f5"
      },
      "execution_count": 87,
      "outputs": [
        {
          "output_type": "stream",
          "name": "stdout",
          "text": [
            "Epoch 1/100\n",
            "22/22 [==============================] - 0s 3ms/step - loss: 31.3647 - accuracy: 0.6229\n",
            "Epoch 2/100\n",
            "22/22 [==============================] - 0s 3ms/step - loss: 2.2480e-07 - accuracy: 1.0000\n",
            "Epoch 3/100\n",
            "22/22 [==============================] - 0s 3ms/step - loss: 9.7128e-08 - accuracy: 1.0000\n",
            "Epoch 4/100\n",
            "22/22 [==============================] - 0s 3ms/step - loss: 9.2004e-08 - accuracy: 1.0000\n",
            "Epoch 5/100\n",
            "22/22 [==============================] - 0s 3ms/step - loss: 8.8634e-08 - accuracy: 1.0000\n",
            "Epoch 6/100\n",
            "22/22 [==============================] - 0s 3ms/step - loss: 8.8557e-08 - accuracy: 1.0000\n",
            "Epoch 7/100\n",
            "22/22 [==============================] - 0s 3ms/step - loss: 8.8516e-08 - accuracy: 1.0000\n",
            "Epoch 8/100\n",
            "22/22 [==============================] - 0s 3ms/step - loss: 8.8515e-08 - accuracy: 1.0000\n",
            "Epoch 9/100\n",
            "22/22 [==============================] - 0s 4ms/step - loss: 8.8515e-08 - accuracy: 1.0000\n",
            "Epoch 10/100\n",
            "22/22 [==============================] - 0s 3ms/step - loss: 8.8515e-08 - accuracy: 1.0000\n",
            "Epoch 11/100\n",
            "22/22 [==============================] - 0s 3ms/step - loss: 8.8515e-08 - accuracy: 1.0000\n",
            "Epoch 12/100\n",
            "22/22 [==============================] - 0s 3ms/step - loss: 8.8515e-08 - accuracy: 1.0000\n",
            "Epoch 13/100\n",
            "22/22 [==============================] - 0s 3ms/step - loss: 8.8515e-08 - accuracy: 1.0000\n",
            "Epoch 14/100\n",
            "22/22 [==============================] - 0s 4ms/step - loss: 8.8515e-08 - accuracy: 1.0000\n",
            "Epoch 15/100\n",
            "22/22 [==============================] - 0s 3ms/step - loss: 8.8515e-08 - accuracy: 1.0000\n",
            "Epoch 16/100\n",
            "22/22 [==============================] - 0s 3ms/step - loss: 8.8515e-08 - accuracy: 1.0000\n",
            "Epoch 17/100\n",
            "22/22 [==============================] - 0s 3ms/step - loss: 8.8515e-08 - accuracy: 1.0000\n",
            "Epoch 18/100\n",
            "22/22 [==============================] - 0s 3ms/step - loss: 8.8515e-08 - accuracy: 1.0000\n",
            "Epoch 19/100\n",
            "22/22 [==============================] - 0s 3ms/step - loss: 8.8515e-08 - accuracy: 1.0000\n",
            "Epoch 20/100\n",
            "22/22 [==============================] - 0s 3ms/step - loss: 8.8515e-08 - accuracy: 1.0000\n",
            "Epoch 21/100\n",
            "22/22 [==============================] - 0s 3ms/step - loss: 8.8515e-08 - accuracy: 1.0000\n",
            "Epoch 22/100\n",
            "22/22 [==============================] - 0s 3ms/step - loss: 8.8515e-08 - accuracy: 1.0000\n",
            "Epoch 23/100\n",
            "22/22 [==============================] - 0s 4ms/step - loss: 8.8515e-08 - accuracy: 1.0000\n",
            "Epoch 24/100\n",
            "22/22 [==============================] - 0s 3ms/step - loss: 8.8515e-08 - accuracy: 1.0000\n",
            "Epoch 25/100\n",
            "22/22 [==============================] - 0s 3ms/step - loss: 8.8515e-08 - accuracy: 1.0000\n",
            "Epoch 26/100\n",
            "22/22 [==============================] - 0s 3ms/step - loss: 8.8514e-08 - accuracy: 1.0000\n",
            "Epoch 27/100\n",
            "22/22 [==============================] - 0s 3ms/step - loss: 8.8514e-08 - accuracy: 1.0000\n",
            "Epoch 28/100\n",
            "22/22 [==============================] - 0s 3ms/step - loss: 8.8514e-08 - accuracy: 1.0000\n",
            "Epoch 29/100\n",
            "22/22 [==============================] - 0s 3ms/step - loss: 8.8514e-08 - accuracy: 1.0000\n",
            "Epoch 30/100\n",
            "22/22 [==============================] - 0s 3ms/step - loss: 8.8514e-08 - accuracy: 1.0000\n",
            "Epoch 31/100\n",
            "22/22 [==============================] - 0s 3ms/step - loss: 8.8514e-08 - accuracy: 1.0000\n",
            "Epoch 32/100\n",
            "22/22 [==============================] - 0s 3ms/step - loss: 8.8514e-08 - accuracy: 1.0000\n",
            "Epoch 33/100\n",
            "22/22 [==============================] - 0s 3ms/step - loss: 8.8514e-08 - accuracy: 1.0000\n",
            "Epoch 34/100\n",
            "22/22 [==============================] - 0s 3ms/step - loss: 8.8514e-08 - accuracy: 1.0000\n",
            "Epoch 35/100\n",
            "22/22 [==============================] - 0s 3ms/step - loss: 8.8514e-08 - accuracy: 1.0000\n",
            "Epoch 36/100\n",
            "22/22 [==============================] - 0s 3ms/step - loss: 8.8514e-08 - accuracy: 1.0000\n",
            "Epoch 37/100\n",
            "22/22 [==============================] - 0s 3ms/step - loss: 8.8514e-08 - accuracy: 1.0000\n",
            "Epoch 38/100\n",
            "22/22 [==============================] - 0s 3ms/step - loss: 8.8514e-08 - accuracy: 1.0000\n",
            "Epoch 39/100\n",
            "22/22 [==============================] - 0s 3ms/step - loss: 8.8514e-08 - accuracy: 1.0000\n",
            "Epoch 40/100\n",
            "22/22 [==============================] - 0s 3ms/step - loss: 8.8514e-08 - accuracy: 1.0000\n",
            "Epoch 41/100\n",
            "22/22 [==============================] - 0s 3ms/step - loss: 8.8514e-08 - accuracy: 1.0000\n",
            "Epoch 42/100\n",
            "22/22 [==============================] - 0s 3ms/step - loss: 8.8514e-08 - accuracy: 1.0000\n",
            "Epoch 43/100\n",
            "22/22 [==============================] - 0s 3ms/step - loss: 8.8514e-08 - accuracy: 1.0000\n",
            "Epoch 44/100\n",
            "22/22 [==============================] - 0s 3ms/step - loss: 8.8513e-08 - accuracy: 1.0000\n",
            "Epoch 45/100\n",
            "22/22 [==============================] - 0s 3ms/step - loss: 8.8513e-08 - accuracy: 1.0000\n",
            "Epoch 46/100\n",
            "22/22 [==============================] - 0s 3ms/step - loss: 8.8513e-08 - accuracy: 1.0000\n",
            "Epoch 47/100\n",
            "22/22 [==============================] - 0s 3ms/step - loss: 8.8513e-08 - accuracy: 1.0000\n",
            "Epoch 48/100\n",
            "22/22 [==============================] - 0s 3ms/step - loss: 8.8513e-08 - accuracy: 1.0000\n",
            "Epoch 49/100\n",
            "22/22 [==============================] - 0s 3ms/step - loss: 8.8513e-08 - accuracy: 1.0000\n",
            "Epoch 50/100\n",
            "22/22 [==============================] - 0s 3ms/step - loss: 8.8513e-08 - accuracy: 1.0000\n",
            "Epoch 51/100\n",
            "22/22 [==============================] - 0s 3ms/step - loss: 8.8513e-08 - accuracy: 1.0000\n",
            "Epoch 52/100\n",
            "22/22 [==============================] - 0s 3ms/step - loss: 8.8513e-08 - accuracy: 1.0000\n",
            "Epoch 53/100\n",
            "22/22 [==============================] - 0s 3ms/step - loss: 8.8513e-08 - accuracy: 1.0000\n",
            "Epoch 54/100\n",
            "22/22 [==============================] - 0s 3ms/step - loss: 8.8513e-08 - accuracy: 1.0000\n",
            "Epoch 55/100\n",
            "22/22 [==============================] - 0s 3ms/step - loss: 8.8513e-08 - accuracy: 1.0000\n",
            "Epoch 56/100\n",
            "22/22 [==============================] - 0s 3ms/step - loss: 8.8513e-08 - accuracy: 1.0000\n",
            "Epoch 57/100\n",
            "22/22 [==============================] - 0s 3ms/step - loss: 8.8512e-08 - accuracy: 1.0000\n",
            "Epoch 58/100\n",
            "22/22 [==============================] - 0s 3ms/step - loss: 8.8512e-08 - accuracy: 1.0000\n",
            "Epoch 59/100\n",
            "22/22 [==============================] - 0s 3ms/step - loss: 8.8512e-08 - accuracy: 1.0000\n",
            "Epoch 60/100\n",
            "22/22 [==============================] - 0s 3ms/step - loss: 8.8512e-08 - accuracy: 1.0000\n",
            "Epoch 61/100\n",
            "22/22 [==============================] - 0s 3ms/step - loss: 8.8512e-08 - accuracy: 1.0000\n",
            "Epoch 62/100\n",
            "22/22 [==============================] - 0s 3ms/step - loss: 8.8512e-08 - accuracy: 1.0000\n",
            "Epoch 63/100\n",
            "22/22 [==============================] - 0s 3ms/step - loss: 8.8512e-08 - accuracy: 1.0000\n",
            "Epoch 64/100\n",
            "22/22 [==============================] - 0s 4ms/step - loss: 8.8512e-08 - accuracy: 1.0000\n",
            "Epoch 65/100\n",
            "22/22 [==============================] - 0s 3ms/step - loss: 8.8512e-08 - accuracy: 1.0000\n",
            "Epoch 66/100\n",
            "22/22 [==============================] - 0s 3ms/step - loss: 8.8512e-08 - accuracy: 1.0000\n",
            "Epoch 67/100\n",
            "22/22 [==============================] - 0s 3ms/step - loss: 8.8511e-08 - accuracy: 1.0000\n",
            "Epoch 68/100\n",
            "22/22 [==============================] - 0s 3ms/step - loss: 8.8511e-08 - accuracy: 1.0000\n",
            "Epoch 69/100\n",
            "22/22 [==============================] - 0s 3ms/step - loss: 8.8511e-08 - accuracy: 1.0000\n",
            "Epoch 70/100\n",
            "22/22 [==============================] - 0s 3ms/step - loss: 8.8511e-08 - accuracy: 1.0000\n",
            "Epoch 71/100\n",
            "22/22 [==============================] - 0s 3ms/step - loss: 8.8511e-08 - accuracy: 1.0000\n",
            "Epoch 72/100\n",
            "22/22 [==============================] - 0s 3ms/step - loss: 8.8511e-08 - accuracy: 1.0000\n",
            "Epoch 73/100\n",
            "22/22 [==============================] - 0s 3ms/step - loss: 8.8511e-08 - accuracy: 1.0000\n",
            "Epoch 74/100\n",
            "22/22 [==============================] - 0s 3ms/step - loss: 8.8510e-08 - accuracy: 1.0000\n",
            "Epoch 75/100\n",
            "22/22 [==============================] - 0s 3ms/step - loss: 8.8511e-08 - accuracy: 1.0000\n",
            "Epoch 76/100\n",
            "22/22 [==============================] - 0s 3ms/step - loss: 8.8510e-08 - accuracy: 1.0000\n",
            "Epoch 77/100\n",
            "22/22 [==============================] - 0s 3ms/step - loss: 8.8510e-08 - accuracy: 1.0000\n",
            "Epoch 78/100\n",
            "22/22 [==============================] - 0s 3ms/step - loss: 8.8509e-08 - accuracy: 1.0000\n",
            "Epoch 79/100\n",
            "22/22 [==============================] - 0s 3ms/step - loss: 8.8509e-08 - accuracy: 1.0000\n",
            "Epoch 80/100\n",
            "22/22 [==============================] - 0s 3ms/step - loss: 8.8509e-08 - accuracy: 1.0000\n",
            "Epoch 81/100\n",
            "22/22 [==============================] - 0s 3ms/step - loss: 8.8509e-08 - accuracy: 1.0000\n",
            "Epoch 82/100\n",
            "22/22 [==============================] - 0s 3ms/step - loss: 8.8509e-08 - accuracy: 1.0000\n",
            "Epoch 83/100\n",
            "22/22 [==============================] - 0s 3ms/step - loss: 8.8509e-08 - accuracy: 1.0000\n",
            "Epoch 84/100\n",
            "22/22 [==============================] - 0s 3ms/step - loss: 8.8509e-08 - accuracy: 1.0000\n",
            "Epoch 85/100\n",
            "22/22 [==============================] - 0s 4ms/step - loss: 8.8509e-08 - accuracy: 1.0000\n",
            "Epoch 86/100\n",
            "22/22 [==============================] - 0s 3ms/step - loss: 8.8508e-08 - accuracy: 1.0000\n",
            "Epoch 87/100\n",
            "22/22 [==============================] - 0s 3ms/step - loss: 8.8508e-08 - accuracy: 1.0000\n",
            "Epoch 88/100\n",
            "22/22 [==============================] - 0s 3ms/step - loss: 8.8507e-08 - accuracy: 1.0000\n",
            "Epoch 89/100\n",
            "22/22 [==============================] - 0s 3ms/step - loss: 8.8507e-08 - accuracy: 1.0000\n",
            "Epoch 90/100\n",
            "22/22 [==============================] - 0s 3ms/step - loss: 8.8507e-08 - accuracy: 1.0000\n",
            "Epoch 91/100\n",
            "22/22 [==============================] - 0s 4ms/step - loss: 8.8507e-08 - accuracy: 1.0000\n",
            "Epoch 92/100\n",
            "22/22 [==============================] - 0s 3ms/step - loss: 8.8507e-08 - accuracy: 1.0000\n",
            "Epoch 93/100\n",
            "22/22 [==============================] - 0s 3ms/step - loss: 8.8506e-08 - accuracy: 1.0000\n",
            "Epoch 94/100\n",
            "22/22 [==============================] - 0s 3ms/step - loss: 8.8506e-08 - accuracy: 1.0000\n",
            "Epoch 95/100\n",
            "22/22 [==============================] - 0s 3ms/step - loss: 8.8506e-08 - accuracy: 1.0000\n",
            "Epoch 96/100\n",
            "22/22 [==============================] - 0s 4ms/step - loss: 8.8506e-08 - accuracy: 1.0000\n",
            "Epoch 97/100\n",
            "22/22 [==============================] - 0s 3ms/step - loss: 8.8505e-08 - accuracy: 1.0000\n",
            "Epoch 98/100\n",
            "22/22 [==============================] - 0s 3ms/step - loss: 8.8505e-08 - accuracy: 1.0000\n",
            "Epoch 99/100\n",
            "22/22 [==============================] - 0s 3ms/step - loss: 8.8504e-08 - accuracy: 1.0000\n",
            "Epoch 100/100\n",
            "22/22 [==============================] - 0s 3ms/step - loss: 8.8504e-08 - accuracy: 1.0000\n",
            "4/4 [==============================] - 0s 4ms/step - loss: 119.8975 - accuracy: 0.4623\n",
            "[119.89750671386719, 0.46226415038108826]\n",
            "4/4 [==============================] - 0s 2ms/step\n",
            "Classification Report: \n",
            "               precision    recall  f1-score   support\n",
            "\n",
            "           0       0.00      0.00      0.00        57\n",
            "           1       0.46      1.00      0.63        49\n",
            "\n",
            "    accuracy                           0.46       106\n",
            "   macro avg       0.23      0.50      0.32       106\n",
            "weighted avg       0.21      0.46      0.29       106\n",
            "\n"
          ]
        },
        {
          "output_type": "stream",
          "name": "stderr",
          "text": [
            "/usr/local/lib/python3.8/dist-packages/sklearn/metrics/_classification.py:1318: UndefinedMetricWarning: Precision and F-score are ill-defined and being set to 0.0 in labels with no predicted samples. Use `zero_division` parameter to control this behavior.\n",
            "  _warn_prf(average, modifier, msg_start, len(result))\n",
            "/usr/local/lib/python3.8/dist-packages/sklearn/metrics/_classification.py:1318: UndefinedMetricWarning: Precision and F-score are ill-defined and being set to 0.0 in labels with no predicted samples. Use `zero_division` parameter to control this behavior.\n",
            "  _warn_prf(average, modifier, msg_start, len(result))\n",
            "/usr/local/lib/python3.8/dist-packages/sklearn/metrics/_classification.py:1318: UndefinedMetricWarning: Precision and F-score are ill-defined and being set to 0.0 in labels with no predicted samples. Use `zero_division` parameter to control this behavior.\n",
            "  _warn_prf(average, modifier, msg_start, len(result))\n"
          ]
        }
      ]
    },
    {
      "cell_type": "code",
      "source": [
        "ypredfinal = ypred1.copy()\n",
        "\n",
        "for i in range(len(ypred1)):\n",
        "  nones = ypred1[i] + ypred2[i] + ypred3[i]\n",
        "  if nones>1:\n",
        "    ypredfinal[i] = 1\n",
        "  else:\n",
        "      ypredfinal[i] = 0"
      ],
      "metadata": {
        "id": "71LwXtGgMRFA"
      },
      "execution_count": 88,
      "outputs": []
    },
    {
      "cell_type": "code",
      "source": [
        "print(classification_report(ytest, ypredfinal))"
      ],
      "metadata": {
        "colab": {
          "base_uri": "https://localhost:8080/"
        },
        "id": "XC9M9cYlMRCw",
        "outputId": "a1c95b34-14c6-4a27-ae2b-712ea4b36e82"
      },
      "execution_count": 89,
      "outputs": [
        {
          "output_type": "stream",
          "name": "stdout",
          "text": [
            "              precision    recall  f1-score   support\n",
            "\n",
            "           0       0.00      0.00      0.00        57\n",
            "           1       0.46      1.00      0.63        49\n",
            "\n",
            "    accuracy                           0.46       106\n",
            "   macro avg       0.23      0.50      0.32       106\n",
            "weighted avg       0.21      0.46      0.29       106\n",
            "\n"
          ]
        },
        {
          "output_type": "stream",
          "name": "stderr",
          "text": [
            "/usr/local/lib/python3.8/dist-packages/sklearn/metrics/_classification.py:1318: UndefinedMetricWarning: Precision and F-score are ill-defined and being set to 0.0 in labels with no predicted samples. Use `zero_division` parameter to control this behavior.\n",
            "  _warn_prf(average, modifier, msg_start, len(result))\n",
            "/usr/local/lib/python3.8/dist-packages/sklearn/metrics/_classification.py:1318: UndefinedMetricWarning: Precision and F-score are ill-defined and being set to 0.0 in labels with no predicted samples. Use `zero_division` parameter to control this behavior.\n",
            "  _warn_prf(average, modifier, msg_start, len(result))\n",
            "/usr/local/lib/python3.8/dist-packages/sklearn/metrics/_classification.py:1318: UndefinedMetricWarning: Precision and F-score are ill-defined and being set to 0.0 in labels with no predicted samples. Use `zero_division` parameter to control this behavior.\n",
            "  _warn_prf(average, modifier, msg_start, len(result))\n"
          ]
        }
      ]
    },
    {
      "cell_type": "code",
      "source": [],
      "metadata": {
        "id": "VDOaSzv0gdfK"
      },
      "execution_count": 89,
      "outputs": []
    }
  ]
}