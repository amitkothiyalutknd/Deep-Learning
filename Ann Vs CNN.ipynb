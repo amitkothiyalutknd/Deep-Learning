{
  "nbformat": 4,
  "nbformat_minor": 0,
  "metadata": {
    "colab": {
      "provenance": []
    },
    "kernelspec": {
      "name": "python3",
      "display_name": "Python 3"
    },
    "language_info": {
      "name": "python"
    },
    "accelerator": "GPU",
    "gpuClass": "standard"
  },
  "cells": [
    {
      "cell_type": "code",
      "execution_count": 1,
      "metadata": {
        "id": "QnXgOv6_pOpS"
      },
      "outputs": [],
      "source": [
        "import tensorflow as tw\n",
        "from tensorflow.keras import datasets, layers, models\n",
        "import matplotlib.pyplot as plt\n",
        "import numpy as ny"
      ]
    },
    {
      "cell_type": "code",
      "source": [
        "(xtrain, ytrain), (xtest, ytest) = datasets.cifar10.load_data()\n",
        "xtrain.shape, ytrain.shape, xtest.shape, ytest.shape"
      ],
      "metadata": {
        "colab": {
          "base_uri": "https://localhost:8080/"
        },
        "id": "DRJrb9QRpjm6",
        "outputId": "d6037e61-8c2c-487a-df7d-a863eaa77181"
      },
      "execution_count": 2,
      "outputs": [
        {
          "output_type": "execute_result",
          "data": {
            "text/plain": [
              "((50000, 32, 32, 3), (50000, 1), (10000, 32, 32, 3), (10000, 1))"
            ]
          },
          "metadata": {},
          "execution_count": 2
        }
      ]
    },
    {
      "cell_type": "code",
      "source": [
        "xtrain[0]"
      ],
      "metadata": {
        "colab": {
          "base_uri": "https://localhost:8080/"
        },
        "id": "AEj9tM-Hpyfz",
        "outputId": "12dafaa3-3697-42f9-9914-85f880b7a16f"
      },
      "execution_count": 3,
      "outputs": [
        {
          "output_type": "execute_result",
          "data": {
            "text/plain": [
              "array([[[ 59,  62,  63],\n",
              "        [ 43,  46,  45],\n",
              "        [ 50,  48,  43],\n",
              "        ...,\n",
              "        [158, 132, 108],\n",
              "        [152, 125, 102],\n",
              "        [148, 124, 103]],\n",
              "\n",
              "       [[ 16,  20,  20],\n",
              "        [  0,   0,   0],\n",
              "        [ 18,   8,   0],\n",
              "        ...,\n",
              "        [123,  88,  55],\n",
              "        [119,  83,  50],\n",
              "        [122,  87,  57]],\n",
              "\n",
              "       [[ 25,  24,  21],\n",
              "        [ 16,   7,   0],\n",
              "        [ 49,  27,   8],\n",
              "        ...,\n",
              "        [118,  84,  50],\n",
              "        [120,  84,  50],\n",
              "        [109,  73,  42]],\n",
              "\n",
              "       ...,\n",
              "\n",
              "       [[208, 170,  96],\n",
              "        [201, 153,  34],\n",
              "        [198, 161,  26],\n",
              "        ...,\n",
              "        [160, 133,  70],\n",
              "        [ 56,  31,   7],\n",
              "        [ 53,  34,  20]],\n",
              "\n",
              "       [[180, 139,  96],\n",
              "        [173, 123,  42],\n",
              "        [186, 144,  30],\n",
              "        ...,\n",
              "        [184, 148,  94],\n",
              "        [ 97,  62,  34],\n",
              "        [ 83,  53,  34]],\n",
              "\n",
              "       [[177, 144, 116],\n",
              "        [168, 129,  94],\n",
              "        [179, 142,  87],\n",
              "        ...,\n",
              "        [216, 184, 140],\n",
              "        [151, 118,  84],\n",
              "        [123,  92,  72]]], dtype=uint8)"
            ]
          },
          "metadata": {},
          "execution_count": 3
        }
      ]
    },
    {
      "cell_type": "code",
      "source": [
        "# plt.figure(figsize = (1, 2))\n",
        "plt.imshow(xtrain[0])"
      ],
      "metadata": {
        "colab": {
          "base_uri": "https://localhost:8080/",
          "height": 283
        },
        "id": "hKBVGA8mp6P_",
        "outputId": "f9bf48af-adfd-4c55-f941-594dc7d127a6"
      },
      "execution_count": 4,
      "outputs": [
        {
          "output_type": "execute_result",
          "data": {
            "text/plain": [
              "<matplotlib.image.AxesImage at 0x7f45d7afeee0>"
            ]
          },
          "metadata": {},
          "execution_count": 4
        },
        {
          "output_type": "display_data",
          "data": {
            "text/plain": [
              "<Figure size 432x288 with 1 Axes>"
            ],
            "image/png": "[encoded data removed]"
          },
          "metadata": {
            "needs_background": "light"
          }
        }
      ]
    },
    {
      "cell_type": "code",
      "source": [
        "classes =  ['airplane', 'automobile', 'bird', 'cat', 'deer', 'dog', 'frog', 'horse', 'ship', 'truck']"
      ],
      "metadata": {
        "id": "3tIEweuap_pb"
      },
      "execution_count": 5,
      "outputs": []
    },
    {
      "cell_type": "code",
      "source": [
        "ytrain[:5]"
      ],
      "metadata": {
        "colab": {
          "base_uri": "https://localhost:8080/"
        },
        "id": "eg3BlDikqxt0",
        "outputId": "4c9c8920-af8b-41db-d79d-967c54bfb654"
      },
      "execution_count": 6,
      "outputs": [
        {
          "output_type": "execute_result",
          "data": {
            "text/plain": [
              "array([[6],\n",
              "       [9],\n",
              "       [9],\n",
              "       [4],\n",
              "       [1]], dtype=uint8)"
            ]
          },
          "metadata": {},
          "execution_count": 6
        }
      ]
    },
    {
      "cell_type": "code",
      "source": [
        "ytrain = ytrain.reshape(-1, )\n",
        "ytrain[:5]"
      ],
      "metadata": {
        "colab": {
          "base_uri": "https://localhost:8080/"
        },
        "id": "q4VVPs8qrWEY",
        "outputId": "64d34fd6-e66b-4501-bebd-ac18881e25c8"
      },
      "execution_count": 7,
      "outputs": [
        {
          "output_type": "execute_result",
          "data": {
            "text/plain": [
              "array([6, 9, 9, 4, 1], dtype=uint8)"
            ]
          },
          "metadata": {},
          "execution_count": 7
        }
      ]
    },
    {
      "cell_type": "code",
      "source": [
        "def image(x, y, index):\n",
        "  # plt.figure(figsize = (15, 1))\n",
        "  plt.imshow(x[index])\n",
        "  plt.xlabel(classes[y[index]])\n",
        "\n",
        "image(xtrain, ytrain, 0)"
      ],
      "metadata": {
        "colab": {
          "base_uri": "https://localhost:8080/",
          "height": 280
        },
        "id": "xLqQnvoErdOt",
        "outputId": "33e14592-5414-4555-df68-cfbb6c41df6e"
      },
      "execution_count": 8,
      "outputs": [
        {
          "output_type": "display_data",
          "data": {
            "text/plain": [
              "<Figure size 432x288 with 1 Axes>"
            ],
            "image/png": "[encoded data removed]"
          },
          "metadata": {
            "needs_background": "light"
          }
        }
      ]
    },
    {
      "cell_type": "code",
      "source": [
        "image(xtrain, ytrain, 9)"
      ],
      "metadata": {
        "colab": {
          "base_uri": "https://localhost:8080/",
          "height": 280
        },
        "id": "Au4mq_fjsJK7",
        "outputId": "5d91d636-c00b-49c9-bcc6-890984c7d63d"
      },
      "execution_count": 9,
      "outputs": [
        {
          "output_type": "display_data",
          "data": {
            "text/plain": [
              "<Figure size 432x288 with 1 Axes>"
            ],
            "image/png": "[encoded data removed]"
          },
          "metadata": {
            "needs_background": "light"
          }
        }
      ]
    },
    {
      "cell_type": "code",
      "source": [
        "xtrain = xtrain/255\n",
        "xtest = xtest/255"
      ],
      "metadata": {
        "id": "pNM053-yseSq"
      },
      "execution_count": 10,
      "outputs": []
    },
    {
      "cell_type": "code",
      "source": [
        "ann = models.Sequential([\n",
        "    layers.Flatten(input_shape = (32, 32, 3)),\n",
        "    layers.Dense(3000, activation = 'relu'),\n",
        "    layers.Dense(1000, activation = 'relu'),\n",
        "    layers.Dense(10, activation = 'sigmoid')\n",
        "])\n",
        "\n",
        "ann.compile(optimizer = 'SGD', loss = 'sparse_categorical_crossentropy', metrics = ['accuracy'])\n",
        "ann.fit(xtrain, ytrain,  epochs = 10)"
      ],
      "metadata": {
        "colab": {
          "base_uri": "https://localhost:8080/"
        },
        "id": "hNwO1sPXsw-8",
        "outputId": "e4b1f340-084d-41ff-e5f4-1969f55e36f2"
      },
      "execution_count": 11,
      "outputs": [
        {
          "output_type": "stream",
          "name": "stdout",
          "text": [
            "Epoch 1/10\n",
            "1563/1563 [==============================] - 11s 6ms/step - loss: 1.8203 - accuracy: 0.3536\n",
            "Epoch 2/10\n",
            "1563/1563 [==============================] - 8s 5ms/step - loss: 1.6292 - accuracy: 0.4252\n",
            "Epoch 3/10\n",
            "1563/1563 [==============================] - 6s 4ms/step - loss: 1.5462 - accuracy: 0.4546\n",
            "Epoch 4/10\n",
            "1563/1563 [==============================] - 6s 4ms/step - loss: 1.4866 - accuracy: 0.4758\n",
            "Epoch 5/10\n",
            "1563/1563 [==============================] - 6s 4ms/step - loss: 1.4349 - accuracy: 0.4957\n",
            "Epoch 6/10\n",
            "1563/1563 [==============================] - 6s 4ms/step - loss: 1.3927 - accuracy: 0.5117\n",
            "Epoch 7/10\n",
            "1563/1563 [==============================] - 6s 4ms/step - loss: 1.3542 - accuracy: 0.5235\n",
            "Epoch 8/10\n",
            "1563/1563 [==============================] - 6s 4ms/step - loss: 1.3170 - accuracy: 0.5394\n",
            "Epoch 9/10\n",
            "1563/1563 [==============================] - 6s 4ms/step - loss: 1.2843 - accuracy: 0.5474\n",
            "Epoch 10/10\n",
            "1563/1563 [==============================] - 6s 4ms/step - loss: 1.2550 - accuracy: 0.5589\n"
          ]
        },
        {
          "output_type": "execute_result",
          "data": {
            "text/plain": [
              "<keras.callbacks.History at 0x7f45c018ea00>"
            ]
          },
          "metadata": {},
          "execution_count": 11
        }
      ]
    },
    {
      "cell_type": "code",
      "source": [
        "ann.evaluate(xtest, ytest)"
      ],
      "metadata": {
        "colab": {
          "base_uri": "https://localhost:8080/"
        },
        "id": "vVBwjIa1tpDz",
        "outputId": "5f4e2b6e-1829-4896-b88d-35530caad805"
      },
      "execution_count": 12,
      "outputs": [
        {
          "output_type": "stream",
          "name": "stdout",
          "text": [
            "313/313 [==============================] - 1s 3ms/step - loss: 1.4640 - accuracy: 0.4808\n"
          ]
        },
        {
          "output_type": "execute_result",
          "data": {
            "text/plain": [
              "[1.4640034437179565, 0.48080000281333923]"
            ]
          },
          "metadata": {},
          "execution_count": 12
        }
      ]
    },
    {
      "cell_type": "code",
      "source": [
        "from sklearn.metrics import confusion_matrix, classification_report\n",
        "import numpy as ny\n",
        "ypred = ann.predict(xtest)\n",
        "ypredclasses = [ny.argmax(element)  for element in ypred]\n",
        "\n",
        "print('Classification Report: \\n', classification_report(ytest, ypredclasses))"
      ],
      "metadata": {
        "colab": {
          "base_uri": "https://localhost:8080/"
        },
        "id": "RAANEWnUuMx5",
        "outputId": "8fc0a43b-736c-4203-ded3-17b70a54b77a"
      },
      "execution_count": 13,
      "outputs": [
        {
          "output_type": "stream",
          "name": "stdout",
          "text": [
            "313/313 [==============================] - 1s 2ms/step\n",
            "Classification Report: \n",
            "               precision    recall  f1-score   support\n",
            "\n",
            "           0       0.62      0.58      0.60      1000\n",
            "           1       0.73      0.54      0.62      1000\n",
            "           2       0.46      0.33      0.39      1000\n",
            "           3       0.23      0.75      0.35      1000\n",
            "           4       0.61      0.25      0.36      1000\n",
            "           5       0.44      0.29      0.35      1000\n",
            "           6       0.56      0.54      0.55      1000\n",
            "           7       0.74      0.39      0.51      1000\n",
            "           8       0.72      0.51      0.60      1000\n",
            "           9       0.56      0.62      0.59      1000\n",
            "\n",
            "    accuracy                           0.48     10000\n",
            "   macro avg       0.57      0.48      0.49     10000\n",
            "weighted avg       0.57      0.48      0.49     10000\n",
            "\n"
          ]
        }
      ]
    },
    {
      "cell_type": "code",
      "source": [
        "cnn = models.Sequential([\n",
        "    \n",
        "    layers.Conv2D(filters =32, kernel_size = (3, 3), activation = 'relu', input_shape = (32, 32, 3)),\n",
        "    layers.MaxPooling2D((2, 2)),\n",
        "\n",
        "    layers.Conv2D(filters = 64, kernel_size = (3, 3), activation = 'relu', input_shape = (32, 32, 3)),\n",
        "    layers.MaxPooling2D((2, 2)),\n",
        "\n",
        "    layers.Flatten(),\n",
        "    layers.Dense(3000, activation = 'relu'),\n",
        "    layers.Dense(1000, activation = 'relu'),\n",
        "    layers.Dense(10, activation = 'softmax')\n",
        "])\n",
        "\n",
        "cnn.compile(optimizer = 'adam', loss = 'sparse_categorical_crossentropy', metrics = ['accuracy'])\n",
        "cnn.fit(xtrain, ytrain,  epochs = 10)"
      ],
      "metadata": {
        "colab": {
          "base_uri": "https://localhost:8080/"
        },
        "id": "4AlqJzVuvBHt",
        "outputId": "38b271d1-ad08-47f7-a7d8-cee2ac4e0f63"
      },
      "execution_count": 14,
      "outputs": [
        {
          "output_type": "stream",
          "name": "stdout",
          "text": [
            "Epoch 1/10\n",
            "1563/1563 [==============================] - 11s 6ms/step - loss: 1.4151 - accuracy: 0.4870\n",
            "Epoch 2/10\n",
            "1563/1563 [==============================] - 8s 5ms/step - loss: 1.0089 - accuracy: 0.6465\n",
            "Epoch 3/10\n",
            "1563/1563 [==============================] - 9s 6ms/step - loss: 0.7768 - accuracy: 0.7277\n",
            "Epoch 4/10\n",
            "1563/1563 [==============================] - 8s 5ms/step - loss: 0.5659 - accuracy: 0.8011\n",
            "Epoch 5/10\n",
            "1563/1563 [==============================] - 9s 5ms/step - loss: 0.3646 - accuracy: 0.8715\n",
            "Epoch 6/10\n",
            "1563/1563 [==============================] - 8s 5ms/step - loss: 0.2228 - accuracy: 0.9223\n",
            "Epoch 7/10\n",
            "1563/1563 [==============================] - 9s 5ms/step - loss: 0.1521 - accuracy: 0.9484\n",
            "Epoch 8/10\n",
            "1563/1563 [==============================] - 8s 5ms/step - loss: 0.1296 - accuracy: 0.9567\n",
            "Epoch 9/10\n",
            "1563/1563 [==============================] - 9s 5ms/step - loss: 0.1086 - accuracy: 0.9638\n",
            "Epoch 10/10\n",
            "1563/1563 [==============================] - 8s 5ms/step - loss: 0.0969 - accuracy: 0.9678\n"
          ]
        },
        {
          "output_type": "execute_result",
          "data": {
            "text/plain": [
              "<keras.callbacks.History at 0x7f4508f92e20>"
            ]
          },
          "metadata": {},
          "execution_count": 14
        }
      ]
    },
    {
      "cell_type": "code",
      "source": [
        "cnn.evaluate(xtest, ytest)"
      ],
      "metadata": {
        "colab": {
          "base_uri": "https://localhost:8080/"
        },
        "id": "FPy-vMtHw6e7",
        "outputId": "eb48bfab-f8df-4a63-b213-142058756788"
      },
      "execution_count": 15,
      "outputs": [
        {
          "output_type": "stream",
          "name": "stdout",
          "text": [
            "313/313 [==============================] - 1s 3ms/step - loss: 1.8069 - accuracy: 0.6910\n"
          ]
        },
        {
          "output_type": "execute_result",
          "data": {
            "text/plain": [
              "[1.8068630695343018, 0.6909999847412109]"
            ]
          },
          "metadata": {},
          "execution_count": 15
        }
      ]
    },
    {
      "cell_type": "code",
      "source": [
        "ypred = cnn.predict(xtest)\n",
        "ypredclasses = [ny.argmax(element)  for element in ypred]\n",
        "\n",
        "print('Classification Report: \\n', classification_report(ytest, ypredclasses))"
      ],
      "metadata": {
        "colab": {
          "base_uri": "https://localhost:8080/"
        },
        "id": "9eLCWkNGxnoz",
        "outputId": "38c89327-4f34-4c8b-c282-3af303c8e85e"
      },
      "execution_count": 16,
      "outputs": [
        {
          "output_type": "stream",
          "name": "stdout",
          "text": [
            "313/313 [==============================] - 1s 2ms/step\n",
            "Classification Report: \n",
            "               precision    recall  f1-score   support\n",
            "\n",
            "           0       0.77      0.72      0.74      1000\n",
            "           1       0.86      0.76      0.81      1000\n",
            "           2       0.60      0.54      0.57      1000\n",
            "           3       0.53      0.41      0.46      1000\n",
            "           4       0.63      0.67      0.65      1000\n",
            "           5       0.55      0.63      0.59      1000\n",
            "           6       0.78      0.76      0.77      1000\n",
            "           7       0.72      0.78      0.75      1000\n",
            "           8       0.72      0.86      0.79      1000\n",
            "           9       0.74      0.78      0.76      1000\n",
            "\n",
            "    accuracy                           0.69     10000\n",
            "   macro avg       0.69      0.69      0.69     10000\n",
            "weighted avg       0.69      0.69      0.69     10000\n",
            "\n"
          ]
        }
      ]
    },
    {
      "cell_type": "code",
      "source": [
        "ypred = cnn.predict(xtest)\n",
        "ypred[:5]"
      ],
      "metadata": {
        "colab": {
          "base_uri": "https://localhost:8080/"
        },
        "id": "zg0n02RqxwbM",
        "outputId": "29c6bf0f-b770-4be7-897f-cf3c68bed66d"
      },
      "execution_count": 17,
      "outputs": [
        {
          "output_type": "stream",
          "name": "stdout",
          "text": [
            "313/313 [==============================] - 1s 2ms/step\n"
          ]
        },
        {
          "output_type": "execute_result",
          "data": {
            "text/plain": [
              "array([[1.6207929e-08, 7.5593844e-06, 8.2165061e-05, 9.8811209e-01,\n",
              "        4.8281599e-06, 1.1518800e-02, 2.8761127e-05, 2.8321601e-05,\n",
              "        4.7131775e-06, 2.1273638e-04],\n",
              "       [7.4308109e-04, 7.0125121e-03, 1.0086500e-08, 3.8498587e-09,\n",
              "        9.9198250e-09, 3.1310952e-09, 8.8332349e-08, 1.2031261e-10,\n",
              "        9.9151742e-01, 7.2691060e-04],\n",
              "       [2.4488117e-03, 1.1183643e-03, 3.6686521e-05, 3.1093621e-06,\n",
              "        3.9185488e-04, 1.6306402e-06, 6.3458697e-06, 4.0063664e-05,\n",
              "        9.9585849e-01, 9.4608520e-05],\n",
              "       [9.9144179e-01, 2.5256803e-09, 3.4079267e-04, 2.6071143e-07,\n",
              "        1.8059325e-06, 6.9223249e-10, 1.9087321e-09, 1.0536054e-09,\n",
              "        8.2152933e-03, 3.8715080e-09],\n",
              "       [4.3983133e-09, 9.6225385e-08, 4.7154204e-04, 4.2932816e-02,\n",
              "        9.4273525e-01, 2.6713310e-06, 1.3857336e-02, 1.4707789e-10,\n",
              "        2.4305086e-07, 1.7428777e-08]], dtype=float32)"
            ]
          },
          "metadata": {},
          "execution_count": 17
        }
      ]
    },
    {
      "cell_type": "code",
      "source": [
        "ny.argmax(ypred[0])"
      ],
      "metadata": {
        "colab": {
          "base_uri": "https://localhost:8080/"
        },
        "id": "lr_BypzyyF3_",
        "outputId": "c51616e6-b83d-4db0-9c8a-35177ea3dbe2"
      },
      "execution_count": 18,
      "outputs": [
        {
          "output_type": "execute_result",
          "data": {
            "text/plain": [
              "3"
            ]
          },
          "metadata": {},
          "execution_count": 18
        }
      ]
    },
    {
      "cell_type": "code",
      "source": [
        "yclasses = [ny.argmax(element) for element in ypred]"
      ],
      "metadata": {
        "id": "ZCsVWVAvyKEc"
      },
      "execution_count": 19,
      "outputs": []
    },
    {
      "cell_type": "code",
      "source": [
        "yclasses[:6]"
      ],
      "metadata": {
        "colab": {
          "base_uri": "https://localhost:8080/"
        },
        "id": "n_UJXJdPyUnl",
        "outputId": "c27b52de-55ef-4e8b-bdfe-a3c10ae9bca5"
      },
      "execution_count": 20,
      "outputs": [
        {
          "output_type": "execute_result",
          "data": {
            "text/plain": [
              "[3, 8, 8, 0, 4, 6]"
            ]
          },
          "metadata": {},
          "execution_count": 20
        }
      ]
    },
    {
      "cell_type": "code",
      "source": [
        "ytest = ytest.reshape(-1, )\n",
        "ytest[:6]"
      ],
      "metadata": {
        "colab": {
          "base_uri": "https://localhost:8080/"
        },
        "id": "NSJvoGr_ybJj",
        "outputId": "641248ca-de5e-40c2-c5c6-bb65bf3d06b7"
      },
      "execution_count": 21,
      "outputs": [
        {
          "output_type": "execute_result",
          "data": {
            "text/plain": [
              "array([3, 8, 8, 0, 6, 6], dtype=uint8)"
            ]
          },
          "metadata": {},
          "execution_count": 21
        }
      ]
    },
    {
      "cell_type": "code",
      "source": [
        "image(xtest, ytest, 6)"
      ],
      "metadata": {
        "colab": {
          "base_uri": "https://localhost:8080/",
          "height": 280
        },
        "id": "BZXvZq4yycfI",
        "outputId": "1eb658f6-bf37-42a5-c41c-00d7172b1222"
      },
      "execution_count": 22,
      "outputs": [
        {
          "output_type": "display_data",
          "data": {
            "text/plain": [
              "<Figure size 432x288 with 1 Axes>"
            ],
            "image/png": "[encoded data removed]"
          },
          "metadata": {
            "needs_background": "light"
          }
        }
      ]
    },
    {
      "cell_type": "code",
      "source": [
        "classes[yclasses[6]]"
      ],
      "metadata": {
        "colab": {
          "base_uri": "https://localhost:8080/",
          "height": 35
        },
        "id": "BY31urYryr7t",
        "outputId": "5c27daf0-69ea-45f1-f6b4-c87a3f2ed05f"
      },
      "execution_count": 23,
      "outputs": [
        {
          "output_type": "execute_result",
          "data": {
            "text/plain": [
              "'dog'"
            ],
            "application/vnd.google.colaboratory.intrinsic+json": {
              "type": "string"
            }
          },
          "metadata": {},
          "execution_count": 23
        }
      ]
    },
    {
      "cell_type": "code",
      "source": [],
      "metadata": {
        "id": "1A_B9cb4y1qj"
      },
      "execution_count": 23,
      "outputs": []
    }
  ]
}